{
 "cells": [
  {
   "cell_type": "markdown",
   "metadata": {
    "colab_type": "text",
    "id": "GvEmSE6vTdTS"
   },
   "source": [
    "<h1>TEXT SUMMARIZTION WITH AMAZON-REVIEWS</h1>"
   ]
  },
  {
   "cell_type": "code",
   "execution_count": 1,
   "metadata": {
    "colab": {
     "base_uri": "https://localhost:8080/",
     "height": 411
    },
    "colab_type": "code",
    "id": "O6YEZIHOYXqA",
    "outputId": "71787fc2-556f-4b98-9d7e-d199b2f8cbdd"
   },
   "outputs": [
    {
     "name": "stdout",
     "output_type": "stream",
     "text": [
      "Requirement already satisfied: tensorflow==1.15 in /usr/local/lib/python3.6/dist-packages (1.15.0)\n",
      "Requirement already satisfied: protobuf>=3.6.1 in /usr/local/lib/python3.6/dist-packages (from tensorflow==1.15) (3.10.0)\n",
      "Requirement already satisfied: astor>=0.6.0 in /usr/local/lib/python3.6/dist-packages (from tensorflow==1.15) (0.8.1)\n",
      "Requirement already satisfied: tensorboard<1.16.0,>=1.15.0 in /usr/local/lib/python3.6/dist-packages (from tensorflow==1.15) (1.15.0)\n",
      "Requirement already satisfied: termcolor>=1.1.0 in /usr/local/lib/python3.6/dist-packages (from tensorflow==1.15) (1.1.0)\n",
      "Requirement already satisfied: six>=1.10.0 in /usr/local/lib/python3.6/dist-packages (from tensorflow==1.15) (1.12.0)\n",
      "Requirement already satisfied: keras-preprocessing>=1.0.5 in /usr/local/lib/python3.6/dist-packages (from tensorflow==1.15) (1.1.2)\n",
      "Requirement already satisfied: numpy<2.0,>=1.16.0 in /usr/local/lib/python3.6/dist-packages (from tensorflow==1.15) (1.18.4)\n",
      "Requirement already satisfied: tensorflow-estimator==1.15.1 in /usr/local/lib/python3.6/dist-packages (from tensorflow==1.15) (1.15.1)\n",
      "Requirement already satisfied: opt-einsum>=2.3.2 in /usr/local/lib/python3.6/dist-packages (from tensorflow==1.15) (3.2.1)\n",
      "Requirement already satisfied: keras-applications>=1.0.8 in /usr/local/lib/python3.6/dist-packages (from tensorflow==1.15) (1.0.8)\n",
      "Requirement already satisfied: wheel>=0.26 in /usr/local/lib/python3.6/dist-packages (from tensorflow==1.15) (0.34.2)\n",
      "Requirement already satisfied: google-pasta>=0.1.6 in /usr/local/lib/python3.6/dist-packages (from tensorflow==1.15) (0.2.0)\n",
      "Requirement already satisfied: absl-py>=0.7.0 in /usr/local/lib/python3.6/dist-packages (from tensorflow==1.15) (0.9.0)\n",
      "Requirement already satisfied: grpcio>=1.8.6 in /usr/local/lib/python3.6/dist-packages (from tensorflow==1.15) (1.29.0)\n",
      "Requirement already satisfied: gast==0.2.2 in /usr/local/lib/python3.6/dist-packages (from tensorflow==1.15) (0.2.2)\n",
      "Requirement already satisfied: wrapt>=1.11.1 in /usr/local/lib/python3.6/dist-packages (from tensorflow==1.15) (1.12.1)\n",
      "Requirement already satisfied: setuptools in /usr/local/lib/python3.6/dist-packages (from protobuf>=3.6.1->tensorflow==1.15) (46.4.0)\n",
      "Requirement already satisfied: werkzeug>=0.11.15 in /usr/local/lib/python3.6/dist-packages (from tensorboard<1.16.0,>=1.15.0->tensorflow==1.15) (1.0.1)\n",
      "Requirement already satisfied: markdown>=2.6.8 in /usr/local/lib/python3.6/dist-packages (from tensorboard<1.16.0,>=1.15.0->tensorflow==1.15) (3.2.2)\n",
      "Requirement already satisfied: h5py in /usr/local/lib/python3.6/dist-packages (from keras-applications>=1.0.8->tensorflow==1.15) (2.10.0)\n",
      "Requirement already satisfied: importlib-metadata; python_version < \"3.8\" in /usr/local/lib/python3.6/dist-packages (from markdown>=2.6.8->tensorboard<1.16.0,>=1.15.0->tensorflow==1.15) (1.6.0)\n",
      "Requirement already satisfied: zipp>=0.5 in /usr/local/lib/python3.6/dist-packages (from importlib-metadata; python_version < \"3.8\"->markdown>=2.6.8->tensorboard<1.16.0,>=1.15.0->tensorflow==1.15) (3.1.0)\n"
     ]
    }
   ],
   "source": [
    "from distutils.version import LooseVersion\n",
    "import tensorflow as tf\n",
    "from tensorflow.python.layers.core import Dense\n",
    "\n",
    "\n",
    "# Check TensorFlow Version\n",
    "assert LooseVersion(tf.__version__) >= LooseVersion('1.1'), 'Please use TensorFlow version 1.1 or newer'\n",
    "!python3.6 -m pip install tensorflow==1.15"
   ]
  },
  {
   "cell_type": "code",
   "execution_count": 2,
   "metadata": {
    "colab": {
     "base_uri": "https://localhost:8080/",
     "height": 33
    },
    "colab_type": "code",
    "id": "Nu3dP2ypavXH",
    "outputId": "1a99c220-d898-41a7-99a2-cf38533487d2"
   },
   "outputs": [
    {
     "name": "stdout",
     "output_type": "stream",
     "text": [
      "1.15.0\n"
     ]
    }
   ],
   "source": [
    "import tensorflow as tf\n",
    "print(tf.__version__)\n"
   ]
  },
  {
   "cell_type": "code",
   "execution_count": 0,
   "metadata": {
    "_cell_guid": "3aee62b9-47ce-e416-5816-8df7126fe690",
    "colab": {},
    "colab_type": "code",
    "id": "FQ7ytEbpTdTV"
   },
   "outputs": [],
   "source": [
    "import pandas as pd\n",
    "import tensorflow as tf\n",
    "import numpy as np\n",
    "import gzip\n",
    "import codecs\n",
    "import re\n",
    "import time\n",
    "from tensorflow.python.ops.rnn_cell_impl import _zero_state_tensors\n",
    "from tensorflow.python.layers.core import Dense\n",
    "from tensorflow.contrib.rnn import GRUCell, DropoutWrapper\n",
    "from tensorflow.contrib.seq2seq import TrainingHelper, GreedyEmbeddingHelper,BasicDecoder, dynamic_decode, \\\n",
    " BahdanauAttention, AttentionWrapper,sequence_loss\n",
    "import helper\n",
    "\n",
    "TOKEN_GO = '<GO>'\n",
    "TOKEN_EOS = '<EOS>'\n",
    "TOKEN_PAD = '<PAD>'\n",
    "TOKEN_UNK = '<UNK>'"
   ]
  },
  {
   "cell_type": "code",
   "execution_count": 4,
   "metadata": {
    "colab": {
     "base_uri": "https://localhost:8080/",
     "height": 82
    },
    "colab_type": "code",
    "id": "flWSMJRkztR4",
    "outputId": "3afa8bcc-cad6-45f0-c180-7eb830ffac9c"
   },
   "outputs": [
    {
     "name": "stdout",
     "output_type": "stream",
     "text": [
      "[nltk_data] Downloading package punkt to /root/nltk_data...\n",
      "[nltk_data]   Package punkt is already up-to-date!\n",
      "[nltk_data] Downloading package stopwords to /root/nltk_data...\n",
      "[nltk_data]   Package stopwords is already up-to-date!\n"
     ]
    }
   ],
   "source": [
    "import nltk\n",
    "nltk.download('punkt')\n",
    "nltk.download('stopwords')\n",
    "from nltk.corpus import stopwords \n",
    "from nltk.tokenize import word_tokenize \n",
    "from numpy import linalg as LA"
   ]
  },
  {
   "cell_type": "code",
   "execution_count": 5,
   "metadata": {
    "colab": {
     "base_uri": "https://localhost:8080/",
     "height": 33
    },
    "colab_type": "code",
    "id": "O9dyYsyuVIAg",
    "outputId": "62097973-2938-4956-8e65-0ab5b1e65a83"
   },
   "outputs": [
    {
     "name": "stdout",
     "output_type": "stream",
     "text": [
      "Drive already mounted at /content/gdrive/; to attempt to forcibly remount, call drive.mount(\"/content/gdrive/\", force_remount=True).\n"
     ]
    }
   ],
   "source": [
    "from google.colab import drive\n",
    "drive.mount('/content/gdrive/')"
   ]
  },
  {
   "cell_type": "code",
   "execution_count": 6,
   "metadata": {
    "colab": {
     "base_uri": "https://localhost:8080/",
     "height": 50
    },
    "colab_type": "code",
    "id": "vLDd9ViBV8aX",
    "outputId": "4343f2ea-c77e-4d8b-e17b-9d08ea49bd7d"
   },
   "outputs": [
    {
     "name": "stdout",
     "output_type": "stream",
     "text": [
      "rm: cannot remove '/content/gdrive/My': No such file or directory\n",
      "rm: cannot remove 'Drive/best*': No such file or directory\n"
     ]
    }
   ],
   "source": [
    "import os\n",
    "os.listdir('/content/gdrive/My Drive')\n",
    "! rm /content/gdrive/My Drive/best*"
   ]
  },
  {
   "cell_type": "code",
   "execution_count": 0,
   "metadata": {
    "_cell_guid": "654175ff-07c7-455d-1b8f-d702cee211c4",
    "colab": {},
    "colab_type": "code",
    "id": "gRkJ05iHTdTh"
   },
   "outputs": [],
   "source": [
    "#titledata=[]\n",
    "#artdata=[]\n",
    "#with gzip.open('/content/gdrive/My Drive/news.txt.gz') as artfile:\n",
    "#    for li in artfile:\n",
    "#        artdata.append(li.decode())\n",
    "#with gzip.open('/content/gdrive/My Drive/summary.txt.gz') as titlefile:\n",
    "#    for li in titlefile:\n",
    "#        titledata.append(li.decode())\n",
    "#news = pd.DataFrame({'Text':artdata,'Summary':titledata})\n",
    "#news = news.sample(frac=0.5)\n",
    "#news['Text_len'] = news.Text.apply(lambda x: len(x.split()))\n",
    "#news['Summary_len'] = news.Summary.apply(lambda x: len(x.split()))"
   ]
  },
  {
   "cell_type": "code",
   "execution_count": 0,
   "metadata": {
    "colab": {},
    "colab_type": "code",
    "id": "F9pKvHHzGNv7"
   },
   "outputs": [],
   "source": [
    "data_new=pd.read_csv('/content/gdrive/My Drive/data_new.csv')"
   ]
  },
  {
   "cell_type": "code",
   "execution_count": 9,
   "metadata": {
    "colab": {
     "base_uri": "https://localhost:8080/",
     "height": 191
    },
    "colab_type": "code",
    "id": "5fY2Sfu7Gs2H",
    "outputId": "f41b3395-0730-488b-f576-94dd576ef51f"
   },
   "outputs": [
    {
     "data": {
      "text/html": [
       "<div>\n",
       "<style scoped>\n",
       "    .dataframe tbody tr th:only-of-type {\n",
       "        vertical-align: middle;\n",
       "    }\n",
       "\n",
       "    .dataframe tbody tr th {\n",
       "        vertical-align: top;\n",
       "    }\n",
       "\n",
       "    .dataframe thead th {\n",
       "        text-align: right;\n",
       "    }\n",
       "</style>\n",
       "<table border=\"1\" class=\"dataframe\">\n",
       "  <thead>\n",
       "    <tr style=\"text-align: right;\">\n",
       "      <th></th>\n",
       "      <th>Text</th>\n",
       "      <th>Summary</th>\n",
       "      <th>Text_len</th>\n",
       "      <th>Summary_len</th>\n",
       "    </tr>\n",
       "  </thead>\n",
       "  <tbody>\n",
       "    <tr>\n",
       "      <th>0</th>\n",
       "      <td>bought several vitality canned dog food produc...</td>\n",
       "      <td>good quality dog food</td>\n",
       "      <td>23</td>\n",
       "      <td>4</td>\n",
       "    </tr>\n",
       "    <tr>\n",
       "      <th>1</th>\n",
       "      <td>product arrived labeled jumbo salted peanuts p...</td>\n",
       "      <td>not as advertised</td>\n",
       "      <td>18</td>\n",
       "      <td>3</td>\n",
       "    </tr>\n",
       "    <tr>\n",
       "      <th>2</th>\n",
       "      <td>confection around centuries light pillowy citr...</td>\n",
       "      <td>delight says it all</td>\n",
       "      <td>39</td>\n",
       "      <td>4</td>\n",
       "    </tr>\n",
       "    <tr>\n",
       "      <th>3</th>\n",
       "      <td>looking secret ingredient robitussin believe f...</td>\n",
       "      <td>cough medicine</td>\n",
       "      <td>17</td>\n",
       "      <td>2</td>\n",
       "    </tr>\n",
       "    <tr>\n",
       "      <th>4</th>\n",
       "      <td>great taffy great price wide assortment yummy ...</td>\n",
       "      <td>great taffy</td>\n",
       "      <td>13</td>\n",
       "      <td>2</td>\n",
       "    </tr>\n",
       "  </tbody>\n",
       "</table>\n",
       "</div>"
      ],
      "text/plain": [
       "                                                Text  ... Summary_len\n",
       "0  bought several vitality canned dog food produc...  ...           4\n",
       "1  product arrived labeled jumbo salted peanuts p...  ...           3\n",
       "2  confection around centuries light pillowy citr...  ...           4\n",
       "3  looking secret ingredient robitussin believe f...  ...           2\n",
       "4  great taffy great price wide assortment yummy ...  ...           2\n",
       "\n",
       "[5 rows x 4 columns]"
      ]
     },
     "execution_count": 9,
     "metadata": {
      "tags": []
     },
     "output_type": "execute_result"
    }
   ],
   "source": [
    "news=data_new[['cleaned_text','cleaned_summary']]\n",
    "news=news.rename(columns={'cleaned_text':'Text','cleaned_summary':'Summary'})\n",
    "news['Text_len'] = news.Text.apply(lambda x: len(x.split()))\n",
    "news['Summary_len'] = news.Summary.apply(lambda x: len(x.split()))\n",
    "news.head()"
   ]
  },
  {
   "cell_type": "code",
   "execution_count": 10,
   "metadata": {
    "colab": {
     "base_uri": "https://localhost:8080/",
     "height": 151
    },
    "colab_type": "code",
    "id": "Rxa-JA_QTdT8",
    "outputId": "bbaf36b2-1ce4-4ecd-b53f-30b0102fc71d"
   },
   "outputs": [
    {
     "name": "stdout",
     "output_type": "stream",
     "text": [
      "['bought several vitality canned dog food products found good quality product looks like stew processed meat smells better labrador finicky appreciates product better'\n",
      " 'product arrived labeled jumbo salted peanuts peanuts actually small sized unsalted sure error vendor intended represent product jumbo'\n",
      " 'confection around centuries light pillowy citrus gelatin nuts case filberts cut tiny squares liberally coated powdered sugar tiny mouthful heaven chewy flavorful highly recommend yummy treat familiar story lewis lion witch wardrobe treat seduces edmund selling brother sisters witch'\n",
      " 'looking secret ingredient robitussin believe found got addition root beer extract ordered made cherry soda flavor medicinal'\n",
      " 'great taffy great price wide assortment yummy taffy delivery quick taffy lover deal']\n",
      "['good quality dog food ' 'not as advertised ' 'delight says it all '\n",
      " 'cough medicine ' 'great taffy ']\n"
     ]
    }
   ],
   "source": [
    "print(news['Text'].head(5).values)\n",
    "print(news['Summary'].head(5).values)"
   ]
  },
  {
   "cell_type": "code",
   "execution_count": 0,
   "metadata": {
    "_cell_guid": "48f10124-4c1b-1f09-512d-352c068de1b4",
    "colab": {},
    "colab_type": "code",
    "id": "ZHaGwlh2TdUI"
   },
   "outputs": [],
   "source": [
    "news_summaries = []\n",
    "for summary in news.Summary:\n",
    "    news_summaries.append(summary)\n",
    "news_texts = []\n",
    "for text in news.Text:\n",
    "    news_texts.append(text)"
   ]
  },
  {
   "cell_type": "code",
   "execution_count": 0,
   "metadata": {
    "_cell_guid": "3f980247-3c32-240d-7d3d-7b0c3c6c13e5",
    "colab": {},
    "colab_type": "code",
    "id": "yHNDse2lTdUT"
   },
   "outputs": [],
   "source": [
    "def count_words(words_dict, text):\n",
    "    for sentence in text:\n",
    "        for word in sentence.split():\n",
    "            if word not in words_dict:\n",
    "                words_dict[word] = 1\n",
    "            else:\n",
    "                words_dict[word] += 1"
   ]
  },
  {
   "cell_type": "code",
   "execution_count": 13,
   "metadata": {
    "_cell_guid": "3e9ce130-88f4-8779-5b5f-86f2a23ab347",
    "colab": {
     "base_uri": "https://localhost:8080/",
     "height": 33
    },
    "colab_type": "code",
    "id": "_P7WgumjTdUe",
    "outputId": "a676a91c-141b-4ddc-dacc-b780b2c6570d"
   },
   "outputs": [
    {
     "name": "stdout",
     "output_type": "stream",
     "text": [
      "Total words in Vocabulary: 56955\n"
     ]
    }
   ],
   "source": [
    "word_counts_dict = {}\n",
    "count_words(word_counts_dict, news_summaries)\n",
    "count_words(word_counts_dict, news_texts)\n",
    "            \n",
    "print(\"Total words in Vocabulary:\", len(word_counts_dict))"
   ]
  },
  {
   "cell_type": "code",
   "execution_count": 0,
   "metadata": {
    "colab": {},
    "colab_type": "code",
    "id": "xVNOZbIGqBHH"
   },
   "outputs": [],
   "source": [
    "if 'cc.en.300.vec' not in os.listdir('/content/'):\n",
    "  !cp /content/gdrive/My\\ Drive/cc.en.300.vec.gz /content/\n",
    "  !gunzip /content/cc.en.300.vec.gz\n"
   ]
  },
  {
   "cell_type": "code",
   "execution_count": 0,
   "metadata": {
    "colab": {},
    "colab_type": "code",
    "id": "QY8Sk4lWpYLC"
   },
   "outputs": [],
   "source": [
    "#if 'glove.6B.50d.txt' not in os.listdir('/content/'):\n",
    "#  !unzip /content/gdrive/My\\ Drive/glove6b50dtxt.zip"
   ]
  },
  {
   "cell_type": "code",
   "execution_count": 0,
   "metadata": {
    "colab": {},
    "colab_type": "code",
    "id": "BGdGuM_NTdUm"
   },
   "outputs": [],
   "source": [
    "def build_word_vector_matrix(vector_file):\n",
    "    embedding_index = {}\n",
    "    with codecs.open(vector_file, 'r', 'utf-8') as f:\n",
    "        for i, line in enumerate(f):\n",
    "            sr = line.split()\n",
    "            if(len(sr)<26):\n",
    "                continue\n",
    "            word = sr[0]\n",
    "            embedding = np.asarray(sr[1:], dtype='float32')\n",
    "            embedding_index[word] = embedding\n",
    "    return embedding_index\n",
    "# Replace the path here to point to the glove.6B.50d.txt vectors file on your system\n",
    "#embeddings_index = build_word_vector_matrix('/content/glove.6B.50d.txt')\n",
    "embeddings_index = build_word_vector_matrix('/content/cc.en.300.vec')\n",
    "                    "
   ]
  },
  {
   "cell_type": "code",
   "execution_count": 0,
   "metadata": {
    "_cell_guid": "0be42a13-70b2-e9cc-7468-1247b01f109c",
    "colab": {},
    "colab_type": "code",
    "id": "VdDgF69WTdUw"
   },
   "outputs": [],
   "source": [
    "word2int = {} \n",
    "count_threshold = 20\n",
    "value = 0\n",
    "for word, count in word_counts_dict.items():\n",
    "    if count >= count_threshold or word in embeddings_index:\n",
    "        word2int[word] = value\n",
    "        value += 1\n",
    "\n",
    "\n",
    "special_codes = [TOKEN_UNK,TOKEN_PAD,TOKEN_EOS,TOKEN_GO]   \n",
    "\n",
    "for code in special_codes:\n",
    "    word2int[code] = len(word2int)\n",
    "\n",
    "int2word = {}\n",
    "for word, value in word2int.items():\n",
    "    int2word[value] = word"
   ]
  },
  {
   "cell_type": "code",
   "execution_count": 18,
   "metadata": {
    "_cell_guid": "4401990d-4baf-3f30-becc-3a6149716b56",
    "colab": {
     "base_uri": "https://localhost:8080/",
     "height": 33
    },
    "colab_type": "code",
    "id": "f4KKWkrTTdU3",
    "outputId": "246a593b-5f59-40b3-da70-980f3c71650e"
   },
   "outputs": [
    {
     "name": "stdout",
     "output_type": "stream",
     "text": [
      "Length of word embeddings:  43127\n"
     ]
    }
   ],
   "source": [
    "embedding_dim = 300\n",
    "nwords = len(word2int)\n",
    "\n",
    "word_emb_matrix = np.zeros((nwords, embedding_dim), dtype=np.float32)\n",
    "for word, i in word2int.items():\n",
    "    if word in embeddings_index:\n",
    "        word_emb_matrix[i] = embeddings_index[word]\n",
    "    else:\n",
    "        new_embedding = np.array(np.random.uniform(-1.0, 1.0, embedding_dim))\n",
    "        word_emb_matrix[i] = new_embedding\n",
    "print(\"Length of word embeddings: \", len(word_emb_matrix))"
   ]
  },
  {
   "cell_type": "code",
   "execution_count": 0,
   "metadata": {
    "_cell_guid": "25cfd0e3-ae3d-8728-1c82-1a61bb06aa0e",
    "colab": {},
    "colab_type": "code",
    "id": "x_n1GMkcTdU_"
   },
   "outputs": [],
   "source": [
    "def convert_sentence_to_ids(text, eos=False):\n",
    "    wordints = []\n",
    "    word_count = 0\n",
    "    for sentence in text:\n",
    "        sentence2ints = []\n",
    "        for word in sentence.split():\n",
    "            word_count += 1\n",
    "            if word in word2int:\n",
    "                sentence2ints.append(word2int[word])\n",
    "            else:\n",
    "                sentence2ints.append(word2int[TOKEN_UNK])\n",
    "        if eos:\n",
    "            sentence2ints.append(word2int[TOKEN_EOS])\n",
    "        wordints.append(sentence2ints)\n",
    "    return wordints, word_count"
   ]
  },
  {
   "cell_type": "code",
   "execution_count": 0,
   "metadata": {
    "_cell_guid": "360cfdf4-ad4c-0316-56d3-70b6206e75e4",
    "colab": {},
    "colab_type": "code",
    "id": "umsLAGX2TdVJ"
   },
   "outputs": [],
   "source": [
    "id_summaries, word_count = convert_sentence_to_ids(news_summaries)\n",
    "id_texts, word_count = convert_sentence_to_ids(news_texts, eos=True)"
   ]
  },
  {
   "cell_type": "code",
   "execution_count": 0,
   "metadata": {
    "_cell_guid": "2a0ae7cd-a845-23dc-3563-ad133e2f02b4",
    "colab": {},
    "colab_type": "code",
    "id": "mPyYg9N3TdVV"
   },
   "outputs": [],
   "source": [
    "def unknown_tokens(sentence):\n",
    "    unk_token_count = 0\n",
    "    for word in sentence:\n",
    "        if word == word2int[TOKEN_UNK]:\n",
    "            unk_token_count += 1\n",
    "    return unk_token_count"
   ]
  },
  {
   "cell_type": "code",
   "execution_count": 0,
   "metadata": {
    "_cell_guid": "50d631a2-fb5a-bb0d-6155-9cd15e70835b",
    "colab": {},
    "colab_type": "code",
    "id": "93RbMaQCTdVc"
   },
   "outputs": [],
   "source": [
    "news_summaries_filtered = []\n",
    "news_texts_filtered = []\n",
    "max_text_length = int(news.Text_len.mean() + news.Text_len.std())\n",
    "max_summary_length = int(int(news.Summary_len.mean() + news.Summary_len.std()))\n",
    "min_length = 4\n",
    "unknown_token_text_limit = 10\n",
    "unknown_token_summary_limit = 4\n",
    "\n",
    "for count,text in enumerate(id_texts):\n",
    "    unknown_token_text = unknown_tokens(id_texts[count])\n",
    "    unknown_token_summary = unknown_tokens(id_summaries[count])\n",
    "    text_len = len(id_texts[count])\n",
    "    summary_len = len(id_summaries[count])\n",
    "    if((unknown_token_text>unknown_token_text_limit) or (unknown_token_summary>unknown_token_summary_limit)):\n",
    "        continue\n",
    "    if(text_len<min_length or summary_len<min_length or text_len>max_text_length or summary_len>max_summary_length):\n",
    "        continue\n",
    "    news_summaries_filtered.append(id_summaries[count])\n",
    "    news_texts_filtered.append(id_texts[count])"
   ]
  },
  {
   "cell_type": "code",
   "execution_count": 0,
   "metadata": {
    "_cell_guid": "34d28c5f-8016-6b36-664e-3d5ee3db745d",
    "colab": {},
    "colab_type": "code",
    "id": "xuL2rU6mTdVk"
   },
   "outputs": [],
   "source": [
    "def model_inputs():\n",
    "    inputs_data = tf.placeholder(tf.int32, [None, None], name='input_data')\n",
    "    targets = tf.placeholder(tf.int32, [None, None], name='targets')\n",
    "    learning_rate = tf.placeholder(tf.float32, name='learning_rate')\n",
    "    dropout_probs = tf.placeholder(tf.float32, name='dropout_probs')\n",
    "    summary_len = tf.placeholder(tf.int32, (None,), name='summary_len')\n",
    "    max_summary_len = tf.reduce_max(summary_len, name='max_summary_len')\n",
    "    text_len = tf.placeholder(tf.int32, (None,), name='text_len')\n",
    "    return inputs_data, targets, learning_rate, dropout_probs, summary_len, max_summary_len, text_len"
   ]
  },
  {
   "cell_type": "code",
   "execution_count": 0,
   "metadata": {
    "_cell_guid": "9c9b6087-3c28-478d-d311-4213e1c59654",
    "colab": {},
    "colab_type": "code",
    "id": "ANIGHjdQTdVr"
   },
   "outputs": [],
   "source": [
    "def process_encoding_input(target_data, word2int, batch_size):\n",
    "    ending = tf.strided_slice(target_data, [0, 0], [batch_size, -1], [1, 1])\n",
    "    decoding_input = tf.concat([tf.fill([batch_size, 1], word2int[TOKEN_GO]), ending], 1)\n",
    "    return decoding_input"
   ]
  },
  {
   "cell_type": "code",
   "execution_count": 0,
   "metadata": {
    "_cell_guid": "d675562b-a9e0-df71-6979-a052fb78dcbc",
    "colab": {},
    "colab_type": "code",
    "id": "4-nmhhyfTdVz"
   },
   "outputs": [],
   "source": [
    "def get_cell(csize,dprob):\n",
    "    rnc = GRUCell(csize)\n",
    "    rnc = DropoutWrapper(rnc, input_keep_prob = dprob)\n",
    "    return rnc\n",
    "\n",
    "def encoding_layer(csize, len_s, nl, rinp, dprob):\n",
    "    for l in range(nl):\n",
    "        with tf.variable_scope('encoding_l_{}'.format(l)):\n",
    "            rnn_frnt = get_cell(csize,dprob)\n",
    "            rnn_bkwd = get_cell(csize,dprob)\n",
    "            eop, est = tf.nn.bidirectional_dynamic_rnn(rnn_frnt, rnn_bkwd, \n",
    "                                                                    rinp,\n",
    "                                                                    len_s,\n",
    "                                                                    dtype=tf.float32)\n",
    "    eop = tf.concat(eop,nl)\n",
    "    return eop, est"
   ]
  },
  {
   "cell_type": "code",
   "execution_count": 0,
   "metadata": {
    "_cell_guid": "524d0246-ddae-b485-5ea4-11ad476447f4",
    "colab": {},
    "colab_type": "code",
    "id": "OBSH-yfcTdV-"
   },
   "outputs": [],
   "source": [
    "def trng_dec_layer(dec_emb_inp, summ_len, cell_dec, st_init, lyr_op, \n",
    "                            v_size, max_summ_len):\n",
    "    helper = TrainingHelper(inputs=dec_emb_inp,sequence_length=summ_len, time_major=False)\n",
    "    dec = BasicDecoder(cell_dec,helper,st_init,lyr_op) \n",
    "    logits, _, _ = dynamic_decode(dec,output_time_major=False,impute_finished=True, \n",
    "                                  maximum_iterations=max_summ_len)\n",
    "    return logits"
   ]
  },
  {
   "cell_type": "code",
   "execution_count": 0,
   "metadata": {
    "_cell_guid": "6044b206-7f27-5304-4896-06d388af0949",
    "colab": {},
    "colab_type": "code",
    "id": "ExxIWv2YTdWK"
   },
   "outputs": [],
   "source": [
    "def infr_dec_layer(embeddings, start_token, end_token, decoding_cell, initial_state, op_layer,\n",
    "                             max_summary_len, batch_size):\n",
    "    \n",
    "    start_tokens = tf.tile(tf.constant([start_token], dtype=tf.int32), [batch_size], name='start_tokens')\n",
    "    inf_helper = GreedyEmbeddingHelper(embeddings,start_tokens,end_token)\n",
    "    inf_decoder = BasicDecoder(decoding_cell,inf_helper,initial_state,op_layer)       \n",
    "    inf_logits, _, _ = dynamic_decode(inf_decoder,output_time_major=False,impute_finished=True,\n",
    "                                                            maximum_iterations=max_summary_len)\n",
    "    return inf_logits"
   ]
  },
  {
   "cell_type": "code",
   "execution_count": 0,
   "metadata": {
    "_cell_guid": "4b50746f-8f78-0253-9178-56c62e4ac1bf",
    "colab": {},
    "colab_type": "code",
    "id": "IcMgwE8oTdWd"
   },
   "outputs": [],
   "source": [
    "def decoding_layer(dec_emb_op, embs, enc_op, enc_st, v_size, txt_len, \n",
    "                   summ_len,mx_summ_len, rnsize, word2int, dprob, batch_size, nlyrs):\n",
    "    \n",
    "    for l in range(nlyrs):\n",
    "        with tf.variable_scope('dec_rnn_layer_{}'.format(l)):\n",
    "            gru = tf.contrib.rnn.GRUCell(rnn_len)\n",
    "            cell_dec = tf.contrib.rnn.DropoutWrapper(gru,input_keep_prob = dprob)\n",
    "            \n",
    "    out_l = Dense(v_size, kernel_initializer = tf.truncated_normal_initializer(mean = 0.0, stddev=0.1))\n",
    "    \n",
    "    attention = BahdanauAttention(rnsize, enc_op,txt_len,\n",
    "                                                  normalize=False,\n",
    "                                                  name='BahdanauAttention')\n",
    "    cell_dec =  AttentionWrapper(cell_dec,attention,rnn_len)\n",
    "    attn_zstate = cell_dec.zero_state(batch_size , tf.float32 )\n",
    "    attn_zstate = attn_zstate.clone(cell_state = enc_st[0])\n",
    "    with tf.variable_scope(\"decoding_layer\"):\n",
    "        tr_dec_op = trng_dec_layer(dec_emb_op, \n",
    "                                                  summ_len, \n",
    "                                                  cell_dec, \n",
    "                                                  attn_zstate,\n",
    "                                                  out_l,\n",
    "                                                  v_size, \n",
    "                                                  mx_summ_len)\n",
    "    with tf.variable_scope(\"decoding_layer\", reuse=True):\n",
    "        inf_dec_op = infr_dec_layer(embs,  \n",
    "                                                    word2int[TOKEN_GO], \n",
    "                                                    word2int[TOKEN_EOS],\n",
    "                                                    cell_dec, \n",
    "                                                    attn_zstate, \n",
    "                                                    out_l,\n",
    "                                                    mx_summ_len,\n",
    "                                                    batch_size)\n",
    "\n",
    "    return tr_dec_op, inf_dec_op"
   ]
  },
  {
   "cell_type": "code",
   "execution_count": 0,
   "metadata": {
    "_cell_guid": "19ddcf22-4f6a-d531-071a-021b42b643e3",
    "colab": {},
    "colab_type": "code",
    "id": "pYVCMj7aTdWl"
   },
   "outputs": [],
   "source": [
    "def seq2seq_model(data_inp, data_summ_tgt, dprob, len_txt, len_summ, max_len_summ, \n",
    "                  v_size, rnsize, nlyrs, word2int, batch_size):\n",
    "    \n",
    "    inp_emb = word_emb_matrix\n",
    "    word_embs = tf.Variable(inp_emb, name=\"word_embs\")\n",
    "    inp_enc_emb = tf.nn.embedding_lookup(word_embs, data_inp)\n",
    "    op_enc, st_enc = encoding_layer(rnsize, len_txt, nlyrs, inp_enc_emb, dprob)\n",
    "    \n",
    "    inp_dec = process_encoding_input(data_summ_tgt, word2int, batch_size)\n",
    "    inp_dec_emb = tf.nn.embedding_lookup(inp_emb, inp_dec)\n",
    "    \n",
    "    op_tr, op_inf  = decoding_layer(inp_dec_emb, \n",
    "                                                        inp_emb,\n",
    "                                                        op_enc,\n",
    "                                                        st_enc, \n",
    "                                                        v_size, \n",
    "                                                        len_txt, \n",
    "                                                        len_summ, \n",
    "                                                        max_len_summ,\n",
    "                                                        rnsize, \n",
    "                                                        word2int, \n",
    "                                                        dprob, \n",
    "                                                        batch_size,\n",
    "                                                        nlyrs)\n",
    "    \n",
    "    return op_tr, op_inf"
   ]
  },
  {
   "cell_type": "code",
   "execution_count": 0,
   "metadata": {
    "_cell_guid": "725e92bf-2309-1a78-c771-641a42b440c6",
    "colab": {},
    "colab_type": "code",
    "id": "t6c1ac3qTdWs"
   },
   "outputs": [],
   "source": [
    "def pad_sentences(sentences_batch):\n",
    "\n",
    "    max_sentence = max([len(sentence) for sentence in sentences_batch])\n",
    "    return [sentence + [word2int[TOKEN_PAD]] * (max_sentence - len(sentence)) for sentence in sentences_batch]"
   ]
  },
  {
   "cell_type": "code",
   "execution_count": 0,
   "metadata": {
    "_cell_guid": "47e4f70a-6377-68dd-c06c-eed674b2bb3f",
    "colab": {},
    "colab_type": "code",
    "id": "usG7exzOTdWy"
   },
   "outputs": [],
   "source": [
    "def get_batches(summaries, texts, batch_size):\n",
    "    for batch_idx in range(0, len(texts)//batch_size):\n",
    "        start_idx = batch_idx * batch_size\n",
    "        summaries_batch = summaries[start_idx:start_idx + batch_size]\n",
    "        texts_batch = texts[start_idx:start_idx + batch_size]\n",
    "        pad_summaries_batch = np.array(pad_sentences(summaries_batch))\n",
    "        pad_texts_batch = np.array(pad_sentences(texts_batch))\n",
    "\n",
    "        pad_summaries_lens = []\n",
    "        for summary in pad_summaries_batch:\n",
    "            pad_summaries_lens.append(len(summary))\n",
    "        \n",
    "        pad_texts_lens = []\n",
    "        for text in pad_texts_batch:\n",
    "            pad_texts_lens.append(len(text))\n",
    "        \n",
    "        yield pad_summaries_batch, pad_texts_batch, pad_summaries_lens, pad_texts_lens"
   ]
  },
  {
   "cell_type": "code",
   "execution_count": 0,
   "metadata": {
    "colab": {},
    "colab_type": "code",
    "id": "7SIkV3M9jYKl"
   },
   "outputs": [],
   "source": [
    "def train_on_batch(session, X, X_seq_len, Y, Y_seq_len, learning_rate, dropout_keep_probability):\n",
    "    feed_dict = {\n",
    "            data_inp: X,\n",
    "            tgts:Y,\n",
    "            lrt:learning_rate,\n",
    "            len_summ:Y_seq_len,\n",
    "            len_txt: X_seq_len,\n",
    "            dprobs: dropout_keep_probability}\n",
    "\n",
    "    _,pred,loss,summary = session.run([\n",
    "            train_op,\n",
    "            tr_cost,\n",
    "            inf_op,\n",
    "            merged_summary_op], feed_dict=feed_dict)\n",
    "    return _,pred, loss, summary"
   ]
  },
  {
   "cell_type": "code",
   "execution_count": 0,
   "metadata": {
    "colab": {},
    "colab_type": "code",
    "id": "6ejZsb2VqY7A"
   },
   "outputs": [],
   "source": [
    "def predict_for_batch(session, X, X_seq_len,Y, Y_seq_len,dropout_keep_probability):\n",
    "\n",
    "    feed_dict={data_inp:X, len_txt:X_seq_len,tgts:Y, len_summ: Y_seq_len,dprobs: dropout_keep_probability}\n",
    "\n",
    "    pred = session.run([inf_op], feed_dict=feed_dict)[0]\n",
    "\n",
    "    return pred\n"
   ]
  },
  {
   "cell_type": "code",
   "execution_count": 0,
   "metadata": {
    "colab": {},
    "colab_type": "code",
    "id": "xCltZfqbQpR1"
   },
   "outputs": [],
   "source": [
    "\n",
    "def predict_for_batch_with_loss(session, X, X_seq_len, Y, Y_seq_len,learning_rate,dropout_keep_probability):\n",
    "    \n",
    "    feed_dict={data_inp:X, len_txt:X_seq_len, tgts:Y, len_summ: Y_seq_len,lrt:learning_rate,dprobs: dropout_keep_probability}\n",
    "    \n",
    "    _,loss,pred = session.run([train_op,tr_cost,infer_predictions], feed_dict=feed_dict)\n",
    "    \n",
    "    return pred, loss"
   ]
  },
  {
   "cell_type": "code",
   "execution_count": 0,
   "metadata": {
    "_cell_guid": "77299c4b-a3cf-785b-981a-42a1bb3a2033",
    "colab": {},
    "colab_type": "code",
    "id": "HGM95d9MTdW5"
   },
   "outputs": [],
   "source": [
    "batch_size =100\n",
    "rnn_len = 128\n",
    "n_layers =2\n",
    "lr = 0.00005\n",
    "dr_prob =0.65\n",
    "\n",
    "! rm /content/gdrive/My\\ Drive/best_so_far_model*\n",
    "! rm /content/gdrive/My\\ Drive/events.out*\n",
    "logs_path='/content/gdrive/My Drive/'"
   ]
  },
  {
   "cell_type": "code",
   "execution_count": 36,
   "metadata": {
    "_cell_guid": "68781626-8bf4-0a23-4bb2-f24a5762fa1e",
    "colab": {
     "base_uri": "https://localhost:8080/",
     "height": 525
    },
    "colab_type": "code",
    "id": "AlrcY77-TdXF",
    "outputId": "0454e379-810e-4bce-e403-42ae62e066d1"
   },
   "outputs": [
    {
     "name": "stdout",
     "output_type": "stream",
     "text": [
      "WARNING:tensorflow:From <ipython-input-25-08a5f0b64492>:2: GRUCell.__init__ (from tensorflow.python.ops.rnn_cell_impl) is deprecated and will be removed in a future version.\n",
      "Instructions for updating:\n",
      "This class is equivalent as tf.keras.layers.GRUCell, and will be replaced by that in Tensorflow 2.0.\n",
      "WARNING:tensorflow:From <ipython-input-25-08a5f0b64492>:14: bidirectional_dynamic_rnn (from tensorflow.python.ops.rnn) is deprecated and will be removed in a future version.\n",
      "Instructions for updating:\n",
      "Please use `keras.layers.Bidirectional(keras.layers.RNN(cell))`, which is equivalent to this API\n",
      "WARNING:tensorflow:From /usr/local/lib/python3.6/dist-packages/tensorflow_core/python/ops/rnn.py:464: dynamic_rnn (from tensorflow.python.ops.rnn) is deprecated and will be removed in a future version.\n",
      "Instructions for updating:\n",
      "Please use `keras.layers.RNN(cell)`, which is equivalent to this API\n",
      "WARNING:tensorflow:From /usr/local/lib/python3.6/dist-packages/tensorflow_core/python/ops/rnn_cell_impl.py:559: Layer.add_variable (from tensorflow.python.keras.engine.base_layer) is deprecated and will be removed in a future version.\n",
      "Instructions for updating:\n",
      "Please use `layer.add_weight` method instead.\n",
      "WARNING:tensorflow:From /usr/local/lib/python3.6/dist-packages/tensorflow_core/python/ops/rnn_cell_impl.py:565: calling Constant.__init__ (from tensorflow.python.ops.init_ops) with dtype is deprecated and will be removed in a future version.\n",
      "Instructions for updating:\n",
      "Call initializer instance with the dtype argument instead of passing it to the constructor\n",
      "WARNING:tensorflow:From /usr/local/lib/python3.6/dist-packages/tensorflow_core/python/ops/rnn_cell_impl.py:575: calling Zeros.__init__ (from tensorflow.python.ops.init_ops) with dtype is deprecated and will be removed in a future version.\n",
      "Instructions for updating:\n",
      "Call initializer instance with the dtype argument instead of passing it to the constructor\n",
      "WARNING:tensorflow:From /usr/local/lib/python3.6/dist-packages/tensorflow_core/python/ops/rnn.py:244: where (from tensorflow.python.ops.array_ops) is deprecated and will be removed in a future version.\n",
      "Instructions for updating:\n",
      "Use tf.where in 2.0, which has the same broadcast rule as np.where\n",
      "WARNING:tensorflow:\n",
      "The TensorFlow contrib module will not be included in TensorFlow 2.0.\n",
      "For more information, please see:\n",
      "  * https://github.com/tensorflow/community/blob/master/rfcs/20180907-contrib-sunset.md\n",
      "  * https://github.com/tensorflow/addons\n",
      "  * https://github.com/tensorflow/io (for I/O related ops)\n",
      "If you depend on functionality not listed there, please file an issue.\n",
      "\n",
      "Graph created.\n"
     ]
    }
   ],
   "source": [
    "train_graph = tf.Graph()\n",
    "with train_graph.as_default():\n",
    "    \n",
    "    data_inp, tgts, lrt, dprobs, len_summ, max_len_summ, len_txt = model_inputs()\n",
    "\n",
    "    tr_opp, inf_opp = seq2seq_model(tf.reverse(data_inp, [-1]),\n",
    "                                                      tgts, \n",
    "                                                      dprobs,   \n",
    "                                                      len_txt,\n",
    "                                                      len_summ,\n",
    "                                                      max_len_summ,\n",
    "                                                      len(word2int)+1,\n",
    "                                                      rnn_len, \n",
    "                                                      n_layers, \n",
    "                                                      word2int,\n",
    "                                                      batch_size)\n",
    "    \n",
    "    tr_op = tf.identity(tr_opp.rnn_output, 'tr_op')\n",
    "    inf_op = tf.identity(inf_opp.sample_id, name='predictions')\n",
    "    \n",
    "    seq_masks = tf.sequence_mask(len_summ, max_len_summ, dtype=tf.float32, name='masks')\n",
    "\n",
    "    with tf.name_scope(\"optimizer\"):\n",
    "        tr_cost = sequence_loss(tr_op,tgts,seq_masks)\n",
    "        optzr = tf.train.AdamOptimizer(lr)\n",
    "        grds = optzr.compute_gradients(tr_cost)\n",
    "        capped_grds = [(tf.clip_by_value(grd, -5., 5.), var) for grd, var in grds \n",
    "                        if grd is not None]\n",
    "        train_op = optzr.apply_gradients(capped_grds)\n",
    "    # Get predictions for evaluation.\n",
    "    train_predictions = tr_opp.sample_id\n",
    "    infer_predictions = inf_opp.sample_id\n",
    "    tf.summary.scalar(\"cost\", tr_cost)\n",
    "print(\"Graph created.\")"
   ]
  },
  {
   "cell_type": "code",
   "execution_count": 0,
   "metadata": {
    "_cell_guid": "989d2498-df4e-31e8-3133-56df524b8a28",
    "colab": {},
    "colab_type": "code",
    "id": "Tg98B19nTdXS"
   },
   "outputs": [],
   "source": [
    "def text_to_seq(text):\n",
    "    return [word2int.get(word, word2int[TOKEN_UNK]) for word in text.split()]"
   ]
  },
  {
   "cell_type": "code",
   "execution_count": 0,
   "metadata": {
    "colab": {},
    "colab_type": "code",
    "id": "s4afDgp2zidm"
   },
   "outputs": [],
   "source": [
    "# Program to measure similarity between  \n",
    "# two sentences using cosine similarity. \n",
    "def mean_absolute_error_texts(v1,v2):\n",
    "    meanerrorl2=[]\n",
    "    NN=len(v1)\n",
    "    N2=np.sqrt(NN)\n",
    "    for X,Y in zip(v1,v2):\n",
    "        # tokenization \n",
    "        X_list = word_tokenize(X)  \n",
    "        Y_list = word_tokenize(Y) \n",
    "  \n",
    "        # sw contains the list of stopwords \n",
    "        sw = stopwords.words('english')  \n",
    "        l1 =[];l2 =[] \n",
    "  \n",
    "        # remove stop words from string \n",
    "        X_set = {w for w in X if not w in sw}  \n",
    "        Y_set = {w for w in Y if not w in sw} \n",
    "  \n",
    "        # form a set containing keywords of both strings  \n",
    "        rvector = X_set.union(Y_set)\n",
    "        qvector = X_set.intersection(Y_set)\n",
    "        for w in rvector: \n",
    "            if w in X_set:\n",
    "               l1.append(1) # create a vector \n",
    "            else:\n",
    "               l1.append(0) \n",
    "            if w in Y_set:\n",
    "               l2.append(1) \n",
    "            else:\n",
    "               l2.append(0) \n",
    "        c = 0\n",
    "        # cosine formula  \n",
    "        for i in range(len(rvector)): \n",
    "                      c+= l1[i]*l2[i] \n",
    "        den=float((sum(l1)*sum(l2))**0.5)\n",
    "        try: \n",
    "           cosine = c /den\n",
    "        except:\n",
    "           cosine=0.0 \n",
    "        meanerrorl2.append(cosine/N2) \n",
    "  \n",
    "    return LA.norm(meanerrorl2,2)*100.0\n",
    "      "
   ]
  },
  {
   "cell_type": "code",
   "execution_count": 39,
   "metadata": {
    "colab": {
     "base_uri": "https://localhost:8080/",
     "height": 33
    },
    "colab_type": "code",
    "id": "IXy1o-6INrQ1",
    "outputId": "be1b958f-e021-4507-f68a-d1aa627811c1"
   },
   "outputs": [
    {
     "data": {
      "text/plain": [
       "27128"
      ]
     },
     "execution_count": 39,
     "metadata": {
      "tags": []
     },
     "output_type": "execute_result"
    }
   ],
   "source": [
    "len(news_summaries_filtered)"
   ]
  },
  {
   "cell_type": "code",
   "execution_count": 40,
   "metadata": {
    "colab": {
     "base_uri": "https://localhost:8080/",
     "height": 33
    },
    "colab_type": "code",
    "id": "Lc3b_vCaNrtm",
    "outputId": "505ec3b5-cc7f-4bbd-e0d3-5262eacff9c0"
   },
   "outputs": [
    {
     "data": {
      "text/plain": [
       "27128"
      ]
     },
     "execution_count": 40,
     "metadata": {
      "tags": []
     },
     "output_type": "execute_result"
    }
   ],
   "source": [
    "len(news_texts_filtered)"
   ]
  },
  {
   "cell_type": "code",
   "execution_count": 0,
   "metadata": {
    "colab": {},
    "colab_type": "code",
    "id": "xALwgTyFOtLL"
   },
   "outputs": [],
   "source": [
    "epochs =25\n",
    "min_learning_rate = 0.0006\n",
    "display_step = 400\n",
    "display_plot = display_step\n",
    "early_stop_cnt = 0 \n",
    "early_stop_cnt_max = 3 \n",
    "per_epoch = 3 \n",
    "\n",
    "\n",
    "update_loss = 0 \n",
    "batch_loss = 0\n",
    "summary_update_loss = [] \n",
    "\n",
    "news_summaries_train = news_summaries_filtered[0:21700]\n",
    "news_texts_train = news_texts_filtered[0:21700]\n",
    "\n",
    "news_summaries_test =news_summaries_filtered[21700:]\n",
    "news_texts_test=news_texts_filtered[21700:]\n",
    "\n",
    "pad = word2int[TOKEN_PAD] \n",
    "eos = word2int[TOKEN_EOS]  \n",
    "unk = word2int[TOKEN_UNK]\n",
    "tokens_id=[eos,pad,unk]\n",
    "\n",
    "update_check = (len(news_texts_train)//batch_size//per_epoch)-1\n",
    "checkpoint = logs_path + 'best_so_far_model.ckpt' \n"
   ]
  },
  {
   "cell_type": "code",
   "execution_count": 42,
   "metadata": {
    "_cell_guid": "6368ba0d-4083-e182-ca38-5356b307e09f",
    "colab": {
     "base_uri": "https://localhost:8080/",
     "height": 1000
    },
    "colab_type": "code",
    "id": "9hbE8nF6TdXM",
    "outputId": "c94696b5-7a87-4594-9b40-fa2e4548cdf7"
   },
   "outputs": [
    {
     "name": "stdout",
     "output_type": "stream",
     "text": [
      "Start training... \n",
      "\n",
      "Average loss: 9.775\n",
      "Saving model\n",
      "Average loss: 8.156\n",
      "Saving model\n",
      "Average loss: 7.24\n",
      "Saving model\n",
      " \n",
      "Test: epoch 1 loss: 6.820509\n",
      " \n",
      "\n",
      "Summary\n",
      "  Word Ids:       [13, 17]\n",
      "  Response Words: great the\n",
      " Ground Truth: my kind of bar\n",
      "\n",
      "[49.76267087585242, 32]\n",
      "Average loss: 6.434\n",
      "Saving model\n",
      "Average loss: 5.986\n",
      "Saving model\n",
      "Average loss: 5.838\n",
      "Saving model\n",
      " \n",
      "Test: epoch 2 loss: 5.887576\n",
      " \n",
      "\n",
      "Summary\n",
      "  Word Ids:       [13, 4, 70]\n",
      "  Response Words: great not for\n",
      " Ground Truth: my kind of bar\n",
      "\n",
      "[53.02437551620012, 40]\n",
      "Average loss: 5.733\n",
      "Saving model\n",
      "Average loss: 5.603\n",
      "Saving model\n",
      "Average loss: 5.583\n",
      "Saving model\n",
      " \n",
      "Test: epoch 3 loss: 5.652085\n",
      " \n",
      "\n",
      "Summary\n",
      "  Word Ids:       [13, 70, 70]\n",
      "  Response Words: great for for\n",
      " Ground Truth: my kind of bar\n",
      "\n",
      "[50.703535823190315, 45]\n",
      "Average loss: 5.565\n",
      "Saving model\n",
      "Average loss: 5.479\n",
      "Saving model\n",
      "Average loss: 5.483\n",
      "No Improvement.\n",
      " \n",
      "Test: epoch 4 loss: 5.5358944\n",
      " \n",
      "\n",
      "Summary\n",
      "  Word Ids:       [13, 70, 70]\n",
      "  Response Words: great for for\n",
      " Ground Truth: my kind of bar\n",
      "\n",
      "[50.76692868308059, 45]\n",
      "Average loss: 5.494\n",
      "No Improvement.\n",
      "Average loss: 5.419\n",
      "Saving model\n",
      "Average loss: 5.431\n",
      "No Improvement.\n",
      " \n",
      "Test: epoch 5 loss: 5.460942\n",
      " \n",
      "\n",
      "Summary\n",
      "  Word Ids:       [13, 70, 70]\n",
      "  Response Words: great for for\n",
      " Ground Truth: my kind of bar\n",
      "\n",
      "[50.782924162924395, 45]\n",
      "Average loss: 5.451\n",
      "No Improvement.\n",
      "Average loss: 5.381\n",
      "Saving model\n",
      "Average loss: 5.395\n",
      "No Improvement.\n",
      " \n",
      "Test: epoch 6 loss: 5.4087815\n",
      " \n",
      "\n",
      "Summary\n",
      "  Word Ids:       [13, 70, 70]\n",
      "  Response Words: great for for\n",
      " Ground Truth: my kind of bar\n",
      "\n",
      "[50.825775741426824, 45]\n",
      "Average loss: 5.423\n",
      "No Improvement.\n",
      "Average loss: 5.355\n",
      "Saving model\n",
      "Average loss: 5.368\n",
      "No Improvement.\n",
      " \n",
      "Test: epoch 7 loss: 5.372791\n",
      " \n",
      "\n",
      "Summary\n",
      "  Word Ids:       [13, 70, 70]\n",
      "  Response Words: great for for\n",
      " Ground Truth: my kind of bar\n",
      "\n",
      "[52.019964624908354, 41]\n",
      "Average loss: 5.4\n",
      "No Improvement.\n",
      "Average loss: 5.333\n",
      "Saving model\n",
      "Average loss: 5.345\n",
      "No Improvement.\n",
      " \n",
      "Test: epoch 8 loss: 5.345428\n",
      " \n",
      "\n",
      "Summary\n",
      "  Word Ids:       [13, 70, 70, 17]\n",
      "  Response Words: great for for the\n",
      " Ground Truth: my kind of bar\n",
      "\n",
      "[53.921773430700604, 25]\n",
      "Average loss: 5.38\n",
      "No Improvement.\n",
      "Average loss: 5.314\n",
      "Saving model\n",
      "Average loss: 5.325\n",
      "No Improvement.\n",
      " \n",
      "Test: epoch 9 loss: 5.3230205\n",
      " \n",
      "\n",
      "Summary\n",
      "  Word Ids:       [13, 70, 70, 17]\n",
      "  Response Words: great for for the\n",
      " Ground Truth: my kind of bar\n",
      "\n",
      "[54.036956348239414, 24]\n",
      "Average loss: 5.363\n",
      "No Improvement.\n",
      "Average loss: 5.296\n",
      "Saving model\n",
      "Average loss: 5.308\n",
      "No Improvement.\n",
      " \n",
      "Test: epoch 10 loss: 5.306406\n",
      " \n",
      "\n",
      "Summary\n",
      "  Word Ids:       [13, 70, 70, 17]\n",
      "  Response Words: great for for the\n",
      " Ground Truth: my kind of bar\n",
      "\n",
      "[54.08197353874916, 24]\n",
      "Average loss: 5.347\n",
      "No Improvement.\n",
      "Average loss: 5.28\n",
      "Saving model\n",
      "Average loss: 5.291\n",
      "No Improvement.\n",
      " \n",
      "Test: epoch 11 loss: 5.2913575\n",
      " \n",
      "\n",
      "Summary\n",
      "  Word Ids:       [13, 70, 70, 17]\n",
      "  Response Words: great for for the\n",
      " Ground Truth: my kind of bar\n",
      "\n",
      "[54.08197353874916, 24]\n",
      "Average loss: 5.332\n",
      "No Improvement.\n",
      "Average loss: 5.268\n",
      "Saving model\n",
      "Average loss: 5.277\n",
      "No Improvement.\n",
      " \n",
      "Test: epoch 12 loss: 5.2788787\n",
      " \n",
      "\n",
      "Summary\n",
      "  Word Ids:       [13, 70, 70, 17]\n",
      "  Response Words: great for for the\n",
      " Ground Truth: my kind of bar\n",
      "\n",
      "[54.08197353874916, 24]\n",
      "Average loss: 5.318\n",
      "No Improvement.\n",
      "Average loss: 5.256\n",
      "Saving model\n",
      "Average loss: 5.262\n",
      "No Improvement.\n",
      " \n",
      "Test: epoch 13 loss: 5.265949\n",
      " \n",
      "\n",
      "Summary\n",
      "  Word Ids:       [13, 70, 70, 17]\n",
      "  Response Words: great for for the\n",
      " Ground Truth: my kind of bar\n",
      "\n",
      "[54.07746963318707, 24]\n",
      "Average loss: 5.305\n",
      "No Improvement.\n",
      "Average loss: 5.242\n",
      "Saving model\n",
      "Average loss: 5.25\n",
      "No Improvement.\n",
      " \n",
      "Test: epoch 14 loss: 5.253909\n",
      " \n",
      "\n",
      "Summary\n",
      "  Word Ids:       [13, 70, 70, 17]\n",
      "  Response Words: great for for the\n",
      " Ground Truth: my kind of bar\n",
      "\n",
      "[54.052357339168985, 24]\n",
      "Average loss: 5.291\n",
      "No Improvement.\n",
      "Average loss: 5.23\n",
      "Saving model\n",
      "Average loss: 5.236\n",
      "No Improvement.\n",
      " \n",
      "Test: epoch 15 loss: 5.2405972\n",
      " \n",
      "\n",
      "Summary\n",
      "  Word Ids:       [13, 70, 70, 17]\n",
      "  Response Words: great for for the\n",
      " Ground Truth: my kind of bar\n",
      "\n",
      "[53.909908126424064, 30]\n",
      "Average loss: 5.279\n",
      "No Improvement.\n",
      "Average loss: 5.217\n",
      "Saving model\n",
      "Average loss: 5.222\n",
      "No Improvement.\n",
      " \n",
      "Test: epoch 16 loss: 5.227661\n",
      " \n",
      "\n",
      "Summary\n",
      "  Word Ids:       [13, 70, 70, 17]\n",
      "  Response Words: great for for the\n",
      " Ground Truth: my kind of bar\n",
      "\n",
      "[53.955088749800204, 34]\n",
      "Average loss: 5.266\n",
      "No Improvement.\n",
      "Average loss: 5.203\n",
      "Saving model\n",
      "Average loss: 5.207\n",
      "No Improvement.\n",
      " \n",
      "Test: epoch 17 loss: 5.214395\n",
      " \n",
      "\n",
      "Summary\n",
      "  Word Ids:       [13, 70, 70, 17]\n",
      "  Response Words: great for for the\n",
      " Ground Truth: my kind of bar\n",
      "\n",
      "[53.88040283917421, 70]\n",
      "Average loss: 5.249\n",
      "No Improvement.\n",
      "Average loss: 5.186\n",
      "Saving model\n",
      "Average loss: 5.187\n",
      "No Improvement.\n",
      " \n",
      "Test: epoch 18 loss: 5.1959567\n",
      " \n",
      "\n",
      "Summary\n",
      "  Word Ids:       [13, 70, 70, 17]\n",
      "  Response Words: great for for the\n",
      " Ground Truth: my kind of bar\n",
      "\n",
      "[52.77518001589725, 172]\n",
      "Average loss: 5.228\n",
      "No Improvement.\n",
      "Average loss: 5.166\n",
      "Saving model\n",
      "Average loss: 5.168\n",
      "No Improvement.\n",
      " \n",
      "Test: epoch 19 loss: 5.179553\n",
      " \n",
      "\n",
      "Summary\n",
      "  Word Ids:       [13, 70, 17, 17]\n",
      "  Response Words: great for the the\n",
      " Ground Truth: my kind of bar\n",
      "\n",
      "[53.97921011636364, 97]\n",
      "Average loss: 5.21\n",
      "No Improvement.\n",
      "Average loss: 5.149\n",
      "Saving model\n",
      "Average loss: 5.15\n",
      "No Improvement.\n",
      " \n",
      "Test: epoch 20 loss: 5.1693172\n",
      " \n",
      "\n",
      "Summary\n",
      "  Word Ids:       [13, 70, 17, 17]\n",
      "  Response Words: great for the the\n",
      " Ground Truth: my kind of bar\n",
      "\n",
      "[55.05931771415417, 45]\n",
      "Average loss: 5.194\n",
      "No Improvement.\n",
      "Average loss: 5.134\n",
      "Saving model\n",
      "Average loss: 5.133\n",
      "Saving model\n",
      " \n",
      "Test: epoch 21 loss: 5.1541324\n",
      " \n",
      "\n",
      "Summary\n",
      "  Word Ids:       [13, 70, 17, 17]\n",
      "  Response Words: great for the the\n",
      " Ground Truth: my kind of bar\n",
      "\n",
      "[55.44488253545238, 33]\n",
      "Average loss: 5.177\n",
      "No Improvement.\n",
      "Average loss: 5.119\n",
      "Saving model\n",
      "Average loss: 5.116\n",
      "Saving model\n",
      " \n",
      "Test: epoch 22 loss: 5.1411643\n",
      " \n",
      "\n",
      "Summary\n",
      "  Word Ids:       [13, 70, 17, 17]\n",
      "  Response Words: great for the the\n",
      " Ground Truth: my kind of bar\n",
      "\n",
      "[55.830295936654785, 25]\n",
      "Average loss: 5.16\n",
      "No Improvement.\n",
      "Average loss: 5.103\n",
      "Saving model\n",
      "Average loss: 5.101\n",
      "Saving model\n",
      " \n",
      "Test: epoch 23 loss: 5.1272902\n",
      " \n",
      "\n",
      "Summary\n",
      "  Word Ids:       [13, 70, 17, 17]\n",
      "  Response Words: great for the the\n",
      " Ground Truth: my kind of bar\n",
      "\n",
      "[56.04526759647277, 22]\n",
      "Average loss: 5.143\n",
      "No Improvement.\n",
      "Average loss: 5.086\n",
      "Saving model\n",
      "Average loss: 5.084\n",
      "Saving model\n",
      " \n",
      "Test: epoch 24 loss: 5.113086\n",
      " \n",
      "\n",
      "Summary\n",
      "  Word Ids:       [13, 70, 17, 17]\n",
      "  Response Words: great for the the\n",
      " Ground Truth: my kind of bar\n",
      "\n",
      "[56.38684674789497, 20]\n",
      "Average loss: 5.128\n",
      "No Improvement.\n",
      "Average loss: 5.071\n",
      "Saving model\n",
      "Average loss: 5.069\n",
      "Saving model\n",
      " \n",
      "Test: epoch 25 loss: 5.1011662\n",
      " \n",
      "\n",
      "Summary\n",
      "  Word Ids:       [13, 70, 17, 17]\n",
      "  Response Words: great for the the\n",
      " Ground Truth: my kind of bar\n",
      "\n",
      "[56.18784927821646, 21]\n"
     ]
    }
   ],
   "source": [
    "invalid_number_prediction_counts = []\n",
    "all_model_predictions = []\n",
    "all_ground_truth = []\n",
    "history=[]\n",
    "max_invalid=0\n",
    "print('Start training... \\n')\n",
    "\n",
    "with tf.Session(graph=train_graph) as sess:\n",
    "    tf_summary_writer = tf.summary.FileWriter(logs_path, graph=train_graph)\n",
    "    merged_summary_op = tf.summary.merge_all()\n",
    "    sess.run(tf.global_variables_initializer())\n",
    "    for epoch_i in range(epochs):\n",
    "        update_loss = 0\n",
    "        batch_loss = 0\n",
    "        train_loss =0\n",
    "        for batch_i, (summaries_batch, texts_batch, summaries_len, texts_len) in enumerate(\n",
    "                get_batches(news_summaries_train, news_texts_train, batch_size)):\n",
    "            before = time.time()\n",
    "            _,loss,predictions,summary=train_on_batch(sess,texts_batch, texts_len, summaries_batch, summaries_len, lr, dr_prob)\n",
    "            #_,loss,summary = sess.run(\n",
    "            #    [train_op, tr_cost,merged_summary_op],\n",
    "            #    {data_inp: texts_batch,\n",
    "            #     tgts: summaries_batch,\n",
    "            #     lrt: lr,\n",
    "            #     len_summ: summaries_len,\n",
    "            #     len_txt: texts_len,\n",
    "            #     dprobs: dr_prob})\n",
    "            \n",
    "            batch_loss += loss\n",
    "            update_loss += loss\n",
    "            after = time.time()\n",
    "            batch_time = after - before\n",
    "            tf_summary_writer.add_summary(summary, epoch_i * batch_size + batch_i)\n",
    "            \n",
    "            if batch_i % display_step == 0 and batch_i > 0:\n",
    "                print('** Epoch {:>3}/{} Batch {:>4}/{} - Batch Loss: {:>6.3f}, seconds: {:>4.2f}'\n",
    "                      .format(epoch_i+1,\n",
    "                              epochs, \n",
    "                              batch_i, \n",
    "                              len(news_texts_filtered) // batch_size, \n",
    "                              batch_loss / display_step, \n",
    "                              batch_time*display_step))\n",
    "                \n",
    "                batch_loss = 0\n",
    "            \n",
    "            if batch_i % update_check == 0 and batch_i > 0:\n",
    "                print(\"Average loss:\", round(update_loss/update_check,3))\n",
    "                train_loss=round(update_loss/update_check,3)\n",
    "                summary_update_loss.append(update_loss)\n",
    "                \n",
    "                if update_loss <= min(summary_update_loss):\n",
    "                    print('Saving model') \n",
    "                    early_stop_cnt = 0\n",
    "                    saver = tf.train.Saver() \n",
    "                    saver.save(sess, checkpoint)\n",
    "\n",
    "                else:\n",
    "                    print(\"No Improvement.\")\n",
    "                    early_stop_cnt += 1\n",
    "                    if early_stop_cnt == early_stop_cnt_max:\n",
    "                        break\n",
    "                update_loss = 0\n",
    "            \n",
    "\n",
    "        summaries_test_batch, texts_test_batch, summaries_test_len, texts_test_len =\\\n",
    "         next(get_batches(news_summaries_test, news_texts_test, batch_size))\n",
    "    \n",
    "        predictions,test_loss = predict_for_batch_with_loss(sess,texts_test_batch, texts_test_len,summaries_test_batch,summaries_test_len,lr,1.0)\n",
    "        history.append([epoch_i+1,train_loss,test_loss])\n",
    "        #print('history:',history[-1])\n",
    "        print(\" \")  \n",
    "        print('Test: epoch', epoch_i+1, 'loss:', test_loss,)\n",
    "        print(\" \")\n",
    "        for text, summary, result_logits  in list(zip(texts_test_batch, summaries_test_batch, predictions))[-1:]: \n",
    "                     #print('\\nText')\n",
    "                     #print('  Word Ids:    {}'.format([i for i in text]))\n",
    "                     #print('  Input Words: {}'.format(\" \".join( int2word[i] for i in text if i not in tokens_id)))\n",
    "\n",
    "                     print('\\nSummary')\n",
    "                     print('  Word Ids:       {}'.format([i for i in result_logits if i not in tokens_id]))\n",
    "                     print('  Response Words: {}'.format(\" \".join(int2word[i] for i in result_logits if i not in tokens_id )))\n",
    "                     print(' Ground Truth: {}'.format(\" \".join(int2word[i] for i in summary if i not in tokens_id)))\n",
    "                     print('')\n",
    "        model_predictions = []\n",
    "        ground_truth = []\n",
    "        invalid_number_prediction_count = 0\n",
    "         \n",
    "        ind=0\n",
    "        for summaries_test_batch, texts_test_batch, summaries_test_len, texts_test_len\\\n",
    "         in get_batches(news_summaries_test,news_texts_test, batch_size=batch_size):\n",
    "                 \n",
    "  \n",
    "                 #summaries_test_len=[np.random.randint(5,8)]\n",
    "                 pred=predict_for_batch(sess, texts_test_batch, texts_test_len,summaries_test_batch,summaries_test_len,1.0)   \n",
    "                 \n",
    "                 for y,p in list(zip(summaries_test_batch,pred)): \n",
    "                     Y=''.join(int2word[i] for i in y if i not in tokens_id)\n",
    "                     O=''.join(int2word[i] for i in p if i not in tokens_id)\n",
    "                     \n",
    "                     if mean_absolute_error_texts([Y],[O])<1e-15 : \n",
    "                             invalid_number_prediction_count += 1\n",
    "                     lmin=min(len(Y),len(O))+1\n",
    "                     OO=O[:lmin]\n",
    "                     YY=Y[:lmin] \n",
    "                     model_predictions.append(OO)\n",
    "                     ground_truth.append(YY)\n",
    "                             \n",
    "        if ((epoch_i/5==0) and (epoch_i>0)):\n",
    "                         history=pd.DataFrame(history, columns=['epochs','loss','val_loss'])\n",
    "                         from matplotlib import pyplot \n",
    "                         pyplot.plot(history['epochs'],history['loss'], label='train') \n",
    "                         pyplot.plot(history['epochs'],history['val_loss'], label='test') \n",
    "                         pyplot.legend() \n",
    "                         pyplot.show() \n",
    "        print([mean_absolute_error_texts(model_predictions,ground_truth),invalid_number_prediction_count ])\n",
    "        all_model_predictions.append(model_predictions)\n",
    "        all_ground_truth.append(ground_truth)\n",
    "        invalid_number_prediction_counts.append(invalid_number_prediction_count)\n",
    "        \n",
    "        if early_stop_cnt == early_stop_cnt_max:\n",
    "            print(\"Stopping Training.\")\n",
    "            break        \n"
   ]
  },
  {
   "cell_type": "code",
   "execution_count": 43,
   "metadata": {
    "colab": {
     "base_uri": "https://localhost:8080/",
     "height": 265
    },
    "colab_type": "code",
    "id": "wErDv9CAuhdy",
    "outputId": "707d559c-0566-427a-efdf-5fef37dfd892"
   },
   "outputs": [
    {
     "data": {
      "image/png": "[encoded data removed]",
      "text/plain": [
       "<Figure size 432x288 with 1 Axes>"
      ]
     },
     "metadata": {
      "needs_background": "light",
      "tags": []
     },
     "output_type": "display_data"
    }
   ],
   "source": [
    "history=pd.DataFrame(history, columns=['epochs','loss','val_loss'])\n",
    "from matplotlib import pyplot \n",
    "pyplot.plot(history['epochs'],history['loss'], label='train') \n",
    "pyplot.plot(history['epochs'],history['val_loss'], label='test') \n",
    "pyplot.legend() \n",
    "pyplot.show()"
   ]
  },
  {
   "cell_type": "code",
   "execution_count": 44,
   "metadata": {
    "colab": {
     "base_uri": "https://localhost:8080/",
     "height": 766
    },
    "colab_type": "code",
    "id": "MwDoSYgYMLcE",
    "outputId": "3c1bcf31-e632-4580-a4e4-4ca86880c2f7"
   },
   "outputs": [
    {
     "data": {
      "text/html": [
       "<div>\n",
       "<style scoped>\n",
       "    .dataframe tbody tr th:only-of-type {\n",
       "        vertical-align: middle;\n",
       "    }\n",
       "\n",
       "    .dataframe tbody tr th {\n",
       "        vertical-align: top;\n",
       "    }\n",
       "\n",
       "    .dataframe thead th {\n",
       "        text-align: right;\n",
       "    }\n",
       "</style>\n",
       "<table border=\"1\" class=\"dataframe\">\n",
       "  <thead>\n",
       "    <tr style=\"text-align: right;\">\n",
       "      <th></th>\n",
       "      <th>epochs</th>\n",
       "      <th>loss</th>\n",
       "      <th>val_loss</th>\n",
       "    </tr>\n",
       "  </thead>\n",
       "  <tbody>\n",
       "    <tr>\n",
       "      <th>0</th>\n",
       "      <td>1</td>\n",
       "      <td>7.240</td>\n",
       "      <td>6.820509</td>\n",
       "    </tr>\n",
       "    <tr>\n",
       "      <th>1</th>\n",
       "      <td>2</td>\n",
       "      <td>5.838</td>\n",
       "      <td>5.887576</td>\n",
       "    </tr>\n",
       "    <tr>\n",
       "      <th>2</th>\n",
       "      <td>3</td>\n",
       "      <td>5.583</td>\n",
       "      <td>5.652085</td>\n",
       "    </tr>\n",
       "    <tr>\n",
       "      <th>3</th>\n",
       "      <td>4</td>\n",
       "      <td>5.483</td>\n",
       "      <td>5.535894</td>\n",
       "    </tr>\n",
       "    <tr>\n",
       "      <th>4</th>\n",
       "      <td>5</td>\n",
       "      <td>5.431</td>\n",
       "      <td>5.460942</td>\n",
       "    </tr>\n",
       "    <tr>\n",
       "      <th>5</th>\n",
       "      <td>6</td>\n",
       "      <td>5.395</td>\n",
       "      <td>5.408782</td>\n",
       "    </tr>\n",
       "    <tr>\n",
       "      <th>6</th>\n",
       "      <td>7</td>\n",
       "      <td>5.368</td>\n",
       "      <td>5.372791</td>\n",
       "    </tr>\n",
       "    <tr>\n",
       "      <th>7</th>\n",
       "      <td>8</td>\n",
       "      <td>5.345</td>\n",
       "      <td>5.345428</td>\n",
       "    </tr>\n",
       "    <tr>\n",
       "      <th>8</th>\n",
       "      <td>9</td>\n",
       "      <td>5.325</td>\n",
       "      <td>5.323020</td>\n",
       "    </tr>\n",
       "    <tr>\n",
       "      <th>9</th>\n",
       "      <td>10</td>\n",
       "      <td>5.308</td>\n",
       "      <td>5.306406</td>\n",
       "    </tr>\n",
       "    <tr>\n",
       "      <th>10</th>\n",
       "      <td>11</td>\n",
       "      <td>5.291</td>\n",
       "      <td>5.291358</td>\n",
       "    </tr>\n",
       "    <tr>\n",
       "      <th>11</th>\n",
       "      <td>12</td>\n",
       "      <td>5.277</td>\n",
       "      <td>5.278879</td>\n",
       "    </tr>\n",
       "    <tr>\n",
       "      <th>12</th>\n",
       "      <td>13</td>\n",
       "      <td>5.262</td>\n",
       "      <td>5.265949</td>\n",
       "    </tr>\n",
       "    <tr>\n",
       "      <th>13</th>\n",
       "      <td>14</td>\n",
       "      <td>5.250</td>\n",
       "      <td>5.253909</td>\n",
       "    </tr>\n",
       "    <tr>\n",
       "      <th>14</th>\n",
       "      <td>15</td>\n",
       "      <td>5.236</td>\n",
       "      <td>5.240597</td>\n",
       "    </tr>\n",
       "    <tr>\n",
       "      <th>15</th>\n",
       "      <td>16</td>\n",
       "      <td>5.222</td>\n",
       "      <td>5.227661</td>\n",
       "    </tr>\n",
       "    <tr>\n",
       "      <th>16</th>\n",
       "      <td>17</td>\n",
       "      <td>5.207</td>\n",
       "      <td>5.214395</td>\n",
       "    </tr>\n",
       "    <tr>\n",
       "      <th>17</th>\n",
       "      <td>18</td>\n",
       "      <td>5.187</td>\n",
       "      <td>5.195957</td>\n",
       "    </tr>\n",
       "    <tr>\n",
       "      <th>18</th>\n",
       "      <td>19</td>\n",
       "      <td>5.168</td>\n",
       "      <td>5.179553</td>\n",
       "    </tr>\n",
       "    <tr>\n",
       "      <th>19</th>\n",
       "      <td>20</td>\n",
       "      <td>5.150</td>\n",
       "      <td>5.169317</td>\n",
       "    </tr>\n",
       "    <tr>\n",
       "      <th>20</th>\n",
       "      <td>21</td>\n",
       "      <td>5.133</td>\n",
       "      <td>5.154132</td>\n",
       "    </tr>\n",
       "    <tr>\n",
       "      <th>21</th>\n",
       "      <td>22</td>\n",
       "      <td>5.116</td>\n",
       "      <td>5.141164</td>\n",
       "    </tr>\n",
       "    <tr>\n",
       "      <th>22</th>\n",
       "      <td>23</td>\n",
       "      <td>5.101</td>\n",
       "      <td>5.127290</td>\n",
       "    </tr>\n",
       "    <tr>\n",
       "      <th>23</th>\n",
       "      <td>24</td>\n",
       "      <td>5.084</td>\n",
       "      <td>5.113086</td>\n",
       "    </tr>\n",
       "    <tr>\n",
       "      <th>24</th>\n",
       "      <td>25</td>\n",
       "      <td>5.069</td>\n",
       "      <td>5.101166</td>\n",
       "    </tr>\n",
       "  </tbody>\n",
       "</table>\n",
       "</div>"
      ],
      "text/plain": [
       "    epochs   loss  val_loss\n",
       "0        1  7.240  6.820509\n",
       "1        2  5.838  5.887576\n",
       "2        3  5.583  5.652085\n",
       "3        4  5.483  5.535894\n",
       "4        5  5.431  5.460942\n",
       "5        6  5.395  5.408782\n",
       "6        7  5.368  5.372791\n",
       "7        8  5.345  5.345428\n",
       "8        9  5.325  5.323020\n",
       "9       10  5.308  5.306406\n",
       "10      11  5.291  5.291358\n",
       "11      12  5.277  5.278879\n",
       "12      13  5.262  5.265949\n",
       "13      14  5.250  5.253909\n",
       "14      15  5.236  5.240597\n",
       "15      16  5.222  5.227661\n",
       "16      17  5.207  5.214395\n",
       "17      18  5.187  5.195957\n",
       "18      19  5.168  5.179553\n",
       "19      20  5.150  5.169317\n",
       "20      21  5.133  5.154132\n",
       "21      22  5.116  5.141164\n",
       "22      23  5.101  5.127290\n",
       "23      24  5.084  5.113086\n",
       "24      25  5.069  5.101166"
      ]
     },
     "execution_count": 44,
     "metadata": {
      "tags": []
     },
     "output_type": "execute_result"
    }
   ],
   "source": [
    "history"
   ]
  },
  {
   "cell_type": "code",
   "execution_count": 0,
   "metadata": {
    "colab": {},
    "colab_type": "code",
    "id": "5cUmIlXWM7Uw"
   },
   "outputs": [],
   "source": [
    "#Evaluate results¶\n",
    "#Because our task is simple and the output is straight-forward, we will use MAE metric to evaluate the trained model during the epochs. Compute the value of the metric for the output from each epoch.\n"
   ]
  },
  {
   "cell_type": "code",
   "execution_count": 46,
   "metadata": {
    "colab": {
     "base_uri": "https://localhost:8080/",
     "height": 423
    },
    "colab_type": "code",
    "id": "r5ZnQYTwLpXn",
    "outputId": "9b2a223e-bcac-401a-e1ab-e02005fb317f"
   },
   "outputs": [
    {
     "name": "stdout",
     "output_type": "stream",
     "text": [
      "Epoch: 1, MAE: 49.762671, Invalid numbers: 32\n",
      "Epoch: 2, MAE: 53.024376, Invalid numbers: 40\n",
      "Epoch: 3, MAE: 50.703536, Invalid numbers: 45\n",
      "Epoch: 4, MAE: 50.766929, Invalid numbers: 45\n",
      "Epoch: 5, MAE: 50.782924, Invalid numbers: 45\n",
      "Epoch: 6, MAE: 50.825776, Invalid numbers: 45\n",
      "Epoch: 7, MAE: 52.019965, Invalid numbers: 41\n",
      "Epoch: 8, MAE: 53.921773, Invalid numbers: 25\n",
      "Epoch: 9, MAE: 54.036956, Invalid numbers: 24\n",
      "Epoch: 10, MAE: 54.081974, Invalid numbers: 24\n",
      "Epoch: 11, MAE: 54.081974, Invalid numbers: 24\n",
      "Epoch: 12, MAE: 54.081974, Invalid numbers: 24\n",
      "Epoch: 13, MAE: 54.077470, Invalid numbers: 24\n",
      "Epoch: 14, MAE: 54.052357, Invalid numbers: 24\n",
      "Epoch: 15, MAE: 53.909908, Invalid numbers: 30\n",
      "Epoch: 16, MAE: 53.955089, Invalid numbers: 34\n",
      "Epoch: 17, MAE: 53.880403, Invalid numbers: 70\n",
      "Epoch: 18, MAE: 52.775180, Invalid numbers: 172\n",
      "Epoch: 19, MAE: 53.979210, Invalid numbers: 97\n",
      "Epoch: 20, MAE: 55.059318, Invalid numbers: 45\n",
      "Epoch: 21, MAE: 55.444883, Invalid numbers: 33\n",
      "Epoch: 22, MAE: 55.830296, Invalid numbers: 25\n",
      "Epoch: 23, MAE: 56.045268, Invalid numbers: 22\n",
      "Epoch: 24, MAE: 56.386847, Invalid numbers: 20\n",
      "Epoch: 25, MAE: 56.187849, Invalid numbers: 21\n"
     ]
    }
   ],
   "source": [
    "for i, (gts, predictions, invalid_number_prediction_count) in enumerate(zip(all_ground_truth,\n",
    "                                                                            all_model_predictions,\n",
    "                                                                            invalid_number_prediction_counts), 1):\n",
    "       \n",
    "\n",
    "          mae=mean_absolute_error_texts(gts, predictions)\n",
    "          print(\"Epoch: %i, MAE: %f, Invalid numbers: %i\" % (i, mae, invalid_number_prediction_count))"
   ]
  },
  {
   "cell_type": "code",
   "execution_count": 4,
   "metadata": {
    "colab": {},
    "colab_type": "code",
    "id": "ifAvzROshiqL"
   },
   "outputs": [
    {
     "data": {
      "text/plain": [
       "<matplotlib.legend.Legend at 0x7fe1bbfb2f28>"
      ]
     },
     "execution_count": 4,
     "metadata": {},
     "output_type": "execute_result"
    },
    {
     "data": {
      "image/png": "[encoded data removed]",
      "text/plain": [
       "<Figure size 432x288 with 1 Axes>"
      ]
     },
     "metadata": {
      "needs_background": "light"
     },
     "output_type": "display_data"
    }
   ],
   "source": [
    "msec={}\n",
    "msec['MSE-COSINE-SIMILARITY']=[49.762671, 53.024376,50.703536, 50.766929,50.782924,50.825776, 52.019965, 53.921773,54.036956,54.081974, \n",
    "           54.081974,54.081974,54.077470,54.052357,53.909908,53.955089,53.880403,52.775180, 53.979210,\n",
    "           55.059318,55.444883, 55.830296,56.045268,56.386847, 56.187849]\n",
    "msec['Invalid numbers']=[32,40,45,45,45,45,41,25, 24,24,24,24,24,24,30,34,70,172,97,45,33,25,22,20,21]\n",
    "import pandas as pd \n",
    "msec=pd.DataFrame.from_dict(msec)\n",
    "import matplotlib.pyplot as plt\n",
    "fig,ax = plt.subplots()\n",
    "\n",
    "for name in msec.columns:\n",
    "    ax.plot(msec[name].values,label=name)\n",
    "\n",
    "ax.set_xlabel(\"epochs\")\n",
    "ax.set_ylabel(\"Performance\")\n",
    "ax.legend(loc='best')\n"
   ]
  },
  {
   "cell_type": "code",
   "execution_count": 9,
   "metadata": {},
   "outputs": [
    {
     "data": {
      "text/plain": [
       "<matplotlib.legend.Legend at 0x7fe1bb6a0588>"
      ]
     },
     "execution_count": 9,
     "metadata": {},
     "output_type": "execute_result"
    },
    {
     "data": {
      "image/png": "[encoded data removed]",
      "text/plain": [
       "<Figure size 432x288 with 1 Axes>"
      ]
     },
     "metadata": {
      "needs_background": "light"
     },
     "output_type": "display_data"
    }
   ],
   "source": [
    "msec1={}\n",
    "msec2={}\n",
    "msec1['emb_dim=50']=[ 57.898399,58.339805, 57.279348, 58.127807,58.862261, 58.971174, 59.096178,59.566813,\n",
    "    59.393306, 59.582851, 59.891960, 59.829067,59.680285, 59.614254, 59.790584, 59.844391, 59.562348] \n",
    "msec2['emb_dim=300']=[49.762671, 53.024376,50.703536, 50.766929,50.782924,50.825776, 52.019965, 53.921773,54.036956,54.081974, \n",
    "           54.081974,54.081974,54.077470,54.052357,53.909908,53.955089,53.880403,52.775180, 53.979210,\n",
    "           55.059318,55.444883, 55.830296,56.045268,56.386847, 56.187849]\n",
    "import pandas as pd \n",
    "msec1=pd.DataFrame.from_dict(msec1)\n",
    "msec2=pd.DataFrame.from_dict(msec2)\n",
    "import matplotlib.pyplot as plt\n",
    "fig,ax = plt.subplots()\n",
    "\n",
    "for name in [msec1.columns[0],msec2.columns[0]]:\n",
    "        if name=='emb_dim=50':\n",
    "                ax.plot(msec1[name].values,label=name)\n",
    "        else:\n",
    "                ax.plot(msec2[name].values,label=name)\n",
    "\n",
    "ax.set_xlabel(\"epochs\")\n",
    "ax.set_ylabel(\"MSE-COSINE-SIMILARITY\")\n",
    "ax.legend(loc='best')"
   ]
  },
  {
   "cell_type": "code",
   "execution_count": 10,
   "metadata": {},
   "outputs": [
    {
     "data": {
      "text/plain": [
       "<matplotlib.legend.Legend at 0x7fe1bb612358>"
      ]
     },
     "execution_count": 10,
     "metadata": {},
     "output_type": "execute_result"
    },
    {
     "data": {
      "image/png": "[encoded data removed]",
      "text/plain": [
       "<Figure size 432x288 with 1 Axes>"
      ]
     },
     "metadata": {
      "needs_background": "light"
     },
     "output_type": "display_data"
    }
   ],
   "source": [
    "msec1={}\n",
    "msec2={}\n",
    "msec1['emb_dim=50']=[63,127,165,104,82,69,81,60,74,50, 47,50,52, 55,49,46,44]\n",
    "msec2['emb_dim=300']=[32,40,45,45,45,45,41,25, 24,24,24,24,24,24,30,34,70,172,97,45,33,25,22,20,21]\n",
    "import pandas as pd \n",
    "msec1=pd.DataFrame.from_dict(msec1)\n",
    "msec2=pd.DataFrame.from_dict(msec2)\n",
    "import matplotlib.pyplot as plt\n",
    "fig,ax = plt.subplots()\n",
    "\n",
    "for name in [msec1.columns[0],msec2.columns[0]]:\n",
    "        if name=='emb_dim=50':\n",
    "                ax.plot(msec1[name].values,label=name)\n",
    "        else:\n",
    "                ax.plot(msec2[name].values,label=name)\n",
    "\n",
    "ax.set_xlabel(\"epochs\")\n",
    "ax.set_ylabel(\"Invalid numbers\")\n",
    "ax.legend(loc='best')"
   ]
  },
  {
   "cell_type": "code",
   "execution_count": null,
   "metadata": {},
   "outputs": [],
   "source": []
  },
  {
   "cell_type": "code",
   "execution_count": 50,
   "metadata": {
    "_cell_guid": "265fd2f2-cd5f-590d-1fa3-cf6eeedf89fe",
    "colab": {
     "base_uri": "https://localhost:8080/",
     "height": 1000
    },
    "colab_type": "code",
    "id": "SRKF7S2a-fPe",
    "outputId": "79197453-3a51-4831-c99b-81356c319759",
    "scrolled": false
   },
   "outputs": [
    {
     "name": "stdout",
     "output_type": "stream",
     "text": [
      "\n",
      "----Prepare evaluation\n",
      "INFO:tensorflow:Restoring parameters from /content/gdrive/My Drive/best_so_far_model.ckpt\n",
      "INFO:tensorflow:Restoring parameters from /content/gdrive/My Drive/best_so_far_model.ckpt\n",
      "INFO:tensorflow:Restoring parameters from /content/gdrive/My Drive/best_so_far_model.ckpt\n",
      "INFO:tensorflow:Restoring parameters from /content/gdrive/My Drive/best_so_far_model.ckpt\n",
      "INFO:tensorflow:Restoring parameters from /content/gdrive/My Drive/best_so_far_model.ckpt\n",
      "INFO:tensorflow:Restoring parameters from /content/gdrive/My Drive/best_so_far_model.ckpt\n",
      "INFO:tensorflow:Restoring parameters from /content/gdrive/My Drive/best_so_far_model.ckpt\n",
      "INFO:tensorflow:Restoring parameters from /content/gdrive/My Drive/best_so_far_model.ckpt\n",
      "INFO:tensorflow:Restoring parameters from /content/gdrive/My Drive/best_so_far_model.ckpt\n",
      "INFO:tensorflow:Restoring parameters from /content/gdrive/My Drive/best_so_far_model.ckpt\n",
      "INFO:tensorflow:Restoring parameters from /content/gdrive/My Drive/best_so_far_model.ckpt\n",
      "INFO:tensorflow:Restoring parameters from /content/gdrive/My Drive/best_so_far_model.ckpt\n",
      "INFO:tensorflow:Restoring parameters from /content/gdrive/My Drive/best_so_far_model.ckpt\n",
      "INFO:tensorflow:Restoring parameters from /content/gdrive/My Drive/best_so_far_model.ckpt\n",
      "INFO:tensorflow:Restoring parameters from /content/gdrive/My Drive/best_so_far_model.ckpt\n",
      "INFO:tensorflow:Restoring parameters from /content/gdrive/My Drive/best_so_far_model.ckpt\n",
      "INFO:tensorflow:Restoring parameters from /content/gdrive/My Drive/best_so_far_model.ckpt\n",
      "INFO:tensorflow:Restoring parameters from /content/gdrive/My Drive/best_so_far_model.ckpt\n",
      "INFO:tensorflow:Restoring parameters from /content/gdrive/My Drive/best_so_far_model.ckpt\n",
      "INFO:tensorflow:Restoring parameters from /content/gdrive/My Drive/best_so_far_model.ckpt\n",
      "INFO:tensorflow:Restoring parameters from /content/gdrive/My Drive/best_so_far_model.ckpt\n",
      "INFO:tensorflow:Restoring parameters from /content/gdrive/My Drive/best_so_far_model.ckpt\n",
      "INFO:tensorflow:Restoring parameters from /content/gdrive/My Drive/best_so_far_model.ckpt\n",
      "INFO:tensorflow:Restoring parameters from /content/gdrive/My Drive/best_so_far_model.ckpt\n",
      "INFO:tensorflow:Restoring parameters from /content/gdrive/My Drive/best_so_far_model.ckpt\n",
      "INFO:tensorflow:Restoring parameters from /content/gdrive/My Drive/best_so_far_model.ckpt\n",
      "INFO:tensorflow:Restoring parameters from /content/gdrive/My Drive/best_so_far_model.ckpt\n",
      "INFO:tensorflow:Restoring parameters from /content/gdrive/My Drive/best_so_far_model.ckpt\n",
      "INFO:tensorflow:Restoring parameters from /content/gdrive/My Drive/best_so_far_model.ckpt\n",
      "INFO:tensorflow:Restoring parameters from /content/gdrive/My Drive/best_so_far_model.ckpt\n",
      "INFO:tensorflow:Restoring parameters from /content/gdrive/My Drive/best_so_far_model.ckpt\n",
      "INFO:tensorflow:Restoring parameters from /content/gdrive/My Drive/best_so_far_model.ckpt\n",
      "INFO:tensorflow:Restoring parameters from /content/gdrive/My Drive/best_so_far_model.ckpt\n",
      "INFO:tensorflow:Restoring parameters from /content/gdrive/My Drive/best_so_far_model.ckpt\n",
      "INFO:tensorflow:Restoring parameters from /content/gdrive/My Drive/best_so_far_model.ckpt\n",
      "INFO:tensorflow:Restoring parameters from /content/gdrive/My Drive/best_so_far_model.ckpt\n",
      "INFO:tensorflow:Restoring parameters from /content/gdrive/My Drive/best_so_far_model.ckpt\n",
      "INFO:tensorflow:Restoring parameters from /content/gdrive/My Drive/best_so_far_model.ckpt\n",
      "INFO:tensorflow:Restoring parameters from /content/gdrive/My Drive/best_so_far_model.ckpt\n",
      "INFO:tensorflow:Restoring parameters from /content/gdrive/My Drive/best_so_far_model.ckpt\n",
      "INFO:tensorflow:Restoring parameters from /content/gdrive/My Drive/best_so_far_model.ckpt\n",
      "INFO:tensorflow:Restoring parameters from /content/gdrive/My Drive/best_so_far_model.ckpt\n",
      "INFO:tensorflow:Restoring parameters from /content/gdrive/My Drive/best_so_far_model.ckpt\n",
      "        \n",
      "        \n",
      "\n",
      "Text\n",
      "  Word Ids:    [1605, 913, 111, 687, 891, 405, 601, 248, 1242, 785, 6101, 223, 3896, 43125]\n",
      "  Input Words: everyone family like even though get bags last long need refill every months\n",
      "\n",
      "Summary\n",
      "  Word Ids:       [13, 70, 70, 17]\n",
      "  Response Words: great for for the\n",
      " Ground Truth: great taste goes fast\n",
      "        \n",
      "        \n",
      "INFO:tensorflow:Restoring parameters from /content/gdrive/My Drive/best_so_far_model.ckpt\n",
      "INFO:tensorflow:Restoring parameters from /content/gdrive/My Drive/best_so_far_model.ckpt\n",
      "INFO:tensorflow:Restoring parameters from /content/gdrive/My Drive/best_so_far_model.ckpt\n",
      "INFO:tensorflow:Restoring parameters from /content/gdrive/My Drive/best_so_far_model.ckpt\n",
      "INFO:tensorflow:Restoring parameters from /content/gdrive/My Drive/best_so_far_model.ckpt\n",
      "INFO:tensorflow:Restoring parameters from /content/gdrive/My Drive/best_so_far_model.ckpt\n",
      "        \n",
      "        \n",
      "\n",
      "Text\n",
      "  Word Ids:    [32, 17981, 1559, 1330, 1766, 13, 1107, 13, 54, 1642, 71, 746, 4144, 672, 2688, 299, 43125]\n",
      "  Input Words: love austin pepper jack crackers great freshness great taste plus price cant hardly beat thank amazon\n",
      "\n",
      "Summary\n",
      "  Word Ids:       [13, 70, 70, 17]\n",
      "  Response Words: great for for the\n",
      " Ground Truth: great freshness great taste\n",
      "        \n",
      "        \n",
      "INFO:tensorflow:Restoring parameters from /content/gdrive/My Drive/best_so_far_model.ckpt\n",
      "INFO:tensorflow:Restoring parameters from /content/gdrive/My Drive/best_so_far_model.ckpt\n",
      "INFO:tensorflow:Restoring parameters from /content/gdrive/My Drive/best_so_far_model.ckpt\n",
      "INFO:tensorflow:Restoring parameters from /content/gdrive/My Drive/best_so_far_model.ckpt\n",
      "INFO:tensorflow:Restoring parameters from /content/gdrive/My Drive/best_so_far_model.ckpt\n",
      "INFO:tensorflow:Restoring parameters from /content/gdrive/My Drive/best_so_far_model.ckpt\n",
      "INFO:tensorflow:Restoring parameters from /content/gdrive/My Drive/best_so_far_model.ckpt\n",
      "INFO:tensorflow:Restoring parameters from /content/gdrive/My Drive/best_so_far_model.ckpt\n",
      "INFO:tensorflow:Restoring parameters from /content/gdrive/My Drive/best_so_far_model.ckpt\n",
      "INFO:tensorflow:Restoring parameters from /content/gdrive/My Drive/best_so_far_model.ckpt\n",
      "INFO:tensorflow:Restoring parameters from /content/gdrive/My Drive/best_so_far_model.ckpt\n",
      "INFO:tensorflow:Restoring parameters from /content/gdrive/My Drive/best_so_far_model.ckpt\n",
      "INFO:tensorflow:Restoring parameters from /content/gdrive/My Drive/best_so_far_model.ckpt\n",
      "INFO:tensorflow:Restoring parameters from /content/gdrive/My Drive/best_so_far_model.ckpt\n",
      "INFO:tensorflow:Restoring parameters from /content/gdrive/My Drive/best_so_far_model.ckpt\n",
      "INFO:tensorflow:Restoring parameters from /content/gdrive/My Drive/best_so_far_model.ckpt\n",
      "INFO:tensorflow:Restoring parameters from /content/gdrive/My Drive/best_so_far_model.ckpt\n",
      "INFO:tensorflow:Restoring parameters from /content/gdrive/My Drive/best_so_far_model.ckpt\n",
      "INFO:tensorflow:Restoring parameters from /content/gdrive/My Drive/best_so_far_model.ckpt\n",
      "INFO:tensorflow:Restoring parameters from /content/gdrive/My Drive/best_so_far_model.ckpt\n",
      "INFO:tensorflow:Restoring parameters from /content/gdrive/My Drive/best_so_far_model.ckpt\n",
      "INFO:tensorflow:Restoring parameters from /content/gdrive/My Drive/best_so_far_model.ckpt\n",
      "        \n",
      "        \n",
      "\n",
      "Text\n",
      "  Word Ids:    [692, 545, 560, 7414, 379, 0, 68, 40771, 13424, 486, 1511, 1460, 14238, 2828, 24321, 1702, 1743, 2064, 2320, 1460, 13, 43125]\n",
      "  Input Words: yet find noodle tinkyada really good flavor collide overpower foods serve noodles fallen apart alarmed cooking water goes cloudy noodles great\n",
      "\n",
      "Summary\n",
      "  Word Ids:       [13, 70, 70, 17]\n",
      "  Response Words: great for for the\n",
      " Ground Truth: they got it right\n",
      "        \n",
      "        \n",
      "INFO:tensorflow:Restoring parameters from /content/gdrive/My Drive/best_so_far_model.ckpt\n",
      "INFO:tensorflow:Restoring parameters from /content/gdrive/My Drive/best_so_far_model.ckpt\n",
      "INFO:tensorflow:Restoring parameters from /content/gdrive/My Drive/best_so_far_model.ckpt\n",
      "INFO:tensorflow:Restoring parameters from /content/gdrive/My Drive/best_so_far_model.ckpt\n",
      "INFO:tensorflow:Restoring parameters from /content/gdrive/My Drive/best_so_far_model.ckpt\n",
      "INFO:tensorflow:Restoring parameters from /content/gdrive/My Drive/best_so_far_model.ckpt\n",
      "INFO:tensorflow:Restoring parameters from /content/gdrive/My Drive/best_so_far_model.ckpt\n",
      "INFO:tensorflow:Restoring parameters from /content/gdrive/My Drive/best_so_far_model.ckpt\n",
      "INFO:tensorflow:Restoring parameters from /content/gdrive/My Drive/best_so_far_model.ckpt\n",
      "INFO:tensorflow:Restoring parameters from /content/gdrive/My Drive/best_so_far_model.ckpt\n",
      "INFO:tensorflow:Restoring parameters from /content/gdrive/My Drive/best_so_far_model.ckpt\n",
      "INFO:tensorflow:Restoring parameters from /content/gdrive/My Drive/best_so_far_model.ckpt\n",
      "INFO:tensorflow:Restoring parameters from /content/gdrive/My Drive/best_so_far_model.ckpt\n",
      "INFO:tensorflow:Restoring parameters from /content/gdrive/My Drive/best_so_far_model.ckpt\n",
      "INFO:tensorflow:Restoring parameters from /content/gdrive/My Drive/best_so_far_model.ckpt\n",
      "INFO:tensorflow:Restoring parameters from /content/gdrive/My Drive/best_so_far_model.ckpt\n",
      "INFO:tensorflow:Restoring parameters from /content/gdrive/My Drive/best_so_far_model.ckpt\n",
      "INFO:tensorflow:Restoring parameters from /content/gdrive/My Drive/best_so_far_model.ckpt\n",
      "INFO:tensorflow:Restoring parameters from /content/gdrive/My Drive/best_so_far_model.ckpt\n",
      "INFO:tensorflow:Restoring parameters from /content/gdrive/My Drive/best_so_far_model.ckpt\n",
      "INFO:tensorflow:Restoring parameters from /content/gdrive/My Drive/best_so_far_model.ckpt\n",
      "INFO:tensorflow:Restoring parameters from /content/gdrive/My Drive/best_so_far_model.ckpt\n",
      "INFO:tensorflow:Restoring parameters from /content/gdrive/My Drive/best_so_far_model.ckpt\n",
      "INFO:tensorflow:Restoring parameters from /content/gdrive/My Drive/best_so_far_model.ckpt\n",
      "INFO:tensorflow:Restoring parameters from /content/gdrive/My Drive/best_so_far_model.ckpt\n",
      "INFO:tensorflow:Restoring parameters from /content/gdrive/My Drive/best_so_far_model.ckpt\n",
      "INFO:tensorflow:Restoring parameters from /content/gdrive/My Drive/best_so_far_model.ckpt\n",
      "INFO:tensorflow:Restoring parameters from /content/gdrive/My Drive/best_so_far_model.ckpt\n",
      "INFO:tensorflow:Restoring parameters from /content/gdrive/My Drive/best_so_far_model.ckpt\n",
      "\n",
      "...prepare evaluation finished.\n"
     ]
    }
   ],
   "source": [
    "\n",
    "#random = np.random.randint(0,3000)\n",
    "#text = news_texts_filtered[random]\n",
    "model_predictions = []\n",
    "ground_truth = []\n",
    "invalid_number_prediction_count = 0\n",
    "checkpoint = logs_path + 'best_so_far_model.ckpt' \n",
    "print(\"\\n----Prepare evaluation\")\n",
    "for ii in range(100):\n",
    "    random = np.random.randint(21700,27125)\n",
    "    text = news_texts_filtered[random]\n",
    "\n",
    "    #random = np.random.randint(3000,len(news_texts_filtered))\n",
    "        \n",
    "    loaded_graph = tf.Graph()\n",
    "    with tf.Session(graph=loaded_graph) as sess:\n",
    "                  loader = tf.train.import_meta_graph(checkpoint + '.meta')\n",
    "                  loader.restore(sess, checkpoint)\n",
    "                  input_data = loaded_graph.get_tensor_by_name('input_data:0')\n",
    "                  logits = loaded_graph.get_tensor_by_name('predictions:0')\n",
    "                  text_length = loaded_graph.get_tensor_by_name('text_len:0')\n",
    "                  summary_length = loaded_graph.get_tensor_by_name('summary_len:0')\n",
    "                  keep_prob = loaded_graph.get_tensor_by_name('dropout_probs:0')\n",
    "                  result_logits = sess.run(logits, {input_data: [text]*batch_size, \n",
    "                  summary_length: [np.random.randint(5,8)], \n",
    "                  text_length: [len(text)]*batch_size,\n",
    "                  keep_prob: 1.0})[0] \n",
    "\n",
    "                  pad = word2int[TOKEN_PAD] \n",
    "                  eos = word2int[TOKEN_EOS] \n",
    "                  Y=''.join(int2word[i] for i in result_logits if i !=pad)\n",
    "                  O=''.join(int2word[i] for i in news_summaries_filtered[random] if i!=pad)\n",
    "                     \n",
    "                  if mean_absolute_error_texts([Y],[O]) > 85:\n",
    "                  \n",
    "                     print('        ')\n",
    "                     print('        ')\n",
    "                     #print('\\nOriginal Text:', input_sentence)\n",
    "\n",
    "                     print('\\nText')\n",
    "                     print('  Word Ids:    {}'.format([i for i in text]))\n",
    "                     print('  Input Words: {}'.format(\" \".join( int2word[i] for i in text if i!=eos)))\n",
    "\n",
    "                     print('\\nSummary')\n",
    "                     print('  Word Ids:       {}'.format([i for i in result_logits if i != pad]))\n",
    "                     print('  Response Words: {}'.format(\" \".join(int2word[i] for i in result_logits if i!=pad )))\n",
    "                     print(' Ground Truth: {}'.format(\" \".join(int2word[i] for i in news_summaries_filtered[random] if i!=pad)))\n",
    "                     print('        ')\n",
    "                     print('        ')\n",
    " \n",
    "model_predictions.append(result_logits)\n",
    "ground_truth.append(news_summaries_filtered[random])         \n",
    "print('\\n...prepare evaluation finished.')"
   ]
  },
  {
   "cell_type": "code",
   "execution_count": 48,
   "metadata": {
    "colab": {
     "base_uri": "https://localhost:8080/",
     "height": 33
    },
    "colab_type": "code",
    "id": "4UN0LwG3r7FP",
    "outputId": "1f25718a-4eb7-44b4-94d0-633e2439e451"
   },
   "outputs": [
    {
     "name": "stdout",
     "output_type": "stream",
     "text": [
      "Finish \n"
     ]
    }
   ],
   "source": [
    "print(\"Finish \")"
   ]
  }
 ],
 "metadata": {
  "_change_revision": 0,
  "_is_fork": false,
  "accelerator": "GPU",
  "colab": {
   "collapsed_sections": [],
   "name": "02_example_amazon_reviews_seq2seq_colab_with_attetionMay28.ipynb",
   "provenance": []
  },
  "kernelspec": {
   "display_name": "Python 3",
   "language": "python",
   "name": "python3"
  },
  "language_info": {
   "codemirror_mode": {
    "name": "ipython",
    "version": 3
   },
   "file_extension": ".py",
   "mimetype": "text/x-python",
   "name": "python",
   "nbconvert_exporter": "python",
   "pygments_lexer": "ipython3",
   "version": "3.6.5"
  }
 },
 "nbformat": 4,
 "nbformat_minor": 1
}
