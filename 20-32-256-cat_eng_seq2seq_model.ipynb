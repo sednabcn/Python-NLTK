{
 "cells": [
  {
   "cell_type": "markdown",
   "metadata": {
    "colab_type": "text",
    "id": "GvEmSE6vTdTS"
   },
   "source": [
    "<h1>Cat to English TRANSLATION</h1>"
   ]
  },
  {
   "cell_type": "code",
   "execution_count": 1,
   "metadata": {
    "colab": {
     "base_uri": "https://localhost:8080/",
     "height": 358
    },
    "colab_type": "code",
    "id": "O6YEZIHOYXqA",
    "outputId": "0a70a234-4b27-4e00-a055-08a258b9e9f7"
   },
   "outputs": [
    {
     "name": "stdout",
     "output_type": "stream",
     "text": [
      "Requirement already satisfied: tensorflow==1.15 in /usr/local/lib/python3.6/dist-packages (1.15.0)\n",
      "Requirement already satisfied: numpy<2.0,>=1.16.0 in /usr/local/lib/python3.6/dist-packages (from tensorflow==1.15) (1.18.4)\n",
      "Requirement already satisfied: keras-applications>=1.0.8 in /usr/local/lib/python3.6/dist-packages (from tensorflow==1.15) (1.0.8)\n",
      "Requirement already satisfied: grpcio>=1.8.6 in /usr/local/lib/python3.6/dist-packages (from tensorflow==1.15) (1.28.1)\n",
      "Requirement already satisfied: absl-py>=0.7.0 in /usr/local/lib/python3.6/dist-packages (from tensorflow==1.15) (0.9.0)\n",
      "Requirement already satisfied: wheel>=0.26 in /usr/local/lib/python3.6/dist-packages (from tensorflow==1.15) (0.34.2)\n",
      "Requirement already satisfied: tensorboard<1.16.0,>=1.15.0 in /usr/local/lib/python3.6/dist-packages (from tensorflow==1.15) (1.15.0)\n",
      "Requirement already satisfied: gast==0.2.2 in /usr/local/lib/python3.6/dist-packages (from tensorflow==1.15) (0.2.2)\n",
      "Requirement already satisfied: keras-preprocessing>=1.0.5 in /usr/local/lib/python3.6/dist-packages (from tensorflow==1.15) (1.1.0)\n",
      "Requirement already satisfied: astor>=0.6.0 in /usr/local/lib/python3.6/dist-packages (from tensorflow==1.15) (0.8.1)\n",
      "Requirement already satisfied: google-pasta>=0.1.6 in /usr/local/lib/python3.6/dist-packages (from tensorflow==1.15) (0.2.0)\n",
      "Requirement already satisfied: wrapt>=1.11.1 in /usr/local/lib/python3.6/dist-packages (from tensorflow==1.15) (1.12.1)\n",
      "Requirement already satisfied: protobuf>=3.6.1 in /usr/local/lib/python3.6/dist-packages (from tensorflow==1.15) (3.10.0)\n",
      "Requirement already satisfied: termcolor>=1.1.0 in /usr/local/lib/python3.6/dist-packages (from tensorflow==1.15) (1.1.0)\n",
      "Requirement already satisfied: six>=1.10.0 in /usr/local/lib/python3.6/dist-packages (from tensorflow==1.15) (1.12.0)\n",
      "Requirement already satisfied: opt-einsum>=2.3.2 in /usr/local/lib/python3.6/dist-packages (from tensorflow==1.15) (3.2.1)\n",
      "Requirement already satisfied: tensorflow-estimator==1.15.1 in /usr/local/lib/python3.6/dist-packages (from tensorflow==1.15) (1.15.1)\n",
      "Requirement already satisfied: h5py in /usr/local/lib/python3.6/dist-packages (from keras-applications>=1.0.8->tensorflow==1.15) (2.10.0)\n",
      "Requirement already satisfied: setuptools>=41.0.0 in /usr/local/lib/python3.6/dist-packages (from tensorboard<1.16.0,>=1.15.0->tensorflow==1.15) (46.3.0)\n",
      "Requirement already satisfied: werkzeug>=0.11.15 in /usr/local/lib/python3.6/dist-packages (from tensorboard<1.16.0,>=1.15.0->tensorflow==1.15) (1.0.1)\n",
      "Requirement already satisfied: markdown>=2.6.8 in /usr/local/lib/python3.6/dist-packages (from tensorboard<1.16.0,>=1.15.0->tensorflow==1.15) (3.2.1)\n"
     ]
    }
   ],
   "source": [
    "from distutils.version import LooseVersion\n",
    "import tensorflow as tf\n",
    "from tensorflow.python.layers.core import Dense\n",
    "\n",
    "\n",
    "# Check TensorFlow Version\n",
    "assert LooseVersion(tf.__version__) >= LooseVersion('1.1'), 'Please use TensorFlow version 1.1 or newer'\n",
    "!python3.6 -m pip install tensorflow==1.15"
   ]
  },
  {
   "cell_type": "code",
   "execution_count": 2,
   "metadata": {
    "colab": {
     "base_uri": "https://localhost:8080/",
     "height": 1000
    },
    "colab_type": "code",
    "id": "Nu3dP2ypavXH",
    "outputId": "a245ea3f-997a-478b-8788-c4366af175ed"
   },
   "outputs": [
    {
     "name": "stdout",
     "output_type": "stream",
     "text": [
      "1.15.0\n",
      "WARNING:tensorflow:\n",
      "The TensorFlow contrib module will not be included in TensorFlow 2.0.\n",
      "For more information, please see:\n",
      "  * https://github.com/tensorflow/community/blob/master/rfcs/20180907-contrib-sunset.md\n",
      "  * https://github.com/tensorflow/addons\n",
      "  * https://github.com/tensorflow/io (for I/O related ops)\n",
      "If you depend on functionality not listed there, please file an issue.\n",
      "\n"
     ]
    },
    {
     "data": {
      "text/plain": [
       "['AttentionCellWrapper',\n",
       " 'BasicLSTMCell',\n",
       " 'BasicRNNCell',\n",
       " 'BidirectionalGridLSTMCell',\n",
       " 'CompiledWrapper',\n",
       " 'Conv1DLSTMCell',\n",
       " 'Conv2DLSTMCell',\n",
       " 'Conv3DLSTMCell',\n",
       " 'ConvLSTMCell',\n",
       " 'CoupledInputForgetGateLSTMCell',\n",
       " 'DeviceWrapper',\n",
       " 'DropoutWrapper',\n",
       " 'EmbeddingWrapper',\n",
       " 'FusedRNNCell',\n",
       " 'FusedRNNCellAdaptor',\n",
       " 'GLSTMCell',\n",
       " 'GRUBlockCell',\n",
       " 'GRUBlockCellV2',\n",
       " 'GRUCell',\n",
       " 'GridLSTMCell',\n",
       " 'HighwayWrapper',\n",
       " 'IndRNNCell',\n",
       " 'IndyGRUCell',\n",
       " 'IndyLSTMCell',\n",
       " 'InputProjectionWrapper',\n",
       " 'IntersectionRNNCell',\n",
       " 'LSTMBlockCell',\n",
       " 'LSTMBlockFusedCell',\n",
       " 'LSTMBlockWrapper',\n",
       " 'LSTMCell',\n",
       " 'LSTMStateTuple',\n",
       " 'LayerNormBasicLSTMCell',\n",
       " 'LayerRNNCell',\n",
       " 'MultiRNNCell',\n",
       " 'NASCell',\n",
       " 'OutputProjectionWrapper',\n",
       " 'PhasedLSTMCell',\n",
       " 'RNNCell',\n",
       " 'ResidualWrapper',\n",
       " 'SRUCell',\n",
       " 'TimeFreqLSTMCell',\n",
       " 'TimeReversedFusedRNN',\n",
       " 'UGRNNCell',\n",
       " '__builtins__',\n",
       " '__cached__',\n",
       " '__doc__',\n",
       " '__file__',\n",
       " '__loader__',\n",
       " '__name__',\n",
       " '__package__',\n",
       " '__path__',\n",
       " '__spec__',\n",
       " 'best_effort_input_batch_size',\n",
       " 'stack_bidirectional_dynamic_rnn',\n",
       " 'stack_bidirectional_rnn',\n",
       " 'static_bidirectional_rnn',\n",
       " 'static_rnn',\n",
       " 'static_state_saving_rnn',\n",
       " 'transpose_batch_time']"
      ]
     },
     "execution_count": 2,
     "metadata": {
      "tags": []
     },
     "output_type": "execute_result"
    }
   ],
   "source": [
    "import tensorflow as tf\n",
    "print(tf.__version__)\n",
    "dir(tf.contrib.rnn)"
   ]
  },
  {
   "cell_type": "code",
   "execution_count": 0,
   "metadata": {
    "_cell_guid": "3aee62b9-47ce-e416-5816-8df7126fe690",
    "colab": {},
    "colab_type": "code",
    "id": "FQ7ytEbpTdTV"
   },
   "outputs": [],
   "source": [
    "import pandas as pd\n",
    "import tensorflow as tf\n",
    "import numpy as np\n",
    "import gzip\n",
    "import codecs\n",
    "import re\n",
    "import time\n",
    "from tensorflow.python.ops.rnn_cell_impl import _zero_state_tensors\n",
    "from tensorflow.python.layers.core import Dense\n",
    "from tensorflow.contrib.rnn import GRUCell, DropoutWrapper\n",
    "from tensorflow.contrib.seq2seq import TrainingHelper, GreedyEmbeddingHelper,BasicDecoder, dynamic_decode, \\\n",
    " BahdanauAttention, AttentionWrapper,sequence_loss\n",
    "import helper\n",
    "import matplotlib.pyplot as plt\n",
    "import matplotlib.ticker as ticker\n",
    "from sklearn.model_selection import train_test_split\n",
    "import unicodedata\n",
    "import os\n",
    "import io\n",
    "\n",
    "\n",
    "TOKEN_GO = '<GO>'\n",
    "TOKEN_EOS = '<EOS>'\n",
    "TOKEN_PAD = '<PAD>'\n",
    "TOKEN_UNK = '<UNK>'"
   ]
  },
  {
   "cell_type": "code",
   "execution_count": 4,
   "metadata": {
    "colab": {
     "base_uri": "https://localhost:8080/",
     "height": 82
    },
    "colab_type": "code",
    "id": "flWSMJRkztR4",
    "outputId": "e9bf7be6-06fc-4824-b6ac-8f23a2ffbaf9"
   },
   "outputs": [
    {
     "name": "stdout",
     "output_type": "stream",
     "text": [
      "[nltk_data] Downloading package punkt to /root/nltk_data...\n",
      "[nltk_data]   Package punkt is already up-to-date!\n",
      "[nltk_data] Downloading package stopwords to /root/nltk_data...\n",
      "[nltk_data]   Package stopwords is already up-to-date!\n"
     ]
    }
   ],
   "source": [
    "import nltk\n",
    "nltk.download('punkt')\n",
    "nltk.download('stopwords')\n",
    "from nltk.corpus import stopwords \n",
    "from nltk.tokenize import word_tokenize \n",
    "from numpy import linalg as LA"
   ]
  },
  {
   "cell_type": "code",
   "execution_count": 5,
   "metadata": {
    "colab": {
     "base_uri": "https://localhost:8080/",
     "height": 33
    },
    "colab_type": "code",
    "id": "O9dyYsyuVIAg",
    "outputId": "9f9bfc66-ead2-4fdf-86ec-88ee92608b68"
   },
   "outputs": [
    {
     "name": "stdout",
     "output_type": "stream",
     "text": [
      "Drive already mounted at /content/gdrive/; to attempt to forcibly remount, call drive.mount(\"/content/gdrive/\", force_remount=True).\n"
     ]
    }
   ],
   "source": [
    "from google.colab import drive\n",
    "drive.mount('/content/gdrive/')"
   ]
  },
  {
   "cell_type": "code",
   "execution_count": 6,
   "metadata": {
    "colab": {
     "base_uri": "https://localhost:8080/",
     "height": 310
    },
    "colab_type": "code",
    "id": "vLDd9ViBV8aX",
    "outputId": "ad5ab192-0d91-4498-c87d-f5004795666a"
   },
   "outputs": [
    {
     "data": {
      "text/plain": [
       "['02_example.ipynb',\n",
       " 'data-protfolio.ppt',\n",
       " 'amazon-fine-food-reviews.zip',\n",
       " 'attention.py',\n",
       " 'cat-eng.zip',\n",
       " 'news.txt.gz',\n",
       " 'summary.txt.gz',\n",
       " 'deu-eng.zip',\n",
       " 'cc.ca.300.vec.gz',\n",
       " 'Colab Notebooks',\n",
       " 'data_new.csv',\n",
       " 'cc.en.300.vec.gz',\n",
       " 'cc.en.300.bin.gz',\n",
       " 'cc.ca.300.bin.gz',\n",
       " 'best_so_far_model.ckpt.index',\n",
       " 'checkpoint',\n",
       " 'best_so_far_model.ckpt.data-00000-of-00001',\n",
       " 'best_so_far_model.ckpt.meta']"
      ]
     },
     "execution_count": 6,
     "metadata": {
      "tags": []
     },
     "output_type": "execute_result"
    }
   ],
   "source": [
    "import os\n",
    "! rm /content/gdrive/My\\ Drive/events.out*\n",
    "os.listdir('/content/gdrive/My Drive')"
   ]
  },
  {
   "cell_type": "code",
   "execution_count": 0,
   "metadata": {
    "colab": {},
    "colab_type": "code",
    "id": "TqEa4u_DmgPx"
   },
   "outputs": [],
   "source": [
    "if 'cat.txt' not in os.listdir('/content/'):\n",
    "    !unzip /content/gdrive/My\\ Drive/cat-eng.zip\n",
    "    "
   ]
  },
  {
   "cell_type": "code",
   "execution_count": 0,
   "metadata": {
    "colab": {},
    "colab_type": "code",
    "id": "-187pLnCnDsP"
   },
   "outputs": [],
   "source": [
    "path_to_file='/content/cat.txt'"
   ]
  },
  {
   "cell_type": "code",
   "execution_count": 0,
   "metadata": {
    "colab": {},
    "colab_type": "code",
    "id": "rd0jw-eC3jEh"
   },
   "outputs": [],
   "source": [
    "# Converts the unicode file to ascii\n",
    "def unicode_to_ascii(s):\n",
    "  return ''.join(c for c in unicodedata.normalize('NFD', s)\n",
    "      if unicodedata.category(c) != 'Mn')\n",
    "\n",
    "\n",
    "def preprocess_sentence(w):\n",
    "  w = unicode_to_ascii(w.lower().strip())\n",
    "\n",
    "  # creating a space between a word and the punctuation following it\n",
    "  # eg: \"he is a boy.\" => \"he is a boy .\"\n",
    "  # Reference:- https://stackoverflow.com/questions/3645931/python-padding-punctuation-with-white-spaces-keeping-punctuation\n",
    "  w = re.sub(r\"([?.!,¿])\", r\" \\1 \", w)\n",
    "  w = re.sub(r'[\" \"]+', \" \", w)\n",
    "  # replacing everything with space except (a-z, A-Z, \".\", \"?\", \"!\", \",\")\n",
    "  w = re.sub(r\"[^a-zA-Z?.!,¿]+\", \" \", w)\n",
    "  w = w.rstrip().strip()\n",
    "\n",
    "  # adding a start and an end token to the sentence\n",
    "  # so that the model know when to start and stop predicting.\n",
    "  w = '<GO> ' + w + ' <EOS>'\n",
    "  return w"
   ]
  },
  {
   "cell_type": "code",
   "execution_count": 10,
   "metadata": {
    "colab": {
     "base_uri": "https://localhost:8080/",
     "height": 50
    },
    "colab_type": "code",
    "id": "opI2GzOt479E",
    "outputId": "b5b52ddf-a143-4bff-b4fc-a4c835594272"
   },
   "outputs": [
    {
     "name": "stdout",
     "output_type": "stream",
     "text": [
      "<GO> may i borrow this book ? <EOS>\n",
      "b'<GO> \\xc2\\xbf podra prendre prestat aquest llibre ? <EOS>'\n"
     ]
    }
   ],
   "source": [
    "en_sentence = u\"May I borrow this book?\"\n",
    "cat_sentence = u\"¿Podrà prendre prestat aquest llibre?\"\n",
    "print(preprocess_sentence(en_sentence))\n",
    "print(preprocess_sentence(cat_sentence).encode('utf-8'))"
   ]
  },
  {
   "cell_type": "code",
   "execution_count": 0,
   "metadata": {
    "colab": {},
    "colab_type": "code",
    "id": "WHNdBMEq-at5"
   },
   "outputs": [],
   "source": [
    "num_examples=100000"
   ]
  },
  {
   "cell_type": "code",
   "execution_count": 0,
   "metadata": {
    "colab": {},
    "colab_type": "code",
    "id": "OHn4Dct23jEm"
   },
   "outputs": [],
   "source": [
    "# 1. Remove the accents\n",
    "# 2. Clean the sentences\n",
    "# 3. Return word pairs in the format: [ENGLISH, CATALAN]\n",
    "def create_dataset(path, num_examples):\n",
    "  lines = io.open(path, encoding='UTF-8').read().strip().split('\\n')\n",
    "  linep=[w  for l in lines for w in l.split('\\t') if w.split()[0] != 'CC-BY']\n",
    "  words = [preprocess_sentence(w) for l in linep[:num_examples] for w in l.split('\\t')]\n",
    "  word_pairs=list(np.array(words).reshape(len(words)//2,2))\n",
    "  return zip(*word_pairs)"
   ]
  },
  {
   "cell_type": "code",
   "execution_count": 13,
   "metadata": {
    "colab": {
     "base_uri": "https://localhost:8080/",
     "height": 50
    },
    "colab_type": "code",
    "id": "cTbSbBz55QtF",
    "outputId": "5f5c9cd9-6532-4c1f-c4c2-90cb576122a7"
   },
   "outputs": [
    {
     "name": "stdout",
     "output_type": "stream",
     "text": [
      "<GO> we re gonna make sure that no one is taking advantage of the american people for their own short term gain . <EOS>\n",
      "<GO> ens assegurarem que ningu s estiga aprofitant del poble america per al seu propi interes a curt termini . <EOS>\n"
     ]
    }
   ],
   "source": [
    "en, cat = create_dataset(path_to_file, None)\n",
    "print(en[-1])\n",
    "print(cat[-1])"
   ]
  },
  {
   "cell_type": "code",
   "execution_count": 0,
   "metadata": {
    "colab": {},
    "colab_type": "code",
    "id": "I6PXGIAlnXhp"
   },
   "outputs": [],
   "source": [
    "data=[]\n",
    "for eng,cata in zip(en,cat):\n",
    "  data.append([eng,cata])\n",
    "news=pd.DataFrame(data,columns=['eng','cat'])"
   ]
  },
  {
   "cell_type": "code",
   "execution_count": 15,
   "metadata": {
    "colab": {
     "base_uri": "https://localhost:8080/",
     "height": 191
    },
    "colab_type": "code",
    "id": "5fY2Sfu7Gs2H",
    "outputId": "80534bcf-5608-422e-914c-81ccfe4f2d88"
   },
   "outputs": [
    {
     "data": {
      "text/html": [
       "<div>\n",
       "<style scoped>\n",
       "    .dataframe tbody tr th:only-of-type {\n",
       "        vertical-align: middle;\n",
       "    }\n",
       "\n",
       "    .dataframe tbody tr th {\n",
       "        vertical-align: top;\n",
       "    }\n",
       "\n",
       "    .dataframe thead th {\n",
       "        text-align: right;\n",
       "    }\n",
       "</style>\n",
       "<table border=\"1\" class=\"dataframe\">\n",
       "  <thead>\n",
       "    <tr style=\"text-align: right;\">\n",
       "      <th></th>\n",
       "      <th>Text</th>\n",
       "      <th>Summary</th>\n",
       "      <th>Text_len</th>\n",
       "      <th>Summary_len</th>\n",
       "    </tr>\n",
       "  </thead>\n",
       "  <tbody>\n",
       "    <tr>\n",
       "      <th>0</th>\n",
       "      <td>&lt;GO&gt; wow ! &lt;EOS&gt;</td>\n",
       "      <td>&lt;GO&gt; carai ! &lt;EOS&gt;</td>\n",
       "      <td>4</td>\n",
       "      <td>4</td>\n",
       "    </tr>\n",
       "    <tr>\n",
       "      <th>1</th>\n",
       "      <td>&lt;GO&gt; really ? &lt;EOS&gt;</td>\n",
       "      <td>&lt;GO&gt; de veritat ? &lt;EOS&gt;</td>\n",
       "      <td>4</td>\n",
       "      <td>5</td>\n",
       "    </tr>\n",
       "    <tr>\n",
       "      <th>2</th>\n",
       "      <td>&lt;GO&gt; thanks . &lt;EOS&gt;</td>\n",
       "      <td>&lt;GO&gt; gracies ! &lt;EOS&gt;</td>\n",
       "      <td>4</td>\n",
       "      <td>4</td>\n",
       "    </tr>\n",
       "    <tr>\n",
       "      <th>3</th>\n",
       "      <td>&lt;GO&gt; goodbye ! &lt;EOS&gt;</td>\n",
       "      <td>&lt;GO&gt; adeu ! &lt;EOS&gt;</td>\n",
       "      <td>4</td>\n",
       "      <td>4</td>\n",
       "    </tr>\n",
       "    <tr>\n",
       "      <th>4</th>\n",
       "      <td>&lt;GO&gt; hurry up . &lt;EOS&gt;</td>\n",
       "      <td>&lt;GO&gt; afanya t . &lt;EOS&gt;</td>\n",
       "      <td>5</td>\n",
       "      <td>5</td>\n",
       "    </tr>\n",
       "  </tbody>\n",
       "</table>\n",
       "</div>"
      ],
      "text/plain": [
       "                    Text                  Summary  Text_len  Summary_len\n",
       "0       <GO> wow ! <EOS>       <GO> carai ! <EOS>         4            4\n",
       "1    <GO> really ? <EOS>  <GO> de veritat ? <EOS>         4            5\n",
       "2    <GO> thanks . <EOS>     <GO> gracies ! <EOS>         4            4\n",
       "3   <GO> goodbye ! <EOS>        <GO> adeu ! <EOS>         4            4\n",
       "4  <GO> hurry up . <EOS>    <GO> afanya t . <EOS>         5            5"
      ]
     },
     "execution_count": 15,
     "metadata": {
      "tags": []
     },
     "output_type": "execute_result"
    }
   ],
   "source": [
    "news=news.rename(columns={'eng':'Text','cat':'Summary'})\n",
    "news['Text_len'] = news.Text.apply(lambda x: len(x.split()))\n",
    "news['Summary_len'] = news.Summary.apply(lambda x: len(x.split()))\n",
    "news.head()"
   ]
  },
  {
   "cell_type": "code",
   "execution_count": 16,
   "metadata": {
    "colab": {
     "base_uri": "https://localhost:8080/",
     "height": 82
    },
    "colab_type": "code",
    "id": "Rxa-JA_QTdT8",
    "outputId": "a20375e7-08da-43c2-c9c8-0f5c55494c0a"
   },
   "outputs": [
    {
     "name": "stdout",
     "output_type": "stream",
     "text": [
      "['<GO> wow ! <EOS>' '<GO> really ? <EOS>' '<GO> thanks . <EOS>'\n",
      " '<GO> goodbye ! <EOS>' '<GO> hurry up . <EOS>']\n",
      "['<GO> carai ! <EOS>' '<GO> de veritat ? <EOS>' '<GO> gracies ! <EOS>'\n",
      " '<GO> adeu ! <EOS>' '<GO> afanya t . <EOS>']\n"
     ]
    }
   ],
   "source": [
    "print(news['Text'].head(5).values)\n",
    "print(news['Summary'].head(5).values)"
   ]
  },
  {
   "cell_type": "code",
   "execution_count": 0,
   "metadata": {
    "_cell_guid": "48f10124-4c1b-1f09-512d-352c068de1b4",
    "colab": {},
    "colab_type": "code",
    "id": "ZHaGwlh2TdUI"
   },
   "outputs": [],
   "source": [
    "news_summaries = []\n",
    "for summary in news.Summary:\n",
    "    news_summaries.append(summary)\n",
    "news_texts = []\n",
    "for text in news.Text:\n",
    "    news_texts.append(text)"
   ]
  },
  {
   "cell_type": "code",
   "execution_count": 18,
   "metadata": {
    "colab": {
     "base_uri": "https://localhost:8080/",
     "height": 33
    },
    "colab_type": "code",
    "id": "4ek1lAYfYrK3",
    "outputId": "6367be06-8732-4a49-d7bd-a0ef3b4b8860"
   },
   "outputs": [
    {
     "data": {
      "text/plain": [
       "[653, 653]"
      ]
     },
     "execution_count": 18,
     "metadata": {
      "tags": []
     },
     "output_type": "execute_result"
    }
   ],
   "source": [
    "[len(news_summaries), len(news_texts)]"
   ]
  },
  {
   "cell_type": "code",
   "execution_count": 0,
   "metadata": {
    "_cell_guid": "3f980247-3c32-240d-7d3d-7b0c3c6c13e5",
    "colab": {},
    "colab_type": "code",
    "id": "yHNDse2lTdUT"
   },
   "outputs": [],
   "source": [
    "def count_words(words_dict, text):\n",
    "    for sentence in text:\n",
    "        for word in sentence.split():\n",
    "            if word not in words_dict:\n",
    "                words_dict[word] = 1\n",
    "            else:\n",
    "                words_dict[word] += 1"
   ]
  },
  {
   "cell_type": "code",
   "execution_count": 20,
   "metadata": {
    "_cell_guid": "3e9ce130-88f4-8779-5b5f-86f2a23ab347",
    "colab": {
     "base_uri": "https://localhost:8080/",
     "height": 33
    },
    "colab_type": "code",
    "id": "_P7WgumjTdUe",
    "outputId": "d86f49ec-5d78-4ff7-b560-691feb9a1d9d"
   },
   "outputs": [
    {
     "name": "stdout",
     "output_type": "stream",
     "text": [
      "Total words in eng Vocabulary: 991\n"
     ]
    }
   ],
   "source": [
    "word_counts_dictx={}\n",
    "count_words(word_counts_dictx, news_texts)           \n",
    "print(\"Total words in eng Vocabulary:\", len(word_counts_dictx))"
   ]
  },
  {
   "cell_type": "code",
   "execution_count": 21,
   "metadata": {
    "colab": {
     "base_uri": "https://localhost:8080/",
     "height": 33
    },
    "colab_type": "code",
    "id": "XOa2ZgKt9chb",
    "outputId": "4e49b004-3b00-4359-bbab-bbb5f5cedd5c"
   },
   "outputs": [
    {
     "name": "stdout",
     "output_type": "stream",
     "text": [
      "Total words in cat Vocabulary: 1166\n"
     ]
    }
   ],
   "source": [
    "word_counts_dict = {}\n",
    "count_words(word_counts_dict, news_summaries)            \n",
    "print(\"Total words in cat Vocabulary:\", len(word_counts_dict))"
   ]
  },
  {
   "cell_type": "code",
   "execution_count": 0,
   "metadata": {
    "colab": {},
    "colab_type": "code",
    "id": "QY8Sk4lWpYLC"
   },
   "outputs": [],
   "source": [
    "if 'cc.ca.300.vec' not in os.listdir('/content/'):\n",
    "  !cp /content/gdrive/My\\ Drive/cc.ca.300.vec.gz /content/\n",
    "  !gunzip /content/cc.ca.300.vec.gz"
   ]
  },
  {
   "cell_type": "code",
   "execution_count": 0,
   "metadata": {
    "colab": {},
    "colab_type": "code",
    "id": "qk9Bi7wh5AV9"
   },
   "outputs": [],
   "source": [
    "if 'cc.en.300.vec' not in os.listdir('/content/'):\n",
    "  !cp /content/gdrive/My\\ Drive/cc.en.300.vec.gz /content/\n",
    "  !gunzip /content/cc.en.300.vec.gz\n"
   ]
  },
  {
   "cell_type": "code",
   "execution_count": 0,
   "metadata": {
    "colab": {},
    "colab_type": "code",
    "id": "BGdGuM_NTdUm"
   },
   "outputs": [],
   "source": [
    "def build_word_vector_matrix(vector_file):\n",
    "    embedding_index = {}\n",
    "    with codecs.open(vector_file, 'r', 'utf-8') as f:\n",
    "        for i, line in enumerate(f):\n",
    "            sr = line.split()\n",
    "            if(len(sr)<26):\n",
    "                continue\n",
    "            word = sr[0]\n",
    "            embedding = np.asarray(sr[1:], dtype='float32')\n",
    "            embedding_index[word] = embedding\n",
    "    return embedding_index\n",
    "\n",
    "                    "
   ]
  },
  {
   "cell_type": "code",
   "execution_count": 0,
   "metadata": {
    "colab": {},
    "colab_type": "code",
    "id": "4iIXmDdz9KUg"
   },
   "outputs": [],
   "source": [
    "# Replace the path here to point to the faster vectors file on your system\n",
    "embeddings_index = build_word_vector_matrix('/content/cc.ca.300.vec')\n",
    "embeddings_indexx = build_word_vector_matrix('/content/cc.en.300.vec')\n",
    "                    "
   ]
  },
  {
   "cell_type": "code",
   "execution_count": 26,
   "metadata": {
    "colab": {
     "base_uri": "https://localhost:8080/",
     "height": 131
    },
    "colab_type": "code",
    "id": "kQa9b2Dv3z9T",
    "outputId": "ca70f67d-1757-44e9-97d9-e96890267da6"
   },
   "outputs": [
    {
     "data": {
      "text/plain": [
       "['.config',\n",
       " 'gdrive',\n",
       " '_about.txt',\n",
       " 'cc.en.300.vec',\n",
       " 'cc.ca.300.vec',\n",
       " 'cat.txt',\n",
       " 'sample_data']"
      ]
     },
     "execution_count": 26,
     "metadata": {
      "tags": []
     },
     "output_type": "execute_result"
    }
   ],
   "source": [
    "os.listdir('/content')"
   ]
  },
  {
   "cell_type": "code",
   "execution_count": 0,
   "metadata": {
    "colab": {},
    "colab_type": "code",
    "id": "tBR8J3iFK3lD"
   },
   "outputs": [],
   "source": [
    "count_threshold = 20\n",
    "#special_codes = [TOKEN_UNK,TOKEN_PAD,TOKEN_EOS,TOKEN_GO] \n",
    "special_codes =  [TOKEN_UNK,TOKEN_PAD] "
   ]
  },
  {
   "cell_type": "code",
   "execution_count": 0,
   "metadata": {
    "_cell_guid": "0be42a13-70b2-e9cc-7468-1247b01f109c",
    "colab": {},
    "colab_type": "code",
    "id": "VdDgF69WTdUw"
   },
   "outputs": [],
   "source": [
    "def map_word_int(count_treshold,word_counts_dict,embeddings_index):\n",
    "          word2int = {} \n",
    "          value = 0\n",
    "          for word, count in word_counts_dict.items():\n",
    "                     if count >= count_threshold or word in embeddings_index:\n",
    "                          word2int[word] = value\n",
    "                          value +=1  \n",
    "\n",
    "          for code in special_codes:\n",
    "              word2int[code]=len(word2int)\n",
    "          int2word = {}\n",
    "          for word, value in word2int.items():\n",
    "                int2word[value] = word\n",
    "          return word2int,int2word"
   ]
  },
  {
   "cell_type": "code",
   "execution_count": 0,
   "metadata": {
    "colab": {},
    "colab_type": "code",
    "id": "2Ni-nQ8zKCX1"
   },
   "outputs": [],
   "source": [
    "word2intx,int2wordx=map_word_int(20,word_counts_dictx,embeddings_indexx)"
   ]
  },
  {
   "cell_type": "code",
   "execution_count": 30,
   "metadata": {
    "colab": {
     "base_uri": "https://localhost:8080/",
     "height": 33
    },
    "colab_type": "code",
    "id": "9QVjfuj90xPe",
    "outputId": "1af3f40b-2829-4971-dad0-a997b10c467a"
   },
   "outputs": [
    {
     "data": {
      "text/plain": [
       "[993, 993]"
      ]
     },
     "execution_count": 30,
     "metadata": {
      "tags": []
     },
     "output_type": "execute_result"
    }
   ],
   "source": [
    "[len(word2intx), len(int2wordx)]"
   ]
  },
  {
   "cell_type": "code",
   "execution_count": 0,
   "metadata": {
    "colab": {},
    "colab_type": "code",
    "id": "4uZ_z9LbKgf7"
   },
   "outputs": [],
   "source": [
    "word2int,int2word=map_word_int(20,word_counts_dict,embeddings_index)"
   ]
  },
  {
   "cell_type": "code",
   "execution_count": 32,
   "metadata": {
    "colab": {
     "base_uri": "https://localhost:8080/",
     "height": 33
    },
    "colab_type": "code",
    "id": "r_66qdkCKemV",
    "outputId": "4cd6e9f9-f8a0-483b-c963-aaadb1b90960"
   },
   "outputs": [
    {
     "data": {
      "text/plain": [
       "[1151, 1151]"
      ]
     },
     "execution_count": 32,
     "metadata": {
      "tags": []
     },
     "output_type": "execute_result"
    }
   ],
   "source": [
    "[len(word2int),len(int2word)]"
   ]
  },
  {
   "cell_type": "code",
   "execution_count": 0,
   "metadata": {
    "_cell_guid": "4401990d-4baf-3f30-becc-3a6149716b56",
    "colab": {},
    "colab_type": "code",
    "id": "f4KKWkrTTdU3"
   },
   "outputs": [],
   "source": [
    "embedding_dim = 300\n",
    "\n",
    "def word_embeddings_matrix(embedding_dim, word2int,embeddings_index):\n",
    "        nwords = len(word2int)\n",
    "        word_emb_matrix = np.zeros((nwords, embedding_dim), dtype=np.float32)\n",
    "        for word, i in word2int.items():\n",
    "                  if word in embeddings_index:\n",
    "                          word_emb_matrix[i] = embeddings_index[word]\n",
    "                  else:\n",
    "                          new_embedding = np.array(np.random.uniform(-1.0, 1.0, embedding_dim))\n",
    "                          word_emb_matrix[i] = new_embedding\n",
    "        return word_emb_matrix"
   ]
  },
  {
   "cell_type": "code",
   "execution_count": 0,
   "metadata": {
    "colab": {},
    "colab_type": "code",
    "id": "nXhivPnNIQBv"
   },
   "outputs": [],
   "source": [
    "word_emb_matrixx=word_embeddings_matrix(300,word2intx,embeddings_indexx)"
   ]
  },
  {
   "cell_type": "code",
   "execution_count": 35,
   "metadata": {
    "colab": {
     "base_uri": "https://localhost:8080/",
     "height": 33
    },
    "colab_type": "code",
    "id": "nHpbH6FpIRNS",
    "outputId": "ba91275f-8a32-4807-c9e5-4a41b36d3291"
   },
   "outputs": [
    {
     "name": "stdout",
     "output_type": "stream",
     "text": [
      "Length of word embeddings on eng:  993\n"
     ]
    }
   ],
   "source": [
    "print(\"Length of word embeddings on eng: \", len(word_emb_matrixx))"
   ]
  },
  {
   "cell_type": "code",
   "execution_count": 0,
   "metadata": {
    "colab": {},
    "colab_type": "code",
    "id": "WVPBpFB7H4J6"
   },
   "outputs": [],
   "source": [
    "word_emb_matrix=word_embeddings_matrix(300,word2int,embeddings_index)"
   ]
  },
  {
   "cell_type": "code",
   "execution_count": 37,
   "metadata": {
    "colab": {
     "base_uri": "https://localhost:8080/",
     "height": 33
    },
    "colab_type": "code",
    "id": "eKTkrgQIHXev",
    "outputId": "fdd40e3b-7fc4-421d-e18b-e8df0d989afa"
   },
   "outputs": [
    {
     "name": "stdout",
     "output_type": "stream",
     "text": [
      "Length of word embeddings on cat:  1151\n"
     ]
    }
   ],
   "source": [
    "print(\"Length of word embeddings on cat: \", len(word_emb_matrix))"
   ]
  },
  {
   "cell_type": "code",
   "execution_count": 0,
   "metadata": {
    "_cell_guid": "25cfd0e3-ae3d-8728-1c82-1a61bb06aa0e",
    "colab": {},
    "colab_type": "code",
    "id": "x_n1GMkcTdU_"
   },
   "outputs": [],
   "source": [
    "def convert_sentence_to_ids(text,word2int, eos=False):\n",
    "    wordints = []\n",
    "    word_count = 0\n",
    "    for sentence in text:\n",
    "        sentence2ints = []\n",
    "        for word in sentence.split():\n",
    "            word_count += 1\n",
    "            if word in word2int:\n",
    "                sentence2ints.append(word2int[word])\n",
    "            else:\n",
    "                sentence2ints.append(word2int[TOKEN_UNK])\n",
    "        if eos:\n",
    "            sentence2ints.append(word2int[TOKEN_EOS])\n",
    "        wordints.append(sentence2ints)\n",
    "    return wordints, word_count"
   ]
  },
  {
   "cell_type": "code",
   "execution_count": 0,
   "metadata": {
    "_cell_guid": "360cfdf4-ad4c-0316-56d3-70b6206e75e4",
    "colab": {},
    "colab_type": "code",
    "id": "umsLAGX2TdVJ"
   },
   "outputs": [],
   "source": [
    "id_summaries, word_count = convert_sentence_to_ids(news_summaries,word2int)\n",
    "id_texts, word_countx = convert_sentence_to_ids(news_texts,word2intx,eos=True)"
   ]
  },
  {
   "cell_type": "code",
   "execution_count": 40,
   "metadata": {
    "colab": {
     "base_uri": "https://localhost:8080/",
     "height": 33
    },
    "colab_type": "code",
    "id": "s7sOQR3SbRpa",
    "outputId": "e4b78da1-92d1-45b6-c8cc-25826c3c86eb"
   },
   "outputs": [
    {
     "data": {
      "text/plain": [
       "[[653, 6076], [653, 6258]]"
      ]
     },
     "execution_count": 40,
     "metadata": {
      "tags": []
     },
     "output_type": "execute_result"
    }
   ],
   "source": [
    "[[len(id_summaries),word_count],[len(id_texts),word_countx]]"
   ]
  },
  {
   "cell_type": "code",
   "execution_count": 0,
   "metadata": {
    "_cell_guid": "2a0ae7cd-a845-23dc-3563-ad133e2f02b4",
    "colab": {},
    "colab_type": "code",
    "id": "mPyYg9N3TdVV"
   },
   "outputs": [],
   "source": [
    "def unknown_tokens(sentence,word2int):\n",
    "    unk_token_count = 0\n",
    "    for word in sentence:\n",
    "        if word == word2int[TOKEN_UNK]:\n",
    "            unk_token_count += 1\n",
    "    return unk_token_count"
   ]
  },
  {
   "cell_type": "code",
   "execution_count": 0,
   "metadata": {
    "_cell_guid": "50d631a2-fb5a-bb0d-6155-9cd15e70835b",
    "colab": {},
    "colab_type": "code",
    "id": "93RbMaQCTdVc"
   },
   "outputs": [],
   "source": [
    "news_summaries_filtered = []\n",
    "news_texts_filtered = []\n",
    "max_text_length = int(news.Text_len.mean() + news.Text_len.std())\n",
    "max_summary_length = int(int(news.Summary_len.mean() + news.Summary_len.std()))\n",
    "min_length = 4\n",
    "unknown_token_text_limit = 10\n",
    "unknown_token_summary_limit = 4\n",
    "\n",
    "for count,text in enumerate(id_texts):\n",
    "    unknown_token_text = unknown_tokens(id_texts[count],word2intx)\n",
    "    unknown_token_summary = unknown_tokens(id_summaries[count],word2int)\n",
    "    text_len = len(id_texts[count])\n",
    "    summary_len = len(id_summaries[count])\n",
    "    if((unknown_token_text>unknown_token_text_limit) or (unknown_token_summary>unknown_token_summary_limit)):\n",
    "        continue\n",
    "    if(text_len<min_length or summary_len<min_length or text_len>max_text_length or summary_len>max_summary_length):\n",
    "        continue\n",
    "    news_summaries_filtered.append(id_summaries[count])\n",
    "    news_texts_filtered.append(id_texts[count])\n"
   ]
  },
  {
   "cell_type": "code",
   "execution_count": 43,
   "metadata": {
    "colab": {
     "base_uri": "https://localhost:8080/",
     "height": 33
    },
    "colab_type": "code",
    "id": "RsgyQyUEC0se",
    "outputId": "f1d90092-d58a-40a5-b991-d88c42f9c343"
   },
   "outputs": [
    {
     "data": {
      "text/plain": [
       "[514, 514]"
      ]
     },
     "execution_count": 43,
     "metadata": {
      "tags": []
     },
     "output_type": "execute_result"
    }
   ],
   "source": [
    "[len(news_summaries_filtered),len(news_texts_filtered)]"
   ]
  },
  {
   "cell_type": "code",
   "execution_count": 0,
   "metadata": {
    "colab": {},
    "colab_type": "code",
    "id": "PVZaQ851H-SC"
   },
   "outputs": [],
   "source": [
    "def convert(lang,int2word, tensor):\n",
    "  for t in tensor:\n",
    "    if t!=0:\n",
    "      print (\"%d ----> %s\" % (t, int2word[t]))"
   ]
  },
  {
   "cell_type": "code",
   "execution_count": 45,
   "metadata": {
    "colab": {
     "base_uri": "https://localhost:8080/",
     "height": 212
    },
    "colab_type": "code",
    "id": "jo0RqWYHIpHO",
    "outputId": "830ef809-cabb-4f41-cbf3-dcd454be12bc"
   },
   "outputs": [
    {
     "name": "stdout",
     "output_type": "stream",
     "text": [
      "Input Language; index to word mapping\n",
      "11 ----> too\n",
      "12 ----> late\n",
      "7 ----> .\n",
      "3 ----> <EOS>\n",
      "3 ----> <EOS>\n",
      "\n",
      "Target Language; index to word mapping\n",
      "12 ----> massa\n",
      "13 ----> tard\n",
      "11 ----> .\n",
      "3 ----> <EOS>\n"
     ]
    }
   ],
   "source": [
    "print (\"Input Language; index to word mapping\")\n",
    "convert(news_texts,int2wordx, news_texts_filtered[5])\n",
    "print ()\n",
    "print (\"Target Language; index to word mapping\")\n",
    "convert(news_summaries, int2word, news_summaries_filtered[5])"
   ]
  },
  {
   "cell_type": "code",
   "execution_count": 0,
   "metadata": {
    "_cell_guid": "34d28c5f-8016-6b36-664e-3d5ee3db745d",
    "colab": {},
    "colab_type": "code",
    "id": "xuL2rU6mTdVk"
   },
   "outputs": [],
   "source": [
    "def model_inputs():\n",
    "    inputs_data = tf.placeholder(tf.int32, [None, None], name='input_data')\n",
    "    targets = tf.placeholder(tf.int32, [None, None], name='targets')\n",
    "    learning_rate = tf.placeholder(tf.float32, name='learning_rate')\n",
    "    dropout_probs = tf.placeholder(tf.float32, name='dropout_probs')\n",
    "    summary_len = tf.placeholder(tf.int32, (None,), name='summary_len')\n",
    "    max_summary_len = tf.reduce_max(summary_len, name='max_summary_len')\n",
    "    text_len = tf.placeholder(tf.int32, (None,), name='text_len')\n",
    "    return inputs_data, targets, learning_rate, dropout_probs, summary_len, max_summary_len, text_len"
   ]
  },
  {
   "cell_type": "code",
   "execution_count": 0,
   "metadata": {
    "_cell_guid": "9c9b6087-3c28-478d-d311-4213e1c59654",
    "colab": {},
    "colab_type": "code",
    "id": "ANIGHjdQTdVr"
   },
   "outputs": [],
   "source": [
    "def process_decoding_input(target_data, word2int, batch_size):\n",
    "    ending = tf.strided_slice(target_data, [0, 0], [batch_size, -1], [1, 1])\n",
    "    decoding_input = tf.concat([tf.fill([batch_size, 1], word2int[TOKEN_GO]), ending], 1)\n",
    "    return decoding_input"
   ]
  },
  {
   "cell_type": "code",
   "execution_count": 0,
   "metadata": {
    "_cell_guid": "d675562b-a9e0-df71-6979-a052fb78dcbc",
    "colab": {},
    "colab_type": "code",
    "id": "4-nmhhyfTdVz"
   },
   "outputs": [],
   "source": [
    "def get_cell(csize,dprob):\n",
    "    rnc = GRUCell(csize)\n",
    "    rnc = DropoutWrapper(rnc, input_keep_prob = dprob)\n",
    "    return rnc\n",
    "\n",
    "def encoding_layer(csize, len_s, nl, rinp, dprob):\n",
    "    for l in range(nl):\n",
    "        with tf.variable_scope('encoding_l_{}'.format(l)):\n",
    "            rnn_frnt = get_cell(csize,dprob)\n",
    "            rnn_bkwd = get_cell(csize,dprob)\n",
    "            eop, est = tf.nn.bidirectional_dynamic_rnn(rnn_frnt, rnn_bkwd, \n",
    "                                                                    rinp,\n",
    "                                                                    len_s,\n",
    "                                                                    dtype=tf.float32)\n",
    "    eop = tf.concat(eop,nl)\n",
    "    return eop, est"
   ]
  },
  {
   "cell_type": "code",
   "execution_count": 0,
   "metadata": {
    "_cell_guid": "524d0246-ddae-b485-5ea4-11ad476447f4",
    "colab": {},
    "colab_type": "code",
    "id": "OBSH-yfcTdV-"
   },
   "outputs": [],
   "source": [
    "def trng_dec_layer(dec_emb_inp, summ_len, cell_dec, st_init, lyr_op, \n",
    "                            v_size, max_summ_len):\n",
    "    helper = TrainingHelper(inputs=dec_emb_inp,sequence_length=summ_len, time_major=False)\n",
    "    dec = BasicDecoder(cell_dec,helper,st_init,lyr_op) \n",
    "    logits, _, _ = dynamic_decode(dec,output_time_major=False,impute_finished=True, \n",
    "                                  maximum_iterations=max_summ_len)\n",
    "    return logits"
   ]
  },
  {
   "cell_type": "code",
   "execution_count": 0,
   "metadata": {
    "_cell_guid": "6044b206-7f27-5304-4896-06d388af0949",
    "colab": {},
    "colab_type": "code",
    "id": "ExxIWv2YTdWK"
   },
   "outputs": [],
   "source": [
    "def infr_dec_layer(embeddings, start_token, end_token, decoding_cell, initial_state, op_layer,\n",
    "                             max_summary_len, batch_size):\n",
    "    \n",
    "    start_tokens = tf.tile(tf.constant([start_token], dtype=tf.int32), [batch_size], name='start_tokens')\n",
    "    inf_helper = GreedyEmbeddingHelper(embeddings,start_tokens,end_token)\n",
    "    inf_decoder = BasicDecoder(decoding_cell,inf_helper,initial_state,op_layer)       \n",
    "    inf_logits, _, _ = dynamic_decode(inf_decoder,output_time_major=False,impute_finished=True,\n",
    "                                                            maximum_iterations=max_summary_len)\n",
    "    return inf_logits"
   ]
  },
  {
   "cell_type": "code",
   "execution_count": 0,
   "metadata": {
    "_cell_guid": "4b50746f-8f78-0253-9178-56c62e4ac1bf",
    "colab": {},
    "colab_type": "code",
    "id": "IcMgwE8oTdWd"
   },
   "outputs": [],
   "source": [
    "def decoding_layer(dec_emb_op, embs, enc_op, enc_st, v_size, txt_len, \n",
    "                   summ_len,mx_summ_len, rnsize, word2int, dprob, batch_size, nlyrs):\n",
    "    \n",
    "    for l in range(nlyrs):\n",
    "        with tf.variable_scope('dec_rnn_layer_{}'.format(l)):\n",
    "            gru = tf.contrib.rnn.GRUCell(rnn_len)\n",
    "            cell_dec = tf.contrib.rnn.DropoutWrapper(gru,input_keep_prob = dprob)\n",
    "            \n",
    "    out_l = Dense(v_size, kernel_initializer = tf.truncated_normal_initializer(mean = 0.0, stddev=0.1))\n",
    "    \n",
    "    attention = BahdanauAttention(rnsize, enc_op,txt_len,\n",
    "                                                  normalize=False,\n",
    "                                                  name='BahdanauAttention')\n",
    "    cell_dec =  AttentionWrapper(cell_dec,attention,rnn_len)\n",
    "    attn_zstate = cell_dec.zero_state(batch_size , tf.float32 )\n",
    "    attn_zstate = attn_zstate.clone(cell_state = enc_st[0])\n",
    "    with tf.variable_scope(\"decoding_layer\"):\n",
    "        tr_dec_op = trng_dec_layer(dec_emb_op, \n",
    "                                                  summ_len, \n",
    "                                                  cell_dec, \n",
    "                                                  attn_zstate,\n",
    "                                                  out_l,\n",
    "                                                  v_size, \n",
    "                                                  mx_summ_len)\n",
    "    with tf.variable_scope(\"decoding_layer\", reuse=True):\n",
    "        inf_dec_op = infr_dec_layer(embs,  \n",
    "                                                    word2int[TOKEN_GO], \n",
    "                                                    word2int[TOKEN_EOS],\n",
    "                                                    cell_dec, \n",
    "                                                    attn_zstate, \n",
    "                                                    out_l,\n",
    "                                                    mx_summ_len,\n",
    "                                                    batch_size)\n",
    "\n",
    "    return tr_dec_op, inf_dec_op"
   ]
  },
  {
   "cell_type": "code",
   "execution_count": 0,
   "metadata": {
    "_cell_guid": "19ddcf22-4f6a-d531-071a-021b42b643e3",
    "colab": {},
    "colab_type": "code",
    "id": "pYVCMj7aTdWl"
   },
   "outputs": [],
   "source": [
    "def seq2seq_model(data_inp, data_summ_tgt, dprob, len_txt, len_summ, max_len_summ, \n",
    "                  v_size, rnsize, nlyrs, word2int, batch_size):\n",
    "    \n",
    "    inp_embx = word_emb_matrixx # modification \n",
    "    word_embs = tf.Variable(inp_embx, name=\"word_embs\") # modification\n",
    "    inp_enc_emb = tf.nn.embedding_lookup(word_embs, data_inp)\n",
    "    op_enc, st_enc = encoding_layer(rnsize, len_txt, nlyrs, inp_enc_emb, dprob)\n",
    "    \n",
    "    inp_dec = process_decoding_input(data_summ_tgt, word2int, batch_size)\n",
    "    inp_emb = word_emb_matrix # modification \n",
    "    inp_dec_emb = tf.nn.embedding_lookup(inp_emb, inp_dec)\n",
    "    \n",
    "    op_tr, op_inf  = decoding_layer(inp_dec_emb, \n",
    "                                                        inp_emb,\n",
    "                                                        op_enc,\n",
    "                                                        st_enc, \n",
    "                                                        v_size, \n",
    "                                                        len_txt, \n",
    "                                                        len_summ, \n",
    "                                                        max_len_summ,\n",
    "                                                        rnsize, \n",
    "                                                        word2int, \n",
    "                                                        dprob, \n",
    "                                                        batch_size,\n",
    "                                                        nlyrs)\n",
    "    \n",
    "    return op_tr, op_inf"
   ]
  },
  {
   "cell_type": "code",
   "execution_count": 0,
   "metadata": {
    "_cell_guid": "725e92bf-2309-1a78-c771-641a42b440c6",
    "colab": {},
    "colab_type": "code",
    "id": "t6c1ac3qTdWs"
   },
   "outputs": [],
   "source": [
    "def pad_sentences(sentences_batch,word2int):\n",
    "\n",
    "    max_sentence = max([len(sentence) for sentence in sentences_batch])\n",
    "    return [sentence + [word2int[TOKEN_PAD]] * (max_sentence - len(sentence)) for sentence in sentences_batch]"
   ]
  },
  {
   "cell_type": "code",
   "execution_count": 0,
   "metadata": {
    "_cell_guid": "47e4f70a-6377-68dd-c06c-eed674b2bb3f",
    "colab": {},
    "colab_type": "code",
    "id": "usG7exzOTdWy"
   },
   "outputs": [],
   "source": [
    "def get_batches(summaries, texts, batch_size):\n",
    "\n",
    "    for batch_idx in range(0, len(texts)//batch_size):\n",
    "\n",
    "        start_idx = batch_idx * batch_size\n",
    "\n",
    "        summaries_batch = summaries[start_idx:start_idx + batch_size]\n",
    "        texts_batch = texts[start_idx:start_idx + batch_size]\n",
    "\n",
    "        pad_summaries_batch = np.array(pad_sentences(summaries_batch,word2int))\n",
    "        pad_texts_batch = np.array(pad_sentences(texts_batch,word2intx))\n",
    "\n",
    "        pad_summaries_lens = []\n",
    "        for summary in pad_summaries_batch:\n",
    "            pad_summaries_lens.append(len(summary))\n",
    "        \n",
    "        pad_texts_lens = []\n",
    "        for text in pad_texts_batch:\n",
    "            pad_texts_lens.append(len(text))\n",
    "        \n",
    "        yield pad_summaries_batch, pad_texts_batch, pad_summaries_lens, pad_texts_lens"
   ]
  },
  {
   "cell_type": "code",
   "execution_count": 0,
   "metadata": {
    "colab": {},
    "colab_type": "code",
    "id": "7SIkV3M9jYKl"
   },
   "outputs": [],
   "source": [
    "def train_on_batch(session, X, X_seq_len, Y, Y_seq_len, learning_rate, dropout_keep_probability):\n",
    "    feed_dict = {\n",
    "            data_inp: X,\n",
    "            tgts:Y,\n",
    "            lrt:learning_rate,\n",
    "            len_summ:Y_seq_len,\n",
    "            len_txt: X_seq_len,\n",
    "            dprobs: dropout_keep_probability}\n",
    "\n",
    "    _,pred,loss,summary = session.run([\n",
    "            train_op,\n",
    "            tr_cost,\n",
    "            inf_op,\n",
    "            merged_summary_op], feed_dict=feed_dict)\n",
    "    return _,pred, loss, summary"
   ]
  },
  {
   "cell_type": "code",
   "execution_count": 0,
   "metadata": {
    "colab": {},
    "colab_type": "code",
    "id": "6ejZsb2VqY7A"
   },
   "outputs": [],
   "source": [
    "def predict_for_batch(session, X, X_seq_len,Y, Y_seq_len,dropout_keep_probability):\n",
    "\n",
    "    feed_dict={data_inp:X, len_txt:X_seq_len,tgts:Y, len_summ: Y_seq_len,dprobs: dropout_keep_probability}\n",
    "\n",
    "    pred = session.run([inf_op], feed_dict=feed_dict)[0]\n",
    "\n",
    "    return pred\n"
   ]
  },
  {
   "cell_type": "code",
   "execution_count": 0,
   "metadata": {
    "colab": {},
    "colab_type": "code",
    "id": "xCltZfqbQpR1"
   },
   "outputs": [],
   "source": [
    "\n",
    "def predict_for_batch_with_loss(session, X, X_seq_len, Y, Y_seq_len,learning_rate,dropout_keep_probability):\n",
    "    \n",
    "    feed_dict={data_inp:X, len_txt:X_seq_len, tgts:Y, len_summ: Y_seq_len,lrt:learning_rate,dprobs: dropout_keep_probability}\n",
    "    \n",
    "    _,loss,pred = session.run([train_op,tr_cost,infer_predictions], feed_dict=feed_dict)\n",
    "    \n",
    "    return pred, loss"
   ]
  },
  {
   "cell_type": "code",
   "execution_count": 0,
   "metadata": {
    "_cell_guid": "77299c4b-a3cf-785b-981a-42a1bb3a2033",
    "colab": {},
    "colab_type": "code",
    "id": "HGM95d9MTdW5"
   },
   "outputs": [],
   "source": [
    "batch_size =32\n",
    "rnn_len = 256\n",
    "n_layers = 1\n",
    "lr = 0.0025\n",
    "dr_prob =0.75\n",
    "logs_path='/content/gdrive/My Drive/'"
   ]
  },
  {
   "cell_type": "code",
   "execution_count": 59,
   "metadata": {
    "_cell_guid": "68781626-8bf4-0a23-4bb2-f24a5762fa1e",
    "colab": {
     "base_uri": "https://localhost:8080/",
     "height": 395
    },
    "colab_type": "code",
    "id": "AlrcY77-TdXF",
    "outputId": "585aa013-a75b-4145-8df5-c62c216944ba"
   },
   "outputs": [
    {
     "name": "stdout",
     "output_type": "stream",
     "text": [
      "WARNING:tensorflow:From <ipython-input-48-08a5f0b64492>:2: GRUCell.__init__ (from tensorflow.python.ops.rnn_cell_impl) is deprecated and will be removed in a future version.\n",
      "Instructions for updating:\n",
      "This class is equivalent as tf.keras.layers.GRUCell, and will be replaced by that in Tensorflow 2.0.\n",
      "WARNING:tensorflow:From <ipython-input-48-08a5f0b64492>:14: bidirectional_dynamic_rnn (from tensorflow.python.ops.rnn) is deprecated and will be removed in a future version.\n",
      "Instructions for updating:\n",
      "Please use `keras.layers.Bidirectional(keras.layers.RNN(cell))`, which is equivalent to this API\n",
      "WARNING:tensorflow:From /usr/local/lib/python3.6/dist-packages/tensorflow_core/python/ops/rnn.py:464: dynamic_rnn (from tensorflow.python.ops.rnn) is deprecated and will be removed in a future version.\n",
      "Instructions for updating:\n",
      "Please use `keras.layers.RNN(cell)`, which is equivalent to this API\n",
      "WARNING:tensorflow:From /usr/local/lib/python3.6/dist-packages/tensorflow_core/python/ops/rnn_cell_impl.py:559: Layer.add_variable (from tensorflow.python.keras.engine.base_layer) is deprecated and will be removed in a future version.\n",
      "Instructions for updating:\n",
      "Please use `layer.add_weight` method instead.\n",
      "WARNING:tensorflow:From /usr/local/lib/python3.6/dist-packages/tensorflow_core/python/ops/rnn_cell_impl.py:565: calling Constant.__init__ (from tensorflow.python.ops.init_ops) with dtype is deprecated and will be removed in a future version.\n",
      "Instructions for updating:\n",
      "Call initializer instance with the dtype argument instead of passing it to the constructor\n",
      "WARNING:tensorflow:From /usr/local/lib/python3.6/dist-packages/tensorflow_core/python/ops/rnn_cell_impl.py:575: calling Zeros.__init__ (from tensorflow.python.ops.init_ops) with dtype is deprecated and will be removed in a future version.\n",
      "Instructions for updating:\n",
      "Call initializer instance with the dtype argument instead of passing it to the constructor\n",
      "WARNING:tensorflow:From /usr/local/lib/python3.6/dist-packages/tensorflow_core/python/ops/rnn.py:244: where (from tensorflow.python.ops.array_ops) is deprecated and will be removed in a future version.\n",
      "Instructions for updating:\n",
      "Use tf.where in 2.0, which has the same broadcast rule as np.where\n",
      "Graph created.\n"
     ]
    }
   ],
   "source": [
    "train_graph = tf.Graph()\n",
    "with train_graph.as_default():\n",
    "    \n",
    "    data_inp, tgts, lrt, dprobs, len_summ, max_len_summ, len_txt = model_inputs()\n",
    "\n",
    "    tr_opp, inf_opp = seq2seq_model(tf.reverse(data_inp, [-1]),\n",
    "                                                      tgts, \n",
    "                                                      dprobs,   \n",
    "                                                      len_txt,\n",
    "                                                      len_summ,\n",
    "                                                      max_len_summ,\n",
    "                                                      len(word2int)+1,\n",
    "                                                      rnn_len, \n",
    "                                                      n_layers, \n",
    "                                                      word2int,\n",
    "                                                      batch_size)\n",
    "    \n",
    "    tr_op = tf.identity(tr_opp.rnn_output, 'tr_op')\n",
    "    inf_op = tf.identity(inf_opp.sample_id, name='predictions')\n",
    "    \n",
    "    seq_masks = tf.sequence_mask(len_summ, max_len_summ, dtype=tf.float32, name='masks')\n",
    "\n",
    "    with tf.name_scope(\"optimizer\"):\n",
    "        tr_cost = sequence_loss(tr_op,tgts,seq_masks)\n",
    "        optzr = tf.train.AdamOptimizer(lrt)\n",
    "        grds = optzr.compute_gradients(tr_cost)\n",
    "        capped_grds = [(tf.clip_by_value(grd, -5., 5.), var) for grd, var in grds \n",
    "                        if grd is not None]\n",
    "        train_op = optzr.apply_gradients(capped_grds)\n",
    "    # Get predictions for evaluation.\n",
    "    train_predictions = tr_opp.sample_id\n",
    "    infer_predictions = inf_opp.sample_id\n",
    "    tf.summary.scalar(\"cost\", tr_cost)\n",
    "print(\"Graph created.\")"
   ]
  },
  {
   "cell_type": "code",
   "execution_count": 0,
   "metadata": {
    "_cell_guid": "989d2498-df4e-31e8-3133-56df524b8a28",
    "colab": {},
    "colab_type": "code",
    "id": "Tg98B19nTdXS"
   },
   "outputs": [],
   "source": [
    "def text_to_seq(text):\n",
    "    return [word2int.get(word, word2int[TOKEN_UNK]) for word in text.split()]"
   ]
  },
  {
   "cell_type": "code",
   "execution_count": 0,
   "metadata": {
    "colab": {},
    "colab_type": "code",
    "id": "s4afDgp2zidm"
   },
   "outputs": [],
   "source": [
    "# Program to measure similarity between  \n",
    "# two sentences using cosine similarity. \n",
    "def mean_absolute_error_texts(v1,v2):\n",
    "    meanerrorl2=[]\n",
    "    for X,Y in zip(v1,v2):\n",
    "        # tokenization \n",
    "        X_list = word_tokenize(X)  \n",
    "        Y_list = word_tokenize(Y) \n",
    "  \n",
    "        # sw contains the list of stopwords \n",
    "        sw = stopwords.words('english')  \n",
    "        l1 =[];l2 =[] \n",
    "  \n",
    "        # remove stop words from string \n",
    "        X_set = {w for w in X if not w in sw}  \n",
    "        Y_set = {w for w in Y if not w in sw} \n",
    "  \n",
    "        # form a set containing keywords of both strings  \n",
    "        rvector = X_set.union(Y_set)  \n",
    "        for w in rvector: \n",
    "            if w in X_set:\n",
    "               l1.append(1) # create a vector \n",
    "            else:\n",
    "               l1.append(0) \n",
    "            if w in Y_set:\n",
    "               l2.append(1) \n",
    "            else:\n",
    "               l2.append(0) \n",
    "        c = 0\n",
    "        # cosine formula  \n",
    "        for i in range(len(rvector)): \n",
    "                      c+= l1[i]*l2[i] \n",
    "        den=float((sum(l1)*sum(l2))**0.5)\n",
    "        try: \n",
    "           cosine = c /den\n",
    "        except:\n",
    "           cosine=0.0 \n",
    "        meanerrorl2.append(cosine) \n",
    "        #return LA.norm(meanerrorl2,2)*100.0,\n",
    "    return np.mean(meanerrorl2)*100"
   ]
  },
  {
   "cell_type": "code",
   "execution_count": 0,
   "metadata": {
    "colab": {},
    "colab_type": "code",
    "id": "xALwgTyFOtLL"
   },
   "outputs": [],
   "source": [
    "epochs =50\n",
    "min_learning_rate = 0.0006\n",
    "display_step = 50\n",
    "early_stop_cnt = 0 \n",
    "early_stop_cnt_max = 3 \n",
    "per_epoch = 3 \n",
    "\n",
    "\n",
    "update_loss = 0 \n",
    "batch_loss = 0\n",
    "summary_update_loss = [] \n",
    "\n",
    "news_summaries_train = news_summaries_filtered[0:410]\n",
    "news_texts_train = news_texts_filtered[0:410]\n",
    "\n",
    "news_summaries_test =news_summaries_filtered[410:]\n",
    "news_texts_test=news_texts_filtered[410:]\n",
    "\n",
    "goo = word2int[TOKEN_GO]\n",
    "pad = word2int[TOKEN_PAD] \n",
    "eos = word2int[TOKEN_EOS]  \n",
    "unk = word2int[TOKEN_UNK]\n",
    "tokens_id=[eos,pad,unk,goo]\n",
    "\n",
    "update_check = (len(news_texts_train)//batch_size//per_epoch)-1\n",
    "checkpoint = logs_path + 'best_so_far_model.ckpt' \n"
   ]
  },
  {
   "cell_type": "code",
   "execution_count": 63,
   "metadata": {
    "_cell_guid": "6368ba0d-4083-e182-ca38-5356b307e09f",
    "colab": {
     "base_uri": "https://localhost:8080/",
     "height": 1000
    },
    "colab_type": "code",
    "id": "9hbE8nF6TdXM",
    "outputId": "7d735d79-7a42-44a7-d870-1ea4c171e238"
   },
   "outputs": [
    {
     "name": "stdout",
     "output_type": "stream",
     "text": [
      "Start training... \n",
      "\n",
      "Average loss: 7.971\n",
      "Saving model\n",
      "Average loss: 4.007\n",
      "Saving model\n",
      "Average loss: 4.04\n",
      "No Improvement.\n",
      "history: [1, 4.04, 4.130271]\n",
      " \n",
      "Test: epoch 1 loss: 4.130271\n",
      " \n",
      "\n",
      "Text\n",
      "  Word Ids:    [0, 16, 241, 242, 138, 651, 81, 652, 399, 7, 3, 3]\n",
      "  Input Words: i d like to meet your older sister .\n",
      "\n",
      "Summary\n",
      "  Word Ids:       [82, 82, 132, 11]\n",
      "  Response Words: no no que .\n",
      " Ground Truth: m agradaria coneixer la teva germana gran .\n",
      "\n",
      "\n",
      "Text\n",
      "  Word Ids:    [0, 16, 24, 11, 24, 69, 70, 658, 466, 7, 3, 3]\n",
      "  Input Words: i , too , didn t understand anything .\n",
      "\n",
      "Summary\n",
      "  Word Ids:       [82, 82, 82, 11]\n",
      "  Response Words: no no no .\n",
      " Ground Truth: jo tampoc entenc res .\n",
      "\n",
      "\n",
      "Text\n",
      "  Word Ids:    [0, 67, 659, 84, 598, 138, 143, 215, 5, 3, 3, 992]\n",
      "  Input Words: is anybody here willing to do that ? <PAD>\n",
      "\n",
      "Summary\n",
      "  Word Ids:       [82, 82, 132, 11]\n",
      "  Response Words: no no que .\n",
      " Ground Truth: algu esta disposat a fer allo ?\n",
      "\n",
      "Average loss: 4.341\n",
      "No Improvement.\n",
      "Average loss: 3.034\n",
      "Saving model\n",
      "Average loss: 3.323\n",
      "No Improvement.\n",
      "history: [2, 3.323, 3.692981]\n",
      " \n",
      "Test: epoch 2 loss: 3.692981\n",
      " \n",
      "\n",
      "Text\n",
      "  Word Ids:    [0, 16, 241, 242, 138, 651, 81, 652, 399, 7, 3, 3]\n",
      "  Input Words: i d like to meet your older sister .\n",
      "\n",
      "Summary\n",
      "  Word Ids:       [82, 82, 132, 11]\n",
      "  Response Words: no no que .\n",
      " Ground Truth: m agradaria coneixer la teva germana gran .\n",
      "\n",
      "\n",
      "Text\n",
      "  Word Ids:    [0, 16, 24, 11, 24, 69, 70, 658, 466, 7, 3, 3]\n",
      "  Input Words: i , too , didn t understand anything .\n",
      "\n",
      "Summary\n",
      "  Word Ids:       [82, 82, 132, 11]\n",
      "  Response Words: no no que .\n",
      " Ground Truth: jo tampoc entenc res .\n",
      "\n",
      "\n",
      "Text\n",
      "  Word Ids:    [0, 67, 659, 84, 598, 138, 143, 215, 5, 3, 3, 992]\n",
      "  Input Words: is anybody here willing to do that ? <PAD>\n",
      "\n",
      "Summary\n",
      "  Word Ids:       [82, 82, 4]\n",
      "  Response Words: no no de\n",
      " Ground Truth: algu esta disposat a fer allo ?\n",
      "\n",
      "Average loss: 3.845\n",
      "No Improvement.\n",
      "Average loss: 2.836\n",
      "Saving model\n",
      "Average loss: 3.094\n",
      "No Improvement.\n",
      "history: [3, 3.094, 3.3838131]\n",
      " \n",
      "Test: epoch 3 loss: 3.3838131\n",
      " \n",
      "\n",
      "Text\n",
      "  Word Ids:    [0, 16, 241, 242, 138, 651, 81, 652, 399, 7, 3, 3]\n",
      "  Input Words: i d like to meet your older sister .\n",
      "\n",
      "Summary\n",
      "  Word Ids:       [82, 82, 132, 11]\n",
      "  Response Words: no no que .\n",
      " Ground Truth: m agradaria coneixer la teva germana gran .\n",
      "\n",
      "\n",
      "Text\n",
      "  Word Ids:    [0, 16, 24, 11, 24, 69, 70, 658, 466, 7, 3, 3]\n",
      "  Input Words: i , too , didn t understand anything .\n",
      "\n",
      "Summary\n",
      "  Word Ids:       [82, 82, 82, 132, 11]\n",
      "  Response Words: no no no que .\n",
      " Ground Truth: jo tampoc entenc res .\n",
      "\n",
      "\n",
      "Text\n",
      "  Word Ids:    [0, 67, 659, 84, 598, 138, 143, 215, 5, 3, 3, 992]\n",
      "  Input Words: is anybody here willing to do that ? <PAD>\n",
      "\n",
      "Summary\n",
      "  Word Ids:       [82, 40, 40, 132, 11]\n",
      "  Response Words: no es es que .\n",
      " Ground Truth: algu esta disposat a fer allo ?\n",
      "\n",
      "Average loss: 3.674\n",
      "No Improvement.\n",
      "Average loss: 2.698\n",
      "Saving model\n",
      "Average loss: 2.934\n",
      "No Improvement.\n",
      "history: [4, 2.934, 3.1686697]\n",
      " \n",
      "Test: epoch 4 loss: 3.1686697\n",
      " \n",
      "\n",
      "Text\n",
      "  Word Ids:    [0, 16, 241, 242, 138, 651, 81, 652, 399, 7, 3, 3]\n",
      "  Input Words: i d like to meet your older sister .\n",
      "\n",
      "Summary\n",
      "  Word Ids:       [82, 82, 82, 132, 132, 11]\n",
      "  Response Words: no no no que que .\n",
      " Ground Truth: m agradaria coneixer la teva germana gran .\n",
      "\n",
      "\n",
      "Text\n",
      "  Word Ids:    [0, 16, 24, 11, 24, 69, 70, 658, 466, 7, 3, 3]\n",
      "  Input Words: i , too , didn t understand anything .\n",
      "\n",
      "Summary\n",
      "  Word Ids:       [82, 82, 82, 132, 132, 11]\n",
      "  Response Words: no no no que que .\n",
      " Ground Truth: jo tampoc entenc res .\n",
      "\n",
      "\n",
      "Text\n",
      "  Word Ids:    [0, 67, 659, 84, 598, 138, 143, 215, 5, 3, 3, 992]\n",
      "  Input Words: is anybody here willing to do that ? <PAD>\n",
      "\n",
      "Summary\n",
      "  Word Ids:       [82, 40, 132, 6]\n",
      "  Response Words: no es que ?\n",
      " Ground Truth: algu esta disposat a fer allo ?\n",
      "\n",
      "Average loss: 3.453\n",
      "No Improvement.\n",
      "Average loss: 2.542\n",
      "Saving model\n",
      "Average loss: 2.824\n",
      "No Improvement.\n",
      "history: [5, 2.824, 2.9848843]\n",
      " \n",
      "Test: epoch 5 loss: 2.9848843\n",
      " \n",
      "\n",
      "Text\n",
      "  Word Ids:    [0, 16, 241, 242, 138, 651, 81, 652, 399, 7, 3, 3]\n",
      "  Input Words: i d like to meet your older sister .\n",
      "\n",
      "Summary\n",
      "  Word Ids:       [82, 56, 58, 58, 58, 142, 11]\n",
      "  Response Words: no m ho ho ho fer .\n",
      " Ground Truth: m agradaria coneixer la teva germana gran .\n",
      "\n",
      "\n",
      "Text\n",
      "  Word Ids:    [0, 16, 24, 11, 24, 69, 70, 658, 466, 7, 3, 3]\n",
      "  Input Words: i , too , didn t understand anything .\n",
      "\n",
      "Summary\n",
      "  Word Ids:       [82, 82, 58, 58, 142, 11]\n",
      "  Response Words: no no ho ho fer .\n",
      " Ground Truth: jo tampoc entenc res .\n",
      "\n",
      "\n",
      "Text\n",
      "  Word Ids:    [0, 67, 659, 84, 598, 138, 143, 215, 5, 3, 3, 992]\n",
      "  Input Words: is anybody here willing to do that ? <PAD>\n",
      "\n",
      "Summary\n",
      "  Word Ids:       [59, 59, 6]\n",
      "  Response Words: tens tens ?\n",
      " Ground Truth: algu esta disposat a fer allo ?\n",
      "\n",
      "Average loss: 3.158\n",
      "No Improvement.\n",
      "Average loss: 2.356\n",
      "Saving model\n",
      "Average loss: 2.63\n",
      "No Improvement.\n",
      "history: [6, 2.63, 2.7599735]\n",
      " \n",
      "Test: epoch 6 loss: 2.7599735\n",
      " \n",
      "\n",
      "Text\n",
      "  Word Ids:    [0, 16, 241, 242, 138, 651, 81, 652, 399, 7, 3, 3]\n",
      "  Input Words: i d like to meet your older sister .\n",
      "\n",
      "Summary\n",
      "  Word Ids:       [56, 56, 119, 132, 132, 11]\n",
      "  Response Words: m m anar que que .\n",
      " Ground Truth: m agradaria coneixer la teva germana gran .\n",
      "\n",
      "\n",
      "Text\n",
      "  Word Ids:    [0, 16, 24, 11, 24, 69, 70, 658, 466, 7, 3, 3]\n",
      "  Input Words: i , too , didn t understand anything .\n",
      "\n",
      "Summary\n",
      "  Word Ids:       [82, 82, 58, 58]\n",
      "  Response Words: no no ho ho\n",
      " Ground Truth: jo tampoc entenc res .\n",
      "\n",
      "\n",
      "Text\n",
      "  Word Ids:    [0, 67, 659, 84, 598, 138, 143, 215, 5, 3, 3, 992]\n",
      "  Input Words: is anybody here willing to do that ? <PAD>\n",
      "\n",
      "Summary\n",
      "  Word Ids:       [59, 30, 318, 6]\n",
      "  Response Words: tens un mobil ?\n",
      " Ground Truth: algu esta disposat a fer allo ?\n",
      "\n",
      "Average loss: 2.84\n",
      "No Improvement.\n",
      "Average loss: 2.144\n",
      "Saving model\n",
      "Average loss: 2.477\n",
      "No Improvement.\n",
      "history: [7, 2.477, 2.4775298]\n",
      " \n",
      "Test: epoch 7 loss: 2.4775298\n",
      " \n",
      "\n",
      "Text\n",
      "  Word Ids:    [0, 16, 241, 242, 138, 651, 81, 652, 399, 7, 3, 3]\n",
      "  Input Words: i d like to meet your older sister .\n",
      "\n",
      "Summary\n",
      "  Word Ids:       [56, 279, 119, 27, 16, 11]\n",
      "  Response Words: m agradaria anar a l .\n",
      " Ground Truth: m agradaria coneixer la teva germana gran .\n",
      "\n",
      "\n",
      "Text\n",
      "  Word Ids:    [0, 16, 24, 11, 24, 69, 70, 658, 466, 7, 3, 3]\n",
      "  Input Words: i , too , didn t understand anything .\n",
      "\n",
      "Summary\n",
      "  Word Ids:       [82, 82, 402, 11]\n",
      "  Response Words: no no agrada .\n",
      " Ground Truth: jo tampoc entenc res .\n",
      "\n",
      "\n",
      "Text\n",
      "  Word Ids:    [0, 67, 659, 84, 598, 138, 143, 215, 5, 3, 3, 992]\n",
      "  Input Words: is anybody here willing to do that ? <PAD>\n",
      "\n",
      "Summary\n",
      "  Word Ids:       [132, 132, 27, 27, 27, 6]\n",
      "  Response Words: que que a a a ?\n",
      " Ground Truth: algu esta disposat a fer allo ?\n",
      "\n",
      "Average loss: 2.641\n",
      "No Improvement.\n",
      "Average loss: 1.996\n",
      "Saving model\n",
      "Average loss: 2.347\n",
      "No Improvement.\n",
      "history: [8, 2.347, 2.1967132]\n",
      " \n",
      "Test: epoch 8 loss: 2.1967132\n",
      " \n",
      "\n",
      "Text\n",
      "  Word Ids:    [0, 16, 241, 242, 138, 651, 81, 652, 399, 7, 3, 3]\n",
      "  Input Words: i d like to meet your older sister .\n",
      "\n",
      "Summary\n",
      "  Word Ids:       [277, 56, 98, 16, 11]\n",
      "  Response Words: voldria m la l .\n",
      " Ground Truth: m agradaria coneixer la teva germana gran .\n",
      "\n",
      "\n",
      "Text\n",
      "  Word Ids:    [0, 16, 24, 11, 24, 69, 70, 658, 466, 7, 3, 3]\n",
      "  Input Words: i , too , didn t understand anything .\n",
      "\n",
      "Summary\n",
      "  Word Ids:       [82, 379, 105, 11]\n",
      "  Response Words: no se menjar .\n",
      " Ground Truth: jo tampoc entenc res .\n",
      "\n",
      "\n",
      "Text\n",
      "  Word Ids:    [0, 67, 659, 84, 598, 138, 143, 215, 5, 3, 3, 992]\n",
      "  Input Words: is anybody here willing to do that ? <PAD>\n",
      "\n",
      "Summary\n",
      "  Word Ids:       [59, 183, 76, 142, 27, 6]\n",
      "  Response Words: tens et ha fer a ?\n",
      " Ground Truth: algu esta disposat a fer allo ?\n",
      "\n",
      "Average loss: 2.348\n",
      "No Improvement.\n",
      "Average loss: 1.702\n",
      "Saving model\n",
      "Average loss: 2.006\n",
      "No Improvement.\n",
      "history: [9, 2.006, 1.9512917]\n",
      " \n",
      "Test: epoch 9 loss: 1.9512917\n",
      " \n",
      "\n",
      "Text\n",
      "  Word Ids:    [0, 16, 241, 242, 138, 651, 81, 652, 399, 7, 3, 3]\n",
      "  Input Words: i d like to meet your older sister .\n",
      "\n",
      "Summary\n",
      "  Word Ids:       [56, 56, 199, 98, 94, 11]\n",
      "  Response Words: m m me la teva .\n",
      " Ground Truth: m agradaria coneixer la teva germana gran .\n",
      "\n",
      "\n",
      "Text\n",
      "  Word Ids:    [0, 16, 24, 11, 24, 69, 70, 658, 466, 7, 3, 3]\n",
      "  Input Words: i , too , didn t understand anything .\n",
      "\n",
      "Summary\n",
      "  Word Ids:       [82, 379, 402, 11]\n",
      "  Response Words: no se agrada .\n",
      " Ground Truth: jo tampoc entenc res .\n",
      "\n",
      "\n",
      "Text\n",
      "  Word Ids:    [0, 67, 659, 84, 598, 138, 143, 215, 5, 3, 3, 992]\n",
      "  Input Words: is anybody here willing to do that ? <PAD>\n",
      "\n",
      "Summary\n",
      "  Word Ids:       [98, 270, 270, 270, 6]\n",
      "  Response Words: la mare mare mare ?\n",
      " Ground Truth: algu esta disposat a fer allo ?\n",
      "\n",
      "Average loss: 1.91\n",
      "No Improvement.\n",
      "Average loss: 1.438\n",
      "Saving model\n",
      "Average loss: 1.747\n",
      "No Improvement.\n",
      "history: [10, 1.747, 1.6325569]\n",
      " \n",
      "Test: epoch 10 loss: 1.6325569\n",
      " \n",
      "\n",
      "Text\n",
      "  Word Ids:    [0, 16, 241, 242, 138, 651, 81, 652, 399, 7, 3, 3]\n",
      "  Input Words: i d like to meet your older sister .\n",
      "\n",
      "Summary\n",
      "  Word Ids:       [56, 199, 199, 94, 94, 94, 444, 11]\n",
      "  Response Words: m me me teva teva teva germana .\n",
      " Ground Truth: m agradaria coneixer la teva germana gran .\n",
      "\n",
      "\n",
      "Text\n",
      "  Word Ids:    [0, 16, 24, 11, 24, 69, 70, 658, 466, 7, 3, 3]\n",
      "  Input Words: i , too , didn t understand anything .\n",
      "\n",
      "Summary\n",
      "  Word Ids:       [82, 82, 82, 79, 11]\n",
      "  Response Words: no no no seu .\n",
      " Ground Truth: jo tampoc entenc res .\n",
      "\n",
      "\n",
      "Text\n",
      "  Word Ids:    [0, 67, 659, 84, 598, 138, 143, 215, 5, 3, 3, 992]\n",
      "  Input Words: is anybody here willing to do that ? <PAD>\n",
      "\n",
      "Summary\n",
      "  Word Ids:       [132, 355, 318, 6]\n",
      "  Response Words: que faries mobil ?\n",
      " Ground Truth: algu esta disposat a fer allo ?\n",
      "\n",
      "Average loss: 1.595\n",
      "No Improvement.\n",
      "Average loss: 1.244\n",
      "Saving model\n",
      "Average loss: 1.533\n",
      "No Improvement.\n",
      "history: [11, 1.533, 1.3033313]\n",
      " \n",
      "Test: epoch 11 loss: 1.3033313\n",
      " \n",
      "\n",
      "Text\n",
      "  Word Ids:    [0, 16, 241, 242, 138, 651, 81, 652, 399, 7, 3, 3]\n",
      "  Input Words: i d like to meet your older sister .\n",
      "\n",
      "Summary\n",
      "  Word Ids:       [56, 279, 199, 199, 98, 94, 11]\n",
      "  Response Words: m agradaria me me la teva .\n",
      " Ground Truth: m agradaria coneixer la teva germana gran .\n",
      "\n",
      "\n",
      "Text\n",
      "  Word Ids:    [0, 16, 24, 11, 24, 69, 70, 658, 466, 7, 3, 3]\n",
      "  Input Words: i , too , didn t understand anything .\n",
      "\n",
      "Summary\n",
      "  Word Ids:       [22, 379, 738, 11]\n",
      "  Response Words: jo se entenc .\n",
      " Ground Truth: jo tampoc entenc res .\n",
      "\n",
      "\n",
      "Text\n",
      "  Word Ids:    [0, 67, 659, 84, 598, 138, 143, 215, 5, 3, 3, 992]\n",
      "  Input Words: is anybody here willing to do that ? <PAD>\n",
      "\n",
      "Summary\n",
      "  Word Ids:       [149, 27, 678, 27, 142, 6]\n",
      "  Response Words: per a disposat a fer ?\n",
      " Ground Truth: algu esta disposat a fer allo ?\n",
      "\n",
      "Average loss: 1.408\n",
      "No Improvement.\n",
      "Average loss: 1.11\n",
      "Saving model\n",
      "Average loss: 1.403\n",
      "No Improvement.\n",
      "history: [12, 1.403, 1.2196302]\n",
      " \n",
      "Test: epoch 12 loss: 1.2196302\n",
      " \n",
      "\n",
      "Text\n",
      "  Word Ids:    [0, 16, 241, 242, 138, 651, 81, 652, 399, 7, 3, 3]\n",
      "  Input Words: i d like to meet your older sister .\n",
      "\n",
      "Summary\n",
      "  Word Ids:       [277, 730, 731, 94, 94, 444, 444, 444, 444, 444, 444]\n",
      "  Response Words: voldria trobar coneixer teva teva germana germana germana germana germana germana\n",
      " Ground Truth: m agradaria coneixer la teva germana gran .\n",
      "\n",
      "\n",
      "Text\n",
      "  Word Ids:    [0, 16, 24, 11, 24, 69, 70, 658, 466, 7, 3, 3]\n",
      "  Input Words: i , too , didn t understand anything .\n",
      "\n",
      "Summary\n",
      "  Word Ids:       [22, 737, 738, 79, 11]\n",
      "  Response Words: jo tampoc entenc seu .\n",
      " Ground Truth: jo tampoc entenc res .\n",
      "\n",
      "\n",
      "Text\n",
      "  Word Ids:    [0, 67, 659, 84, 598, 138, 143, 215, 5, 3, 3, 992]\n",
      "  Input Words: is anybody here willing to do that ? <PAD>\n",
      "\n",
      "Summary\n",
      "  Word Ids:       [739, 481, 678, 27, 425, 6]\n",
      "  Response Words: algu nevara disposat a allo ?\n",
      " Ground Truth: algu esta disposat a fer allo ?\n",
      "\n",
      "Average loss: 1.209\n",
      "No Improvement.\n",
      "Average loss: 0.966\n",
      "Saving model\n",
      "Average loss: 1.14\n",
      "No Improvement.\n",
      "history: [13, 1.14, 1.486956]\n",
      " \n",
      "Test: epoch 13 loss: 1.486956\n",
      " \n",
      "\n",
      "Text\n",
      "  Word Ids:    [0, 16, 241, 242, 138, 651, 81, 652, 399, 7, 3, 3]\n",
      "  Input Words: i d like to meet your older sister .\n",
      "\n",
      "Summary\n",
      "  Word Ids:       [56, 279, 199, 98, 94, 11]\n",
      "  Response Words: m agradaria me la teva .\n",
      " Ground Truth: m agradaria coneixer la teva germana gran .\n",
      "\n",
      "\n",
      "Text\n",
      "  Word Ids:    [0, 16, 24, 11, 24, 69, 70, 658, 466, 7, 3, 3]\n",
      "  Input Words: i , too , didn t understand anything .\n",
      "\n",
      "Summary\n",
      "  Word Ids:       [115, 737, 738, 11]\n",
      "  Response Words: ja tampoc entenc .\n",
      " Ground Truth: jo tampoc entenc res .\n",
      "\n",
      "\n",
      "Text\n",
      "  Word Ids:    [0, 67, 659, 84, 598, 138, 143, 215, 5, 3, 3, 992]\n",
      "  Input Words: is anybody here willing to do that ? <PAD>\n",
      "\n",
      "Summary\n",
      "  Word Ids:       [715, 263, 678, 11]\n",
      "  Response Words: vols ve disposat .\n",
      " Ground Truth: algu esta disposat a fer allo ?\n",
      "\n",
      "Average loss: 1.177\n",
      "No Improvement.\n",
      "Average loss: 0.798\n",
      "Saving model\n",
      "Average loss: 1.094\n",
      "No Improvement.\n",
      "history: [14, 1.094, 1.0701553]\n",
      " \n",
      "Test: epoch 14 loss: 1.0701553\n",
      " \n",
      "\n",
      "Text\n",
      "  Word Ids:    [0, 16, 241, 242, 138, 651, 81, 652, 399, 7, 3, 3]\n",
      "  Input Words: i d like to meet your older sister .\n",
      "\n",
      "Summary\n",
      "  Word Ids:       [277, 730, 199, 123, 196, 196, 196, 196, 196, 196, 196]\n",
      "  Response Words: voldria trobar me els gran gran gran gran gran gran gran\n",
      " Ground Truth: m agradaria coneixer la teva germana gran .\n",
      "\n",
      "\n",
      "Text\n",
      "  Word Ids:    [0, 16, 24, 11, 24, 69, 70, 658, 466, 7, 3, 3]\n",
      "  Input Words: i , too , didn t understand anything .\n",
      "\n",
      "Summary\n",
      "  Word Ids:       [22, 23, 738, 11]\n",
      "  Response Words: jo tambe entenc .\n",
      " Ground Truth: jo tampoc entenc res .\n",
      "\n",
      "\n",
      "Text\n",
      "  Word Ids:    [0, 67, 659, 84, 598, 138, 143, 215, 5, 3, 3, 992]\n",
      "  Input Words: is anybody here willing to do that ? <PAD>\n",
      "\n",
      "Summary\n",
      "  Word Ids:       [739, 132, 678, 142, 142, 142, 425, 6]\n",
      "  Response Words: algu que disposat fer fer fer allo ?\n",
      " Ground Truth: algu esta disposat a fer allo ?\n",
      "\n",
      "Average loss: 1.011\n",
      "No Improvement.\n",
      "Average loss: 0.758\n",
      "Saving model\n",
      "Average loss: 0.963\n",
      "No Improvement.\n",
      "history: [15, 0.963, 0.90179545]\n",
      " \n",
      "Test: epoch 15 loss: 0.90179545\n",
      " \n",
      "\n",
      "Text\n",
      "  Word Ids:    [0, 16, 241, 242, 138, 651, 81, 652, 399, 7, 3, 3]\n",
      "  Input Words: i d like to meet your older sister .\n",
      "\n",
      "Summary\n",
      "  Word Ids:       [56, 730, 98, 98, 94, 11]\n",
      "  Response Words: m trobar la la teva .\n",
      " Ground Truth: m agradaria coneixer la teva germana gran .\n",
      "\n",
      "\n",
      "Text\n",
      "  Word Ids:    [0, 16, 24, 11, 24, 69, 70, 658, 466, 7, 3, 3]\n",
      "  Input Words: i , too , didn t understand anything .\n",
      "\n",
      "Summary\n",
      "  Word Ids:       [22, 737, 738, 289, 11]\n",
      "  Response Words: jo tampoc entenc res .\n",
      " Ground Truth: jo tampoc entenc res .\n",
      "\n",
      "\n",
      "Text\n",
      "  Word Ids:    [0, 67, 659, 84, 598, 138, 143, 215, 5, 3, 3, 992]\n",
      "  Input Words: is anybody here willing to do that ? <PAD>\n",
      "\n",
      "Summary\n",
      "  Word Ids:       [739, 183, 678, 27, 425, 425, 6]\n",
      "  Response Words: algu et disposat a allo allo ?\n",
      " Ground Truth: algu esta disposat a fer allo ?\n",
      "\n",
      "Average loss: 0.869\n",
      "No Improvement.\n",
      "Average loss: 0.595\n",
      "Saving model\n",
      "Average loss: 0.816\n",
      "No Improvement.\n",
      "history: [16, 0.816, 0.67093116]\n",
      " \n",
      "Test: epoch 16 loss: 0.67093116\n",
      " \n",
      "\n",
      "Text\n",
      "  Word Ids:    [0, 16, 241, 242, 138, 651, 81, 652, 399, 7, 3, 3]\n",
      "  Input Words: i d like to meet your older sister .\n",
      "\n",
      "Summary\n",
      "  Word Ids:       [277, 277, 731, 44, 444, 444, 444, 11]\n",
      "  Response Words: voldria voldria coneixer amb germana germana germana .\n",
      " Ground Truth: m agradaria coneixer la teva germana gran .\n",
      "\n",
      "\n",
      "Text\n",
      "  Word Ids:    [0, 16, 24, 11, 24, 69, 70, 658, 466, 7, 3, 3]\n",
      "  Input Words: i , too , didn t understand anything .\n",
      "\n",
      "Summary\n",
      "  Word Ids:       [22, 737, 738, 289, 11]\n",
      "  Response Words: jo tampoc entenc res .\n",
      " Ground Truth: jo tampoc entenc res .\n",
      "\n",
      "\n",
      "Text\n",
      "  Word Ids:    [0, 67, 659, 84, 598, 138, 143, 215, 5, 3, 3, 992]\n",
      "  Input Words: is anybody here willing to do that ? <PAD>\n",
      "\n",
      "Summary\n",
      "  Word Ids:       [739, 481, 678, 27, 142, 425, 425, 11]\n",
      "  Response Words: algu nevara disposat a fer allo allo .\n",
      " Ground Truth: algu esta disposat a fer allo ?\n",
      "\n",
      "Average loss: 0.612\n",
      "No Improvement.\n",
      "Average loss: 0.491\n",
      "Saving model\n",
      "Average loss: 0.654\n",
      "No Improvement.\n",
      "history: [17, 0.654, 0.58363515]\n",
      " \n",
      "Test: epoch 17 loss: 0.58363515\n",
      " \n",
      "\n",
      "Text\n",
      "  Word Ids:    [0, 16, 241, 242, 138, 651, 81, 652, 399, 7, 3, 3]\n",
      "  Input Words: i d like to meet your older sister .\n",
      "\n",
      "Summary\n",
      "  Word Ids:       [56, 279, 199, 98, 94, 196, 196, 11]\n",
      "  Response Words: m agradaria me la teva gran gran .\n",
      " Ground Truth: m agradaria coneixer la teva germana gran .\n",
      "\n",
      "\n",
      "Text\n",
      "  Word Ids:    [0, 16, 24, 11, 24, 69, 70, 658, 466, 7, 3, 3]\n",
      "  Input Words: i , too , didn t understand anything .\n",
      "\n",
      "Summary\n",
      "  Word Ids:       [22, 737, 738, 289, 11]\n",
      "  Response Words: jo tampoc entenc res .\n",
      " Ground Truth: jo tampoc entenc res .\n",
      "\n",
      "\n",
      "Text\n",
      "  Word Ids:    [0, 67, 659, 84, 598, 138, 143, 215, 5, 3, 3, 992]\n",
      "  Input Words: is anybody here willing to do that ? <PAD>\n",
      "\n",
      "Summary\n",
      "  Word Ids:       [739, 27, 678, 27, 142, 6]\n",
      "  Response Words: algu a disposat a fer ?\n",
      " Ground Truth: algu esta disposat a fer allo ?\n",
      "\n",
      "Average loss: 0.522\n",
      "No Improvement.\n",
      "Average loss: 0.364\n",
      "Saving model\n",
      "Average loss: 0.511\n",
      "No Improvement.\n",
      "history: [18, 0.511, 0.5226889]\n",
      " \n",
      "Test: epoch 18 loss: 0.5226889\n",
      " \n",
      "\n",
      "Text\n",
      "  Word Ids:    [0, 16, 241, 242, 138, 651, 81, 652, 399, 7, 3, 3]\n",
      "  Input Words: i d like to meet your older sister .\n",
      "\n",
      "Summary\n",
      "  Word Ids:       [56, 279, 731, 44, 94, 94, 444, 11]\n",
      "  Response Words: m agradaria coneixer amb teva teva germana .\n",
      " Ground Truth: m agradaria coneixer la teva germana gran .\n",
      "\n",
      "\n",
      "Text\n",
      "  Word Ids:    [0, 16, 24, 11, 24, 69, 70, 658, 466, 7, 3, 3]\n",
      "  Input Words: i , too , didn t understand anything .\n",
      "\n",
      "Summary\n",
      "  Word Ids:       [22, 737, 738, 289, 11]\n",
      "  Response Words: jo tampoc entenc res .\n",
      " Ground Truth: jo tampoc entenc res .\n",
      "\n",
      "\n",
      "Text\n",
      "  Word Ids:    [0, 67, 659, 84, 598, 138, 143, 215, 5, 3, 3, 992]\n",
      "  Input Words: is anybody here willing to do that ? <PAD>\n",
      "\n",
      "Summary\n",
      "  Word Ids:       [739, 101, 678, 27, 142, 425, 425, 6]\n",
      "  Response Words: algu esta disposat a fer allo allo ?\n",
      " Ground Truth: algu esta disposat a fer allo ?\n",
      "\n",
      "Average loss: 0.419\n",
      "No Improvement.\n",
      "Average loss: 0.345\n",
      "Saving model\n",
      "Average loss: 0.395\n",
      "No Improvement.\n",
      "history: [19, 0.395, 0.4705306]\n",
      " \n",
      "Test: epoch 19 loss: 0.4705306\n",
      " \n",
      "\n",
      "Text\n",
      "  Word Ids:    [0, 16, 241, 242, 138, 651, 81, 652, 399, 7, 3, 3]\n",
      "  Input Words: i d like to meet your older sister .\n",
      "\n",
      "Summary\n",
      "  Word Ids:       [277, 199, 98, 98, 444, 196, 11]\n",
      "  Response Words: voldria me la la germana gran .\n",
      " Ground Truth: m agradaria coneixer la teva germana gran .\n",
      "\n",
      "\n",
      "Text\n",
      "  Word Ids:    [0, 16, 24, 11, 24, 69, 70, 658, 466, 7, 3, 3]\n",
      "  Input Words: i , too , didn t understand anything .\n",
      "\n",
      "Summary\n",
      "  Word Ids:       [22, 737, 738, 11]\n",
      "  Response Words: jo tampoc entenc .\n",
      " Ground Truth: jo tampoc entenc res .\n",
      "\n",
      "\n",
      "Text\n",
      "  Word Ids:    [0, 67, 659, 84, 598, 138, 143, 215, 5, 3, 3, 992]\n",
      "  Input Words: is anybody here willing to do that ? <PAD>\n",
      "\n",
      "Summary\n",
      "  Word Ids:       [739, 101, 678, 142, 142, 6]\n",
      "  Response Words: algu esta disposat fer fer ?\n",
      " Ground Truth: algu esta disposat a fer allo ?\n",
      "\n",
      "Average loss: 0.392\n",
      "No Improvement.\n",
      "Average loss: 0.368\n",
      "No Improvement.\n",
      "history: [20, 0.368, 0.58033085]\n",
      " \n",
      "Test: epoch 20 loss: 0.58033085\n",
      " \n",
      "\n",
      "Text\n",
      "  Word Ids:    [0, 16, 241, 242, 138, 651, 81, 652, 399, 7, 3, 3]\n",
      "  Input Words: i d like to meet your older sister .\n",
      "\n",
      "Summary\n",
      "  Word Ids:       [56, 279, 731, 199, 44, 196, 196, 196, 196, 196, 196]\n",
      "  Response Words: m agradaria coneixer me amb gran gran gran gran gran gran\n",
      " Ground Truth: m agradaria coneixer la teva germana gran .\n",
      "\n",
      "\n",
      "Text\n",
      "  Word Ids:    [0, 16, 24, 11, 24, 69, 70, 658, 466, 7, 3, 3]\n",
      "  Input Words: i , too , didn t understand anything .\n",
      "\n",
      "Summary\n",
      "  Word Ids:       [22, 737, 738, 289, 289, 289, 11]\n",
      "  Response Words: jo tampoc entenc res res res .\n",
      " Ground Truth: jo tampoc entenc res .\n",
      "\n",
      "\n",
      "Text\n",
      "  Word Ids:    [0, 67, 659, 84, 598, 138, 143, 215, 5, 3, 3, 992]\n",
      "  Input Words: is anybody here willing to do that ? <PAD>\n",
      "\n",
      "Summary\n",
      "  Word Ids:       [739, 101, 678, 27, 142, 425, 6]\n",
      "  Response Words: algu esta disposat a fer allo ?\n",
      " Ground Truth: algu esta disposat a fer allo ?\n",
      "\n",
      "Stopping Training.\n"
     ]
    }
   ],
   "source": [
    "invalid_number_prediction_counts = []\n",
    "all_model_predictions = []\n",
    "all_ground_truth = []\n",
    "history=[]\n",
    "print('Start training... \\n')\n",
    "\n",
    "with tf.Session(graph=train_graph) as sess:\n",
    "    tf_summary_writer = tf.summary.FileWriter(logs_path, graph=train_graph)\n",
    "    merged_summary_op = tf.summary.merge_all()\n",
    "    sess.run(tf.global_variables_initializer())\n",
    "    for epoch_i in range(epochs):\n",
    "        update_loss = 0\n",
    "        batch_loss = 0\n",
    "        train_loss =0\n",
    "        for batch_i, (summaries_batch, texts_batch, summaries_len, texts_len) in enumerate(\n",
    "                get_batches(news_summaries_train, news_texts_train,batch_size)):\n",
    "            before = time.time()\n",
    "            _,loss,predictions,summary=train_on_batch(sess,texts_batch, texts_len, summaries_batch, summaries_len, lr, dr_prob)\n",
    "          \n",
    "            batch_loss += loss\n",
    "            update_loss += loss\n",
    "            after = time.time()\n",
    "            batch_time = after - before\n",
    "            tf_summary_writer.add_summary(summary, epoch_i * batch_size + batch_i)\n",
    "            \n",
    "            if batch_i % display_step == 0 and batch_i > 0:\n",
    "                print('** Epoch {:>3}/{} Batch {:>4}/{} - Batch Loss: {:>6.3f}, seconds: {:>4.2f}'\n",
    "                      .format(epoch_i+1,\n",
    "                              epochs, \n",
    "                              batch_i, \n",
    "                              len(news_texts_filtered) // batch_size, \n",
    "                              batch_loss / display_step, \n",
    "                              batch_time*display_step))\n",
    "                batch_loss = 0\n",
    "            \n",
    "            if batch_i % update_check == 0 and batch_i > 0:\n",
    "                print(\"Average loss:\", round(update_loss/update_check,3))\n",
    "                train_loss=round(update_loss/update_check,3)\n",
    "                summary_update_loss.append(update_loss)\n",
    "                \n",
    "                if update_loss <= min(summary_update_loss):\n",
    "                    print('Saving model') \n",
    "                    early_stop_cnt = 0\n",
    "                    saver = tf.train.Saver() \n",
    "                    saver.save(sess, checkpoint)\n",
    "\n",
    "                else:\n",
    "                    print(\"No Improvement.\")\n",
    "                    early_stop_cnt += 1\n",
    "                    if early_stop_cnt == early_stop_cnt_max:\n",
    "                        break\n",
    "                update_loss = 0\n",
    "\n",
    "        summaries_test_batch, texts_test_batch, summaries_test_len, texts_test_len =\\\n",
    "         next(get_batches(news_summaries_test, news_texts_test,batch_size))\n",
    "    \n",
    "        predictions,test_loss = predict_for_batch_with_loss(sess,texts_test_batch, texts_test_len,summaries_test_batch,summaries_test_len,lr,1.0)\n",
    "        history.append([epoch_i+1,train_loss,test_loss])\n",
    "        print('history:',history[-1])\n",
    "        print(\" \")  \n",
    "        print('Test: epoch', epoch_i+1, 'loss:', test_loss,)\n",
    "        print(\" \")\n",
    "        for text, summary, result_logits  in list(zip(texts_test_batch, summaries_test_batch, predictions))[-3:]: \n",
    "                     print('\\nText')\n",
    "                     print('  Word Ids:    {}'.format([i for i in text]))\n",
    "                     print('  Input Words: {}'.format(\" \".join( int2wordx[i] for i in text if i not in tokens_id)))\n",
    "\n",
    "                     print('\\nSummary')\n",
    "                     print('  Word Ids:       {}'.format([i for i in result_logits if i not in tokens_id]))\n",
    "                     print('  Response Words: {}'.format(\" \".join(int2word[i] for i in result_logits if i not in tokens_id )))\n",
    "                     print(' Ground Truth: {}'.format(\" \".join(int2word[i] for i in summary if i not in tokens_id)))\n",
    "                     print('')\n",
    "        model_predictions = []\n",
    "        ground_truth = []\n",
    "        invalid_number_prediction_count = 0\n",
    "\n",
    "        ind=0\n",
    "        for summaries_test_batch, texts_test_batch, summaries_test_len, texts_test_len\\\n",
    "         in get_batches(news_summaries_test,news_texts_test,batch_size=batch_size):\n",
    "                 \n",
    "  \n",
    "                 #summaries_test_len=[np.random.randint(5,8)]\n",
    "                 pred=predict_for_batch(sess, texts_test_batch, texts_test_len,summaries_test_batch,summaries_test_len,1.0)   \n",
    "                 \n",
    "                 for y,p in list(zip(summaries_test_batch,pred)): \n",
    "                     Y=''.join(int2word[i] for i in y if i not in tokens_id)\n",
    "                     O=''.join(int2word[i] for i in p if i not in tokens_id)\n",
    "                     \n",
    "                     if mean_absolute_error_texts([Y],[O])< 5 or len(O)< len(Y): \n",
    "                             invalid_number_prediction_count += 1\n",
    "                     \n",
    "                     lmin=min(len(Y),len(O))+1\n",
    "                     OO=O[:lmin]\n",
    "                     YY=Y[:lmin] \n",
    "                     model_predictions.append(O)\n",
    "                     ground_truth.append(Y)\n",
    "        all_model_predictions.append(model_predictions)\n",
    "        all_ground_truth.append(ground_truth)\n",
    "        invalid_number_prediction_counts.append(invalid_number_prediction_count)\n",
    "         \n",
    "        if early_stop_cnt == early_stop_cnt_max:\n",
    "            print(\"Stopping Training.\")\n",
    "            break        \n"
   ]
  },
  {
   "cell_type": "code",
   "execution_count": 64,
   "metadata": {
    "colab": {
     "base_uri": "https://localhost:8080/",
     "height": 265
    },
    "colab_type": "code",
    "id": "wErDv9CAuhdy",
    "outputId": "e9192515-2585-4dc1-d0d3-21cb82b64b27"
   },
   "outputs": [
    {
     "data": {
      "image/png": "[encoded data removed]",
      "text/plain": [
       "<Figure size 432x288 with 1 Axes>"
      ]
     },
     "metadata": {
      "needs_background": "light",
      "tags": []
     },
     "output_type": "display_data"
    }
   ],
   "source": [
    "history=pd.DataFrame(history, columns=['epochs','loss','val_loss'])\n",
    "from matplotlib import pyplot \n",
    "pyplot.plot(history['epochs'],history['loss'], label='train') \n",
    "pyplot.plot(history['epochs'],history['val_loss'], label='test') \n",
    "pyplot.legend() \n",
    "pyplot.show()"
   ]
  },
  {
   "cell_type": "code",
   "execution_count": 65,
   "metadata": {
    "colab": {
     "base_uri": "https://localhost:8080/",
     "height": 622
    },
    "colab_type": "code",
    "id": "MwDoSYgYMLcE",
    "outputId": "b6d4f1da-7a75-40b1-d5fc-c2cf6887a222"
   },
   "outputs": [
    {
     "data": {
      "text/html": [
       "<div>\n",
       "<style scoped>\n",
       "    .dataframe tbody tr th:only-of-type {\n",
       "        vertical-align: middle;\n",
       "    }\n",
       "\n",
       "    .dataframe tbody tr th {\n",
       "        vertical-align: top;\n",
       "    }\n",
       "\n",
       "    .dataframe thead th {\n",
       "        text-align: right;\n",
       "    }\n",
       "</style>\n",
       "<table border=\"1\" class=\"dataframe\">\n",
       "  <thead>\n",
       "    <tr style=\"text-align: right;\">\n",
       "      <th></th>\n",
       "      <th>epochs</th>\n",
       "      <th>loss</th>\n",
       "      <th>val_loss</th>\n",
       "    </tr>\n",
       "  </thead>\n",
       "  <tbody>\n",
       "    <tr>\n",
       "      <th>0</th>\n",
       "      <td>1</td>\n",
       "      <td>4.040</td>\n",
       "      <td>4.130271</td>\n",
       "    </tr>\n",
       "    <tr>\n",
       "      <th>1</th>\n",
       "      <td>2</td>\n",
       "      <td>3.323</td>\n",
       "      <td>3.692981</td>\n",
       "    </tr>\n",
       "    <tr>\n",
       "      <th>2</th>\n",
       "      <td>3</td>\n",
       "      <td>3.094</td>\n",
       "      <td>3.383813</td>\n",
       "    </tr>\n",
       "    <tr>\n",
       "      <th>3</th>\n",
       "      <td>4</td>\n",
       "      <td>2.934</td>\n",
       "      <td>3.168670</td>\n",
       "    </tr>\n",
       "    <tr>\n",
       "      <th>4</th>\n",
       "      <td>5</td>\n",
       "      <td>2.824</td>\n",
       "      <td>2.984884</td>\n",
       "    </tr>\n",
       "    <tr>\n",
       "      <th>5</th>\n",
       "      <td>6</td>\n",
       "      <td>2.630</td>\n",
       "      <td>2.759974</td>\n",
       "    </tr>\n",
       "    <tr>\n",
       "      <th>6</th>\n",
       "      <td>7</td>\n",
       "      <td>2.477</td>\n",
       "      <td>2.477530</td>\n",
       "    </tr>\n",
       "    <tr>\n",
       "      <th>7</th>\n",
       "      <td>8</td>\n",
       "      <td>2.347</td>\n",
       "      <td>2.196713</td>\n",
       "    </tr>\n",
       "    <tr>\n",
       "      <th>8</th>\n",
       "      <td>9</td>\n",
       "      <td>2.006</td>\n",
       "      <td>1.951292</td>\n",
       "    </tr>\n",
       "    <tr>\n",
       "      <th>9</th>\n",
       "      <td>10</td>\n",
       "      <td>1.747</td>\n",
       "      <td>1.632557</td>\n",
       "    </tr>\n",
       "    <tr>\n",
       "      <th>10</th>\n",
       "      <td>11</td>\n",
       "      <td>1.533</td>\n",
       "      <td>1.303331</td>\n",
       "    </tr>\n",
       "    <tr>\n",
       "      <th>11</th>\n",
       "      <td>12</td>\n",
       "      <td>1.403</td>\n",
       "      <td>1.219630</td>\n",
       "    </tr>\n",
       "    <tr>\n",
       "      <th>12</th>\n",
       "      <td>13</td>\n",
       "      <td>1.140</td>\n",
       "      <td>1.486956</td>\n",
       "    </tr>\n",
       "    <tr>\n",
       "      <th>13</th>\n",
       "      <td>14</td>\n",
       "      <td>1.094</td>\n",
       "      <td>1.070155</td>\n",
       "    </tr>\n",
       "    <tr>\n",
       "      <th>14</th>\n",
       "      <td>15</td>\n",
       "      <td>0.963</td>\n",
       "      <td>0.901795</td>\n",
       "    </tr>\n",
       "    <tr>\n",
       "      <th>15</th>\n",
       "      <td>16</td>\n",
       "      <td>0.816</td>\n",
       "      <td>0.670931</td>\n",
       "    </tr>\n",
       "    <tr>\n",
       "      <th>16</th>\n",
       "      <td>17</td>\n",
       "      <td>0.654</td>\n",
       "      <td>0.583635</td>\n",
       "    </tr>\n",
       "    <tr>\n",
       "      <th>17</th>\n",
       "      <td>18</td>\n",
       "      <td>0.511</td>\n",
       "      <td>0.522689</td>\n",
       "    </tr>\n",
       "    <tr>\n",
       "      <th>18</th>\n",
       "      <td>19</td>\n",
       "      <td>0.395</td>\n",
       "      <td>0.470531</td>\n",
       "    </tr>\n",
       "    <tr>\n",
       "      <th>19</th>\n",
       "      <td>20</td>\n",
       "      <td>0.368</td>\n",
       "      <td>0.580331</td>\n",
       "    </tr>\n",
       "  </tbody>\n",
       "</table>\n",
       "</div>"
      ],
      "text/plain": [
       "    epochs   loss  val_loss\n",
       "0        1  4.040  4.130271\n",
       "1        2  3.323  3.692981\n",
       "2        3  3.094  3.383813\n",
       "3        4  2.934  3.168670\n",
       "4        5  2.824  2.984884\n",
       "5        6  2.630  2.759974\n",
       "6        7  2.477  2.477530\n",
       "7        8  2.347  2.196713\n",
       "8        9  2.006  1.951292\n",
       "9       10  1.747  1.632557\n",
       "10      11  1.533  1.303331\n",
       "11      12  1.403  1.219630\n",
       "12      13  1.140  1.486956\n",
       "13      14  1.094  1.070155\n",
       "14      15  0.963  0.901795\n",
       "15      16  0.816  0.670931\n",
       "16      17  0.654  0.583635\n",
       "17      18  0.511  0.522689\n",
       "18      19  0.395  0.470531\n",
       "19      20  0.368  0.580331"
      ]
     },
     "execution_count": 65,
     "metadata": {
      "tags": []
     },
     "output_type": "execute_result"
    }
   ],
   "source": [
    "history"
   ]
  },
  {
   "cell_type": "code",
   "execution_count": 0,
   "metadata": {
    "colab": {},
    "colab_type": "code",
    "id": "5cUmIlXWM7Uw"
   },
   "outputs": [],
   "source": [
    "#Evaluate results¶\n",
    "#Because our task is simple and the output is straight-forward, we will use MAE metric to evaluate the trained model during the epochs. Compute the value of the metric for the output from each epoch.\n"
   ]
  },
  {
   "cell_type": "code",
   "execution_count": 67,
   "metadata": {
    "colab": {
     "base_uri": "https://localhost:8080/",
     "height": 342
    },
    "colab_type": "code",
    "id": "r5ZnQYTwLpXn",
    "outputId": "acf65b07-e1b0-4db9-d5a6-55062db9dd61"
   },
   "outputs": [
    {
     "name": "stdout",
     "output_type": "stream",
     "text": [
      "Epoch: 1, MAE: 42.640143, Invalid numbers: 96\n",
      "Epoch: 2, MAE: 53.935989, Invalid numbers: 95\n",
      "Epoch: 3, MAE: 53.935989, Invalid numbers: 95\n",
      "Epoch: 4, MAE: 53.935989, Invalid numbers: 95\n",
      "Epoch: 5, MAE: 67.419986, Invalid numbers: 95\n",
      "Epoch: 6, MAE: 60.302269, Invalid numbers: 95\n",
      "Epoch: 7, MAE: 67.419986, Invalid numbers: 87\n",
      "Epoch: 8, MAE: 85.280287, Invalid numbers: 89\n",
      "Epoch: 9, MAE: 79.772404, Invalid numbers: 89\n",
      "Epoch: 10, MAE: 73.854895, Invalid numbers: 84\n",
      "Epoch: 11, MAE: 85.280287, Invalid numbers: 74\n",
      "Epoch: 12, MAE: 81.818182, Invalid numbers: 76\n",
      "Epoch: 13, MAE: 90.909091, Invalid numbers: 79\n",
      "Epoch: 14, MAE: 100.000000, Invalid numbers: 81\n",
      "Epoch: 15, MAE: 100.000000, Invalid numbers: 80\n",
      "Epoch: 16, MAE: 100.000000, Invalid numbers: 73\n",
      "Epoch: 17, MAE: 95.346259, Invalid numbers: 78\n",
      "Epoch: 18, MAE: 100.000000, Invalid numbers: 62\n",
      "Epoch: 19, MAE: 95.346259, Invalid numbers: 71\n",
      "Epoch: 20, MAE: 95.346259, Invalid numbers: 62\n"
     ]
    }
   ],
   "source": [
    "for i, (gts, predictions, invalid_number_prediction_count) in enumerate(zip(all_ground_truth,\n",
    "                                                                            all_model_predictions,\n",
    "                                                                            invalid_number_prediction_counts), 1):\n",
    "       \n",
    "\n",
    "          mae=mean_absolute_error_texts(gts, predictions)\n",
    "          print(\"Epoch: %i, MAE: %f, Invalid numbers: %i\" % (i, mae, invalid_number_prediction_count))"
   ]
  },
  {
   "cell_type": "code",
   "execution_count": 3,
   "metadata": {},
   "outputs": [
    {
     "data": {
      "text/plain": [
       "<matplotlib.legend.Legend at 0x7fdc54de8b70>"
      ]
     },
     "execution_count": 3,
     "metadata": {},
     "output_type": "execute_result"
    },
    {
     "data": {
      "image/png": "[encoded data removed]",
      "text/plain": [
       "<Figure size 432x288 with 1 Axes>"
      ]
     },
     "metadata": {
      "needs_background": "light"
     },
     "output_type": "display_data"
    }
   ],
   "source": [
    "msec={}\n",
    "msec['MSE-COSINE-SIMILARITY']=[42.640143,53.935989, 53.935989,53.935989, 67.419986, 60.302269,67.419986,85.280287, \n",
    "79.772404, 73.854895, 85.280287, 81.818182, 90.909091, 100.000000, 100.000000, 100.000000, 95.346259, 100.000000,\n",
    "95.346259, 95.346259]\n",
    "msec['Invalid numbers']=[96,95,95,95,95,95,87,89,89,84,74,76,79,81,80,73,78,62,71,62]\n",
    "import pandas as pd \n",
    "msec=pd.DataFrame.from_dict(msec)\n",
    "import matplotlib.pyplot as plt\n",
    "fig,ax = plt.subplots()\n",
    "\n",
    "for name in msec.columns:\n",
    "    ax.plot(msec[name].values,label=name)\n",
    "\n",
    "ax.set_xlabel(\"epochs\")\n",
    "ax.set_ylabel(\"Performance\")\n",
    "ax.legend(loc='best')"
   ]
  },
  {
   "cell_type": "code",
   "execution_count": 70,
   "metadata": {
    "_cell_guid": "265fd2f2-cd5f-590d-1fa3-cf6eeedf89fe",
    "colab": {
     "base_uri": "https://localhost:8080/",
     "height": 1000
    },
    "colab_type": "code",
    "id": "SRKF7S2a-fPe",
    "outputId": "6c30a2e9-594f-4427-a492-f4dd4b754d5f"
   },
   "outputs": [
    {
     "name": "stdout",
     "output_type": "stream",
     "text": [
      "\n",
      "----Prepare evaluation\n",
      "INFO:tensorflow:Restoring parameters from /content/gdrive/My Drive/best_so_far_model.ckpt\n",
      "INFO:tensorflow:Restoring parameters from /content/gdrive/My Drive/best_so_far_model.ckpt\n",
      "INFO:tensorflow:Restoring parameters from /content/gdrive/My Drive/best_so_far_model.ckpt\n",
      "INFO:tensorflow:Restoring parameters from /content/gdrive/My Drive/best_so_far_model.ckpt\n",
      "INFO:tensorflow:Restoring parameters from /content/gdrive/My Drive/best_so_far_model.ckpt\n",
      "INFO:tensorflow:Restoring parameters from /content/gdrive/My Drive/best_so_far_model.ckpt\n",
      "INFO:tensorflow:Restoring parameters from /content/gdrive/My Drive/best_so_far_model.ckpt\n",
      "INFO:tensorflow:Restoring parameters from /content/gdrive/My Drive/best_so_far_model.ckpt\n",
      "        \n",
      "        \n",
      "\n",
      "Text\n",
      "  Word Ids:    [0, 305, 47, 81, 618, 213, 73, 619, 7, 3, 3]\n",
      "  Input Words: tell me your plans for the future .\n",
      "\n",
      "Summary\n",
      "  Word Ids:       [692, 56, 123, 693, 694, 149]\n",
      "  Response Words: explica m els teus plans per\n",
      " Ground Truth: explica m els teus plans per al futur .\n",
      "        \n",
      "        \n",
      "INFO:tensorflow:Restoring parameters from /content/gdrive/My Drive/best_so_far_model.ckpt\n",
      "INFO:tensorflow:Restoring parameters from /content/gdrive/My Drive/best_so_far_model.ckpt\n",
      "INFO:tensorflow:Restoring parameters from /content/gdrive/My Drive/best_so_far_model.ckpt\n",
      "INFO:tensorflow:Restoring parameters from /content/gdrive/My Drive/best_so_far_model.ckpt\n",
      "INFO:tensorflow:Restoring parameters from /content/gdrive/My Drive/best_so_far_model.ckpt\n",
      "INFO:tensorflow:Restoring parameters from /content/gdrive/My Drive/best_so_far_model.ckpt\n",
      "INFO:tensorflow:Restoring parameters from /content/gdrive/My Drive/best_so_far_model.ckpt\n",
      "INFO:tensorflow:Restoring parameters from /content/gdrive/My Drive/best_so_far_model.ckpt\n",
      "INFO:tensorflow:Restoring parameters from /content/gdrive/My Drive/best_so_far_model.ckpt\n",
      "INFO:tensorflow:Restoring parameters from /content/gdrive/My Drive/best_so_far_model.ckpt\n",
      "INFO:tensorflow:Restoring parameters from /content/gdrive/My Drive/best_so_far_model.ckpt\n",
      "INFO:tensorflow:Restoring parameters from /content/gdrive/My Drive/best_so_far_model.ckpt\n",
      "INFO:tensorflow:Restoring parameters from /content/gdrive/My Drive/best_so_far_model.ckpt\n",
      "INFO:tensorflow:Restoring parameters from /content/gdrive/My Drive/best_so_far_model.ckpt\n",
      "INFO:tensorflow:Restoring parameters from /content/gdrive/My Drive/best_so_far_model.ckpt\n",
      "INFO:tensorflow:Restoring parameters from /content/gdrive/My Drive/best_so_far_model.ckpt\n",
      "INFO:tensorflow:Restoring parameters from /content/gdrive/My Drive/best_so_far_model.ckpt\n",
      "INFO:tensorflow:Restoring parameters from /content/gdrive/My Drive/best_so_far_model.ckpt\n",
      "INFO:tensorflow:Restoring parameters from /content/gdrive/My Drive/best_so_far_model.ckpt\n",
      "        \n",
      "        \n",
      "\n",
      "Text\n",
      "  Word Ids:    [0, 16, 15, 70, 644, 189, 16, 645, 49, 7, 3, 3]\n",
      "  Input Words: i can t remember where i bought it .\n",
      "\n",
      "Summary\n",
      "  Word Ids:       [82, 724, 210, 19, 71, 306]\n",
      "  Response Words: no recorde on el vaig comprar\n",
      " Ground Truth: no recordo on el vaig comprar .\n",
      "        \n",
      "        \n",
      "INFO:tensorflow:Restoring parameters from /content/gdrive/My Drive/best_so_far_model.ckpt\n",
      "INFO:tensorflow:Restoring parameters from /content/gdrive/My Drive/best_so_far_model.ckpt\n",
      "        \n",
      "        \n",
      "\n",
      "Text\n",
      "  Word Ids:    [0, 632, 67, 633, 80, 634, 635, 7, 3, 3]\n",
      "  Input Words: bangkok is thailand s capital city .\n",
      "\n",
      "Summary\n",
      "  Word Ids:       [712, 40, 98, 713]\n",
      "  Response Words: bangkok es la capital\n",
      " Ground Truth: bangkok es la capital de tailandia .\n",
      "        \n",
      "        \n",
      "INFO:tensorflow:Restoring parameters from /content/gdrive/My Drive/best_so_far_model.ckpt\n",
      "INFO:tensorflow:Restoring parameters from /content/gdrive/My Drive/best_so_far_model.ckpt\n",
      "INFO:tensorflow:Restoring parameters from /content/gdrive/My Drive/best_so_far_model.ckpt\n",
      "INFO:tensorflow:Restoring parameters from /content/gdrive/My Drive/best_so_far_model.ckpt\n",
      "INFO:tensorflow:Restoring parameters from /content/gdrive/My Drive/best_so_far_model.ckpt\n",
      "INFO:tensorflow:Restoring parameters from /content/gdrive/My Drive/best_so_far_model.ckpt\n",
      "INFO:tensorflow:Restoring parameters from /content/gdrive/My Drive/best_so_far_model.ckpt\n",
      "INFO:tensorflow:Restoring parameters from /content/gdrive/My Drive/best_so_far_model.ckpt\n",
      "INFO:tensorflow:Restoring parameters from /content/gdrive/My Drive/best_so_far_model.ckpt\n",
      "INFO:tensorflow:Restoring parameters from /content/gdrive/My Drive/best_so_far_model.ckpt\n",
      "INFO:tensorflow:Restoring parameters from /content/gdrive/My Drive/best_so_far_model.ckpt\n",
      "INFO:tensorflow:Restoring parameters from /content/gdrive/My Drive/best_so_far_model.ckpt\n",
      "        \n",
      "        \n",
      "\n",
      "Text\n",
      "  Word Ids:    [0, 143, 14, 150, 138, 636, 637, 36, 37, 5, 3, 3]\n",
      "  Input Words: do you want to play tennis with us ?\n",
      "\n",
      "Summary\n",
      "  Word Ids:       [715, 716, 27, 717]\n",
      "  Response Words: vols jugar a tennis\n",
      " Ground Truth: vols jugar a tennis amb nosaltres ?\n",
      "        \n",
      "        \n",
      "INFO:tensorflow:Restoring parameters from /content/gdrive/My Drive/best_so_far_model.ckpt\n",
      "INFO:tensorflow:Restoring parameters from /content/gdrive/My Drive/best_so_far_model.ckpt\n",
      "INFO:tensorflow:Restoring parameters from /content/gdrive/My Drive/best_so_far_model.ckpt\n",
      "INFO:tensorflow:Restoring parameters from /content/gdrive/My Drive/best_so_far_model.ckpt\n",
      "INFO:tensorflow:Restoring parameters from /content/gdrive/My Drive/best_so_far_model.ckpt\n",
      "INFO:tensorflow:Restoring parameters from /content/gdrive/My Drive/best_so_far_model.ckpt\n",
      "INFO:tensorflow:Restoring parameters from /content/gdrive/My Drive/best_so_far_model.ckpt\n",
      "INFO:tensorflow:Restoring parameters from /content/gdrive/My Drive/best_so_far_model.ckpt\n",
      "INFO:tensorflow:Restoring parameters from /content/gdrive/My Drive/best_so_far_model.ckpt\n",
      "INFO:tensorflow:Restoring parameters from /content/gdrive/My Drive/best_so_far_model.ckpt\n",
      "INFO:tensorflow:Restoring parameters from /content/gdrive/My Drive/best_so_far_model.ckpt\n",
      "INFO:tensorflow:Restoring parameters from /content/gdrive/My Drive/best_so_far_model.ckpt\n",
      "INFO:tensorflow:Restoring parameters from /content/gdrive/My Drive/best_so_far_model.ckpt\n",
      "INFO:tensorflow:Restoring parameters from /content/gdrive/My Drive/best_so_far_model.ckpt\n",
      "INFO:tensorflow:Restoring parameters from /content/gdrive/My Drive/best_so_far_model.ckpt\n",
      "INFO:tensorflow:Restoring parameters from /content/gdrive/My Drive/best_so_far_model.ckpt\n",
      "INFO:tensorflow:Restoring parameters from /content/gdrive/My Drive/best_so_far_model.ckpt\n",
      "INFO:tensorflow:Restoring parameters from /content/gdrive/My Drive/best_so_far_model.ckpt\n",
      "INFO:tensorflow:Restoring parameters from /content/gdrive/My Drive/best_so_far_model.ckpt\n",
      "INFO:tensorflow:Restoring parameters from /content/gdrive/My Drive/best_so_far_model.ckpt\n",
      "INFO:tensorflow:Restoring parameters from /content/gdrive/My Drive/best_so_far_model.ckpt\n",
      "INFO:tensorflow:Restoring parameters from /content/gdrive/My Drive/best_so_far_model.ckpt\n",
      "        \n",
      "        \n",
      "\n",
      "Text\n",
      "  Word Ids:    [0, 143, 14, 150, 138, 636, 637, 36, 37, 5, 3, 3]\n",
      "  Input Words: do you want to play tennis with us ?\n",
      "\n",
      "Summary\n",
      "  Word Ids:       [715, 716, 27, 717, 44]\n",
      "  Response Words: vols jugar a tennis amb\n",
      " Ground Truth: vols jugar a tennis amb nosaltres ?\n",
      "        \n",
      "        \n",
      "INFO:tensorflow:Restoring parameters from /content/gdrive/My Drive/best_so_far_model.ckpt\n",
      "INFO:tensorflow:Restoring parameters from /content/gdrive/My Drive/best_so_far_model.ckpt\n",
      "INFO:tensorflow:Restoring parameters from /content/gdrive/My Drive/best_so_far_model.ckpt\n",
      "INFO:tensorflow:Restoring parameters from /content/gdrive/My Drive/best_so_far_model.ckpt\n",
      "INFO:tensorflow:Restoring parameters from /content/gdrive/My Drive/best_so_far_model.ckpt\n",
      "INFO:tensorflow:Restoring parameters from /content/gdrive/My Drive/best_so_far_model.ckpt\n",
      "INFO:tensorflow:Restoring parameters from /content/gdrive/My Drive/best_so_far_model.ckpt\n",
      "INFO:tensorflow:Restoring parameters from /content/gdrive/My Drive/best_so_far_model.ckpt\n",
      "INFO:tensorflow:Restoring parameters from /content/gdrive/My Drive/best_so_far_model.ckpt\n",
      "INFO:tensorflow:Restoring parameters from /content/gdrive/My Drive/best_so_far_model.ckpt\n",
      "INFO:tensorflow:Restoring parameters from /content/gdrive/My Drive/best_so_far_model.ckpt\n",
      "INFO:tensorflow:Restoring parameters from /content/gdrive/My Drive/best_so_far_model.ckpt\n",
      "INFO:tensorflow:Restoring parameters from /content/gdrive/My Drive/best_so_far_model.ckpt\n",
      "INFO:tensorflow:Restoring parameters from /content/gdrive/My Drive/best_so_far_model.ckpt\n",
      "INFO:tensorflow:Restoring parameters from /content/gdrive/My Drive/best_so_far_model.ckpt\n",
      "INFO:tensorflow:Restoring parameters from /content/gdrive/My Drive/best_so_far_model.ckpt\n",
      "INFO:tensorflow:Restoring parameters from /content/gdrive/My Drive/best_so_far_model.ckpt\n",
      "INFO:tensorflow:Restoring parameters from /content/gdrive/My Drive/best_so_far_model.ckpt\n",
      "INFO:tensorflow:Restoring parameters from /content/gdrive/My Drive/best_so_far_model.ckpt\n",
      "INFO:tensorflow:Restoring parameters from /content/gdrive/My Drive/best_so_far_model.ckpt\n",
      "INFO:tensorflow:Restoring parameters from /content/gdrive/My Drive/best_so_far_model.ckpt\n",
      "INFO:tensorflow:Restoring parameters from /content/gdrive/My Drive/best_so_far_model.ckpt\n",
      "INFO:tensorflow:Restoring parameters from /content/gdrive/My Drive/best_so_far_model.ckpt\n",
      "INFO:tensorflow:Restoring parameters from /content/gdrive/My Drive/best_so_far_model.ckpt\n",
      "INFO:tensorflow:Restoring parameters from /content/gdrive/My Drive/best_so_far_model.ckpt\n",
      "INFO:tensorflow:Restoring parameters from /content/gdrive/My Drive/best_so_far_model.ckpt\n",
      "INFO:tensorflow:Restoring parameters from /content/gdrive/My Drive/best_so_far_model.ckpt\n",
      "INFO:tensorflow:Restoring parameters from /content/gdrive/My Drive/best_so_far_model.ckpt\n",
      "INFO:tensorflow:Restoring parameters from /content/gdrive/My Drive/best_so_far_model.ckpt\n",
      "INFO:tensorflow:Restoring parameters from /content/gdrive/My Drive/best_so_far_model.ckpt\n",
      "INFO:tensorflow:Restoring parameters from /content/gdrive/My Drive/best_so_far_model.ckpt\n",
      "INFO:tensorflow:Restoring parameters from /content/gdrive/My Drive/best_so_far_model.ckpt\n",
      "INFO:tensorflow:Restoring parameters from /content/gdrive/My Drive/best_so_far_model.ckpt\n",
      "INFO:tensorflow:Restoring parameters from /content/gdrive/My Drive/best_so_far_model.ckpt\n",
      "INFO:tensorflow:Restoring parameters from /content/gdrive/My Drive/best_so_far_model.ckpt\n",
      "INFO:tensorflow:Restoring parameters from /content/gdrive/My Drive/best_so_far_model.ckpt\n",
      "\n",
      "...prepare evaluation finished.\n"
     ]
    }
   ],
   "source": [
    "\n",
    "#random = np.random.randint(0,3000)\n",
    "#text = news_texts_filtered[random]\n",
    "model_predictions = []\n",
    "ground_truth = []\n",
    "invalid_number_prediction_count = []\n",
    "checkpoint = logs_path + 'best_so_far_model.ckpt' \n",
    "print(\"\\n----Prepare evaluation\")\n",
    "for ii in range(99):\n",
    "    random = np.random.randint(410,513)\n",
    "    text = news_texts_filtered[random]\n",
    "\n",
    "    #random = np.random.randint(3000,len(news_texts_filtered))\n",
    "        \n",
    "    loaded_graph = tf.Graph()\n",
    "    with tf.Session(graph=loaded_graph) as sess:\n",
    "                  loader = tf.train.import_meta_graph(checkpoint + '.meta')\n",
    "                  loader.restore(sess, checkpoint)\n",
    "                  input_data = loaded_graph.get_tensor_by_name('input_data:0')\n",
    "                  logits = loaded_graph.get_tensor_by_name('predictions:0')\n",
    "                  text_length = loaded_graph.get_tensor_by_name('text_len:0')\n",
    "                  summary_length = loaded_graph.get_tensor_by_name('summary_len:0')\n",
    "                  keep_prob = loaded_graph.get_tensor_by_name('dropout_probs:0')\n",
    "                  result_logits = sess.run(logits, {input_data: [text]*batch_size, \n",
    "                  summary_length: [np.random.randint(5,8)], \n",
    "                  text_length: [len(text)]*batch_size,\n",
    "                  keep_prob: 1.0})[0] \n",
    "\n",
    "    \n",
    "                  \n",
    "                  O=\" \".join(int2word[i] for i in result_logits if i not in tokens_id)\n",
    "                  Y=\" \".join(int2word[i] for i in news_summaries_filtered[random] if i not in tokens_id)\n",
    "                  if mean_absolute_error_texts([Y],[O]) >90.00:\n",
    "                     print('        ')\n",
    "                     print('        ')\n",
    "                     #print('\\nOriginal Text:', input_sentence)\n",
    "\n",
    "                     print('\\nText')\n",
    "                     print('  Word Ids:    {}'.format([i for i in text]))\n",
    "                     print('  Input Words: {}'.format(\" \".join( int2wordx[i] for i in text if i not in tokens_id)))\n",
    "\n",
    "                     print('\\nSummary')\n",
    "                     print('  Word Ids:       {}'.format([i for i in result_logits if i not in tokens_id]))\n",
    "                     print('  Response Words: {}'.format(\" \".join(int2word[i] for i in result_logits if i not in tokens_id)))\n",
    "                     print(' Ground Truth: {}'.format(\" \".join(int2word[i] for i in news_summaries_filtered[random] if i not in tokens_id)))\n",
    "                     print('        ')\n",
    "                     print('        ')\n",
    " \n",
    "model_predictions.append(result_logits)\n",
    "ground_truth.append(news_summaries_filtered[random])         \n",
    "print('\\n...prepare evaluation finished.')"
   ]
  },
  {
   "cell_type": "code",
   "execution_count": 69,
   "metadata": {
    "colab": {
     "base_uri": "https://localhost:8080/",
     "height": 33
    },
    "colab_type": "code",
    "id": "4UN0LwG3r7FP",
    "outputId": "cf95c914-a169-428f-d869-fb49e99101fa"
   },
   "outputs": [
    {
     "name": "stdout",
     "output_type": "stream",
     "text": [
      "Finish \n"
     ]
    }
   ],
   "source": [
    "print(\"Finish \")"
   ]
  }
 ],
 "metadata": {
  "_change_revision": 0,
  "_is_fork": false,
  "colab": {
   "collapsed_sections": [],
   "name": "cat-eng-seq2seq-model.ipynb",
   "provenance": []
  },
  "kernelspec": {
   "display_name": "Python 3",
   "language": "python",
   "name": "python3"
  },
  "language_info": {
   "codemirror_mode": {
    "name": "ipython",
    "version": 3
   },
   "file_extension": ".py",
   "mimetype": "text/x-python",
   "name": "python",
   "nbconvert_exporter": "python",
   "pygments_lexer": "ipython3",
   "version": "3.6.5"
  }
 },
 "nbformat": 4,
 "nbformat_minor": 1
}
